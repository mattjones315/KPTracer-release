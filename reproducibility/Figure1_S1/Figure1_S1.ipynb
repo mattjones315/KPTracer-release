{
 "cells": [
  {
   "cell_type": "markdown",
   "metadata": {},
   "source": [
    "# Figure 1 & S1\n",
    "\n",
    "This notebook provides code for reproducing Figures 1 and S1 from Yang\\*, Jones\\* et al, _bioRxiv_ 2021."
   ]
  },
  {
   "cell_type": "code",
   "execution_count": 1,
   "metadata": {},
   "outputs": [],
   "source": [
    "import os\n",
    "import sys\n",
    "\n",
    "import matplotlib as mpl\n",
    "import matplotlib.pyplot as plt \n",
    "import numpy as np\n",
    "import pandas as pd \n",
    "import seaborn as sns\n",
    "\n",
    "import cassiopeia.ProcessingPipeline.process.lineageGroup as lg_util\n",
    "import cassiopeia.TreeSolver.utilities as util\n",
    "\n",
    "from tqdm import tqdm_notebook"
   ]
  },
  {
   "cell_type": "markdown",
   "metadata": {},
   "source": [
    "## Process unfiltered allele table & identify consensus intBCs\n",
    "\n",
    "Here we will demonstrate how to convert allele tables into character matrices, filter out \"normal\" cells identified from a lack of Cas9 activity, and subset the full set of intBCs to a small \"consensus\" set observed consistently across tumors from the same clone."
   ]
  },
  {
   "cell_type": "code",
   "execution_count": null,
   "metadata": {},
   "outputs": [],
   "source": [
    "data_directory = \"/path/to/KPTracer-Data/\""
   ]
  },
  {
   "cell_type": "code",
   "execution_count": 2,
   "metadata": {},
   "outputs": [
    {
     "name": "stderr",
     "output_type": "stream",
     "text": [
      "/home/eecs/mattjones/.local/lib/python3.7/site-packages/IPython/core/interactiveshell.py:3166: DtypeWarning: Columns (12) have mixed types.Specify dtype option on import or set low_memory=False.\n",
      "  interactivity=interactivity, compiler=compiler, result=result)\n"
     ]
    }
   ],
   "source": [
    "allele_table_unfiltered = pd.read_csv(f\"{data_directory}/KPTracer.alleleTable.unfiltered.txt\", sep='\\t', index_col = 0)\n",
    "trcr_master = pd.read_csv(f\"{data_directory}/trcr_master.txt\", sep='\\t')\n",
    "meta = pd.read_csv(f\"{data_directory}/KPTracer_meta.csv\", sep=',', index_col = 0)\n",
    "tumor_list = pd.read_csv(f\"{data_directory}/trees/tumor_list.txt\", sep='\\t')"
   ]
  },
  {
   "cell_type": "code",
   "execution_count": 3,
   "metadata": {},
   "outputs": [],
   "source": [
    "def compute_perc_indels(cm):\n",
    "\n",
    "    all_vals = cm.values.ravel()\n",
    "    num_not_missing = len([n for n in all_vals if n != '-'])\n",
    "    num_uncut = len([n for n in all_vals if n == '0'])\n",
    "\n",
    "    return 1.0 - (num_uncut / num_not_missing)\n",
    "\n",
    "def percent_uncut(x):\n",
    "    uncut = 0\n",
    "    for i in x:\n",
    "        if i == '0':\n",
    "            uncut += 1\n",
    "    return uncut / max(1, len([i for i in x if i != '-']))\n",
    "\n",
    "def drop_exhausted_targets(cm, p = 0.98):\n",
    "    \n",
    "    to_drop = []\n",
    "    for col in cm.columns:\n",
    "        states = cm[col].values\n",
    "        uniq_vals = [val for val in states if val != '0' and val != '-']\n",
    "        total_nonmissing = len([val for val in states if val != '-'])\n",
    "        \n",
    "        unique, counts = np.unique(uniq_vals, return_counts=True)\n",
    "        \n",
    "        counts = np.array(counts) / total_nonmissing\n",
    "        \n",
    "        if np.max(counts) >= p:\n",
    "            to_drop.append(col)\n",
    "            \n",
    "    return to_drop"
   ]
  },
  {
   "cell_type": "code",
   "execution_count": 5,
   "metadata": {
    "collapsed": true,
    "jupyter": {
     "outputs_hidden": true
    }
   },
   "outputs": [
    {
     "name": "stderr",
     "output_type": "stream",
     "text": [
      "100%|██████████| 1/1 [00:00<00:00, 28.65it/s]\n",
      "Processing characters: 100%|██████████| 5/5 [00:00<00:00, 1345.10it/s]"
     ]
    },
    {
     "name": "stdout",
     "output_type": "stream",
     "text": [
      "Dropping the following intBCs due to lack of diversity with threshold 0.98: ['ACATTATTAGATAC_r2', 'ACATTATTAGATAC_r3', 'TTACATGCTACCCC_r1', 'TTACATGCTACCCC_r2', 'TTACATGCTACCCC_r3', 'TTTTGTGTTTCATC_r2', 'TTTTGTGTTTCATC_r3', 'ACGTGCAAGGACGC_r1', 'ACGTGCAAGGACGC_r2', 'ACGTGCAAGGACGC_r3']\n"
     ]
    },
    {
     "name": "stderr",
     "output_type": "stream",
     "text": [
      "\n",
      "100%|██████████| 1/1 [00:00<00:00, 37.69it/s]\n",
      "Processing characters: 100%|██████████| 12/12 [00:00<00:00, 3905.61it/s]"
     ]
    },
    {
     "name": "stdout",
     "output_type": "stream",
     "text": [
      "Dropping the following intBCs due to lack of diversity with threshold 0.98: ['ACATCTGCGAGATT_r1', 'ACATCTGCGAGATT_r2', 'ACATTATTAGATAC_r1', 'ACATTATTAGATAC_r2', 'ACATTATTAGATAC_r3', 'ACGTGCAAGGACGC_r2', 'ACGTGCAAGGACGC_r3', 'CTCTTTTCAGTTCA_r1', 'CTCTTTTCAGTTCA_r2', 'GATAGCACAAAACG_r3', 'TCTATACTGACGGA_r1', 'TCTATACTGACGGA_r2', 'TTACATGCTACCCC_r1', 'TTACATGCTACCCC_r2', 'TTTTGTGTTTCATC_r2']\n"
     ]
    },
    {
     "name": "stderr",
     "output_type": "stream",
     "text": [
      "\n",
      "100%|██████████| 1/1 [00:00<00:00, 164.70it/s]\n",
      "Processing characters: 0it [00:00, ?it/s]\n",
      "Processing characters: 100%|██████████| 12/12 [00:00<00:00, 112851.23it/s]\n",
      "100%|██████████| 1/1 [00:00<00:00, 92.43it/s]\n",
      "Processing characters: 100%|██████████| 32/32 [00:00<00:00, 36531.77it/s]\n"
     ]
    },
    {
     "name": "stdout",
     "output_type": "stream",
     "text": [
      "Dropping the following intBCs due to lack of diversity with threshold 0.98: ['ACATTATTAGATAC_r1', 'ACATTATTAGATAC_r2', 'ACATTATTAGATAC_r3', 'ACGTGCAAGGACGC_r1', 'ACGTGCAAGGACGC_r2', 'ACGTGCAAGGACGC_r3', 'TTACATGCTACCCC_r1', 'TTACATGCTACCCC_r2', 'TTACATGCTACCCC_r3', 'TTTTGTGTTTCATC_r1', 'TTTTGTGTTTCATC_r2', 'TTTTGTGTTTCATC_r3']\n",
      "Dropping the following intBCs due to lack of diversity with threshold 1.0: []\n",
      "Dropping the following intBCs due to lack of diversity with threshold 0.98: ['ACGTGCAAGGACGC_r3']\n"
     ]
    },
    {
     "name": "stderr",
     "output_type": "stream",
     "text": [
      "100%|██████████| 1/1 [00:00<00:00, 74.30it/s]\n",
      "Processing characters: 100%|██████████| 39/39 [00:00<00:00, 4752.41it/s]"
     ]
    },
    {
     "name": "stdout",
     "output_type": "stream",
     "text": [
      "Dropping the following intBCs due to lack of diversity with threshold 0.98: ['GATAGCACAAAACG_r3', 'TCAGGCGATGCGAA_r2', 'TCAGGCGATGCGAA_r3', 'TTCCCTATTTGCTA_r1', 'GCCTACTTAAGTCC_r1', 'GCCTACTTAAGTCC_r2', 'GCCTACTTAAGTCC_r3', 'TGTGAAGGTCAATA_r1', 'TGTGAAGGTCAATA_r2', 'TGTGAAGGTCAATA_r3', 'TATGATTAGTCGCG_r1', 'TATGATTAGTCGCG_r2', 'TATGATTAGTCGCG_r3', 'ACTCTGCTCCAGAT_r2', 'ACTCTGCTCCAGAT_r3', 'ACAGGTGCTCAAAT_r1', 'ACAGGTGCTCAAAT_r2', 'ACAGGTGCTCAAAT_r3']\n"
     ]
    },
    {
     "name": "stderr",
     "output_type": "stream",
     "text": [
      "\n",
      "100%|██████████| 1/1 [00:00<00:00, 90.27it/s]\n",
      "Processing characters: 100%|██████████| 32/32 [00:00<00:00, 9184.19it/s]"
     ]
    },
    {
     "name": "stdout",
     "output_type": "stream",
     "text": [
      "Dropping the following intBCs due to lack of diversity with threshold 0.98: ['ACAGGTGCTCAAAT_r1', 'ACAGGTGCTCAAAT_r2', 'ACAGGTGCTCAAAT_r3', 'CTCTTTTCAGTTCA_r1', 'CTCTTTTCAGTTCA_r2', 'GTTTATTTCCGTAT_r1', 'GTTTATTTCCGTAT_r2', 'TCAGGCGATGCGAA_r2', 'TCAGGCGATGCGAA_r3', 'GCCTACTTAAGTCC_r1', 'GCCTACTTAAGTCC_r2', 'GCCTACTTAAGTCC_r3', 'TATGATTAGTCGCG_r1', 'TATGATTAGTCGCG_r2', 'TATGATTAGTCGCG_r3', 'TGTGAAGGTCAATA_r1', 'TGTGAAGGTCAATA_r2', 'TGTGAAGGTCAATA_r3', 'TTCCCTATTTGCTA_r1']\n"
     ]
    },
    {
     "name": "stderr",
     "output_type": "stream",
     "text": [
      "\n",
      "100%|██████████| 1/1 [00:00<00:00, 89.57it/s]\n",
      "Processing characters: 100%|██████████| 27/27 [00:00<00:00, 38427.62it/s]\n"
     ]
    },
    {
     "name": "stdout",
     "output_type": "stream",
     "text": [
      "Dropping the following intBCs due to lack of diversity with threshold 0.98: ['GTTTATTTCCGTAT_r1', 'GTTTATTTCCGTAT_r2', 'TATGCCGCCAGTTT_r2', 'TTTTGTGTTTCATC_r2', 'TTTTGTGTTTCATC_r3', 'GCCTACTTAAGTCC_r1', 'GCCTACTTAAGTCC_r2', 'GCCTACTTAAGTCC_r3', 'TGTGAAGGTCAATA_r1', 'TGTGAAGGTCAATA_r2', 'TGTGAAGGTCAATA_r3', 'TCAGGCGATGCGAA_r2', 'TCAGGCGATGCGAA_r3', 'TTCCCTATTTGCTA_r1', 'TTCCCTATTTGCTA_r2']\n"
     ]
    },
    {
     "name": "stderr",
     "output_type": "stream",
     "text": [
      "100%|██████████| 1/1 [00:00<00:00, 81.12it/s]\n",
      "Processing characters: 100%|██████████| 21/21 [00:00<00:00, 6234.46it/s]"
     ]
    },
    {
     "name": "stdout",
     "output_type": "stream",
     "text": [
      "Dropping the following intBCs due to lack of diversity with threshold 0.98: ['ACATCTGCGAGATT_r1', 'ACATCTGCGAGATT_r2', 'GCCTACTTAAGTCC_r1', 'GCCTACTTAAGTCC_r2', 'GCCTACTTAAGTCC_r3', 'TATGCCGCCAGTTT_r1', 'TATGCCGCCAGTTT_r2', 'TGTGAAGGTCAATA_r1', 'TGTGAAGGTCAATA_r2', 'TGTGAAGGTCAATA_r3', 'TTACATGCTACCCC_r2', 'TTTTGTGTTTCATC_r1', 'TTTTGTGTTTCATC_r2', 'GTTTATTTCCGTAT_r1', 'GTTTATTTCCGTAT_r2', 'TCAGGCGATGCGAA_r2', 'TCAGGCGATGCGAA_r3', 'TCTATACTGACGGA_r2', 'TATGATTAGTCGCG_r1', 'TATGATTAGTCGCG_r2', 'TATGATTAGTCGCG_r3', 'TTCCCTATTTGCTA_r1', 'ACTCTGCTCCAGAT_r2', 'ACTCTGCTCCAGAT_r3', 'ACAGGTGCTCAAAT_r1', 'ACAGGTGCTCAAAT_r2', 'ACAGGTGCTCAAAT_r3']\n"
     ]
    },
    {
     "name": "stderr",
     "output_type": "stream",
     "text": [
      "\n",
      "100%|██████████| 1/1 [00:00<00:00, 31.44it/s]\n",
      "Processing characters: 100%|██████████| 5/5 [00:00<00:00, 864.84it/s]"
     ]
    },
    {
     "name": "stdout",
     "output_type": "stream",
     "text": [
      "Dropping the following intBCs due to lack of diversity with threshold 0.98: ['ACATCTGCGAGATT_r1', 'ACATCTGCGAGATT_r2', 'ACATCTGCGAGATT_r3', 'ACATTATTAGATAC_r1', 'ACATTATTAGATAC_r2', 'ACGTGCAAGGACGC_r1', 'ACGTGCAAGGACGC_r2', 'ACGTGCAAGGACGC_r3', 'CTCTTTTCAGTTCA_r1', 'CTCTTTTCAGTTCA_r2', 'CTCTTTTCAGTTCA_r3', 'GTGCAAGCCTTATC_r1', 'GTGCAAGCCTTATC_r2', 'TATGCCGCCAGTTT_r1', 'TATGCCGCCAGTTT_r2', 'TATGCCGCCAGTTT_r3', 'TTACATGCTACCCC_r1', 'TTACATGCTACCCC_r2', 'TTACATGCTACCCC_r3']\n"
     ]
    },
    {
     "name": "stderr",
     "output_type": "stream",
     "text": [
      "\n",
      "100%|██████████| 1/1 [00:00<00:00, 31.68it/s]\n",
      "Processing characters: 100%|██████████| 33/33 [00:00<00:00, 1496.75it/s]"
     ]
    },
    {
     "name": "stdout",
     "output_type": "stream",
     "text": [
      "Dropping the following intBCs due to lack of diversity with threshold 0.98: []\n"
     ]
    },
    {
     "name": "stderr",
     "output_type": "stream",
     "text": [
      "\n",
      "100%|██████████| 1/1 [00:00<00:00, 35.88it/s]\n",
      "Processing characters: 100%|██████████| 9/9 [00:00<00:00, 737.44it/s]"
     ]
    },
    {
     "name": "stdout",
     "output_type": "stream",
     "text": [
      "Dropping the following intBCs due to lack of diversity with threshold 0.98: ['ACATTATTAGATAC_r1', 'ACATTATTAGATAC_r2', 'ACGTGCAAGGACGC_r1', 'ACGTGCAAGGACGC_r2', 'CTCTTTTCAGTTCA_r1', 'CTCTTTTCAGTTCA_r2', 'CTCTTTTCAGTTCA_r3', 'TTTTGTGTTTCATC_r2', 'TCTATACTGACGGA_r1']\n"
     ]
    },
    {
     "name": "stderr",
     "output_type": "stream",
     "text": [
      "\n",
      "100%|██████████| 1/1 [00:00<00:00, 33.77it/s]\n",
      "Processing characters: 100%|██████████| 33/33 [00:00<00:00, 1594.11it/s]"
     ]
    },
    {
     "name": "stdout",
     "output_type": "stream",
     "text": [
      "Dropping the following intBCs due to lack of diversity with threshold 0.98: []\n"
     ]
    },
    {
     "name": "stderr",
     "output_type": "stream",
     "text": [
      "\n",
      "100%|██████████| 1/1 [00:00<00:00, 78.20it/s]\n",
      "Processing characters: 100%|██████████| 33/33 [00:00<00:00, 6286.31it/s]"
     ]
    },
    {
     "name": "stdout",
     "output_type": "stream",
     "text": [
      "Dropping the following intBCs due to lack of diversity with threshold 0.98: []\n"
     ]
    },
    {
     "name": "stderr",
     "output_type": "stream",
     "text": [
      "\n",
      "100%|██████████| 1/1 [00:00<00:00, 63.75it/s]\n",
      "Processing characters: 100%|██████████| 33/33 [00:00<00:00, 6166.99it/s]"
     ]
    },
    {
     "name": "stdout",
     "output_type": "stream",
     "text": [
      "Dropping the following intBCs due to lack of diversity with threshold 0.98: []\n"
     ]
    },
    {
     "name": "stderr",
     "output_type": "stream",
     "text": [
      "\n",
      "100%|██████████| 1/1 [00:00<00:00, 76.49it/s]\n",
      "Processing characters: 100%|██████████| 23/23 [00:00<00:00, 11650.84it/s]\n"
     ]
    },
    {
     "name": "stdout",
     "output_type": "stream",
     "text": [
      "Dropping the following intBCs due to lack of diversity with threshold 0.98: ['ACGTGCAAGGACGC_r1', 'ACGTGCAAGGACGC_r2', 'CTCTTTTCAGTTCA_r1', 'CTCTTTTCAGTTCA_r2', 'CTGAAACAGGTTTA_r1', 'CTGAAACAGGTTTA_r2', 'GTGCAAGCCTTATC_r3', 'TTACATGCTACCCC_r1', 'TTACATGCTACCCC_r2', 'TTTTGTGTTTCATC_r1']\n"
     ]
    },
    {
     "name": "stderr",
     "output_type": "stream",
     "text": [
      "100%|██████████| 1/1 [00:00<00:00, 100.48it/s]\n",
      "Processing characters: 100%|██████████| 4/4 [00:00<00:00, 1571.05it/s]"
     ]
    },
    {
     "name": "stdout",
     "output_type": "stream",
     "text": [
      "Dropping the following intBCs due to lack of diversity with threshold 0.98: ['ACATTATTAGATAC_r1', 'ACATTATTAGATAC_r2', 'ACATTATTAGATAC_r3', 'ACGTGCAAGGACGC_r2', 'ACGTGCAAGGACGC_r3', 'CTCTTTTCAGTTCA_r1', 'CTCTTTTCAGTTCA_r2', 'CTCTTTTCAGTTCA_r3', 'TCTATACTGACGGA_r1', 'TCTATACTGACGGA_r2', 'TCTATACTGACGGA_r3', 'TTACATGCTACCCC_r1', 'TTACATGCTACCCC_r2', 'TTACATGCTACCCC_r3', 'TTTTGTGTTTCATC_r1', 'TTTTGTGTTTCATC_r2', 'TTTTGTGTTTCATC_r3']\n"
     ]
    },
    {
     "name": "stderr",
     "output_type": "stream",
     "text": [
      "\n",
      "100%|██████████| 1/1 [00:00<00:00, 145.73it/s]\n",
      "Processing characters: 0it [00:00, ?it/s]\n",
      "Processing characters: 100%|██████████| 21/21 [00:00<00:00, 13060.56it/s]\n"
     ]
    },
    {
     "name": "stdout",
     "output_type": "stream",
     "text": [
      "Dropping the following intBCs due to lack of diversity with threshold 0.98: ['ACATCTGCGAGATT_r1', 'ACATCTGCGAGATT_r2', 'ACATCTGCGAGATT_r3', 'ACATTATTAGATAC_r1', 'ACATTATTAGATAC_r2', 'ACATTATTAGATAC_r3', 'ACGTGCAAGGACGC_r1', 'ACGTGCAAGGACGC_r2', 'ACGTGCAAGGACGC_r3', 'CTCTTTTCAGTTCA_r1', 'CTCTTTTCAGTTCA_r2', 'CTCTTTTCAGTTCA_r3', 'TCTATACTGACGGA_r1', 'TCTATACTGACGGA_r2', 'TCTATACTGACGGA_r3', 'TTACATGCTACCCC_r1', 'TTACATGCTACCCC_r2', 'TTACATGCTACCCC_r3', 'TTTTGTGTTTCATC_r1', 'TTTTGTGTTTCATC_r2', 'TTTTGTGTTTCATC_r3']\n",
      "Dropping the following intBCs due to lack of diversity with threshold 1.0: []\n"
     ]
    },
    {
     "name": "stderr",
     "output_type": "stream",
     "text": [
      "100%|██████████| 1/1 [00:00<00:00, 155.05it/s]\n",
      "Processing characters: 100%|██████████| 21/21 [00:00<00:00, 46826.36it/s]\n",
      "100%|██████████| 1/1 [00:00<00:00, 163.15it/s]\n",
      "Processing characters: 100%|██████████| 1/1 [00:00<00:00, 15534.46it/s]\n",
      "  0%|          | 0/1 [00:00<?, ?it/s]"
     ]
    },
    {
     "name": "stdout",
     "output_type": "stream",
     "text": [
      "Dropping the following intBCs due to lack of diversity with threshold 0.98: []\n",
      "Dropping the following intBCs due to lack of diversity with threshold 0.98: ['ACATCTGCGAGATT_r1', 'ACATCTGCGAGATT_r2', 'ACATTATTAGATAC_r1', 'ACATTATTAGATAC_r2', 'ACATTATTAGATAC_r3', 'ACGTGCAAGGACGC_r1', 'ACGTGCAAGGACGC_r2', 'ACGTGCAAGGACGC_r3', 'CTCTTTTCAGTTCA_r1', 'CTCTTTTCAGTTCA_r2', 'CTCTTTTCAGTTCA_r3', 'TCTATACTGACGGA_r1', 'TCTATACTGACGGA_r2', 'TCTATACTGACGGA_r3', 'TTACATGCTACCCC_r1', 'TTACATGCTACCCC_r2', 'TTACATGCTACCCC_r3', 'TTTTGTGTTTCATC_r1', 'TTTTGTGTTTCATC_r2', 'TTTTGTGTTTCATC_r3']\n"
     ]
    },
    {
     "name": "stderr",
     "output_type": "stream",
     "text": [
      "100%|██████████| 1/1 [00:00<00:00, 114.35it/s]\n",
      "Processing characters: 100%|██████████| 21/21 [00:00<00:00, 2824.27it/s]"
     ]
    },
    {
     "name": "stdout",
     "output_type": "stream",
     "text": [
      "Dropping the following intBCs due to lack of diversity with threshold 0.98: []\n"
     ]
    },
    {
     "name": "stderr",
     "output_type": "stream",
     "text": [
      "\n",
      "100%|██████████| 1/1 [00:00<00:00, 157.43it/s]\n",
      "Processing characters: 100%|██████████| 3/3 [00:00<00:00, 21326.97it/s]\n",
      "100%|██████████| 1/1 [00:00<00:00, 154.26it/s]\n"
     ]
    },
    {
     "name": "stdout",
     "output_type": "stream",
     "text": [
      "Dropping the following intBCs due to lack of diversity with threshold 0.98: ['ACATCTGCGAGATT_r2', 'ACATTATTAGATAC_r1', 'ACATTATTAGATAC_r2', 'ACATTATTAGATAC_r3', 'ACGTGCAAGGACGC_r2', 'ACGTGCAAGGACGC_r3', 'CTCTTTTCAGTTCA_r1', 'CTCTTTTCAGTTCA_r2', 'CTCTTTTCAGTTCA_r3', 'TTACATGCTACCCC_r1', 'TTACATGCTACCCC_r2', 'TTACATGCTACCCC_r3', 'TTTTGTGTTTCATC_r1', 'TTTTGTGTTTCATC_r2', 'TTTTGTGTTTCATC_r3', 'TCTATACTGACGGA_r1', 'TCTATACTGACGGA_r2', 'TCTATACTGACGGA_r3']\n"
     ]
    },
    {
     "name": "stderr",
     "output_type": "stream",
     "text": [
      "Processing characters: 100%|██████████| 21/21 [00:00<00:00, 8381.42it/s]\n"
     ]
    },
    {
     "name": "stdout",
     "output_type": "stream",
     "text": [
      "Dropping the following intBCs due to lack of diversity with threshold 0.98: []\n"
     ]
    },
    {
     "name": "stderr",
     "output_type": "stream",
     "text": [
      "100%|██████████| 1/1 [00:00<00:00, 158.05it/s]\n",
      "Processing characters: 100%|██████████| 21/21 [00:00<00:00, 33338.53it/s]\n"
     ]
    },
    {
     "name": "stdout",
     "output_type": "stream",
     "text": [
      "Dropping the following intBCs due to lack of diversity with threshold 0.98: []\n"
     ]
    },
    {
     "name": "stderr",
     "output_type": "stream",
     "text": [
      "100%|██████████| 1/1 [00:00<00:00, 164.84it/s]\n",
      "Processing characters: 100%|██████████| 13/13 [00:00<00:00, 21628.70it/s]\n"
     ]
    },
    {
     "name": "stdout",
     "output_type": "stream",
     "text": [
      "Dropping the following intBCs due to lack of diversity with threshold 0.98: ['TCTATACTGACGGA_r2', 'TCTATACTGACGGA_r3']\n"
     ]
    },
    {
     "name": "stderr",
     "output_type": "stream",
     "text": [
      "100%|██████████| 1/1 [00:00<00:00, 180.91it/s]\n",
      "Processing characters: 0it [00:00, ?it/s]\n",
      "Processing characters: 100%|██████████| 15/15 [00:00<00:00, 178228.22it/s]\n",
      "100%|██████████| 1/1 [00:00<00:00, 85.17it/s]\n"
     ]
    },
    {
     "name": "stdout",
     "output_type": "stream",
     "text": [
      "Dropping the following intBCs due to lack of diversity with threshold 0.98: ['ACATCTGCGAGATT_r1', 'ACATCTGCGAGATT_r2', 'ACATCTGCGAGATT_r3', 'ACATTATTAGATAC_r1', 'ACATTATTAGATAC_r2', 'ACATTATTAGATAC_r3', 'ACGTGCAAGGACGC_r1', 'ACGTGCAAGGACGC_r2', 'ACGTGCAAGGACGC_r3', 'GTGCAAGCCTTATC_r1', 'GTGCAAGCCTTATC_r2', 'GTGCAAGCCTTATC_r3', 'TTACATGCTACCCC_r1', 'TTACATGCTACCCC_r2', 'TTACATGCTACCCC_r3']\n",
      "Dropping the following intBCs due to lack of diversity with threshold 1.0: []\n"
     ]
    },
    {
     "name": "stderr",
     "output_type": "stream",
     "text": [
      "Processing characters: 100%|██████████| 4/4 [00:00<00:00, 2020.38it/s]"
     ]
    },
    {
     "name": "stdout",
     "output_type": "stream",
     "text": [
      "Dropping the following intBCs due to lack of diversity with threshold 0.98: ['ACATCTGCGAGATT_r1', 'ACATCTGCGAGATT_r2', 'ACATTATTAGATAC_r1', 'ACATTATTAGATAC_r2', 'ACATTATTAGATAC_r3', 'ACGTGCAAGGACGC_r1', 'ACGTGCAAGGACGC_r2', 'ACGTGCAAGGACGC_r3', 'CTCTTTTCAGTTCA_r1', 'CTCTTTTCAGTTCA_r2', 'CTCTTTTCAGTTCA_r3', 'GTGCAAGCCTTATC_r1', 'GTGCAAGCCTTATC_r2', 'TCTATACTGACGGA_r1', 'TCTATACTGACGGA_r2', 'TTACATGCTACCCC_r1', 'TTACATGCTACCCC_r2']\n"
     ]
    },
    {
     "name": "stderr",
     "output_type": "stream",
     "text": [
      "\n",
      "100%|██████████| 1/1 [00:00<00:00, 106.61it/s]\n",
      "Processing characters: 100%|██████████| 20/20 [00:00<00:00, 3463.65it/s]"
     ]
    },
    {
     "name": "stdout",
     "output_type": "stream",
     "text": [
      "Dropping the following intBCs due to lack of diversity with threshold 0.98: ['GTGCAAGCCTTATC_r2']\n"
     ]
    },
    {
     "name": "stderr",
     "output_type": "stream",
     "text": [
      "\n",
      "100%|██████████| 1/1 [00:00<00:00, 164.97it/s]\n",
      "Processing characters: 100%|██████████| 13/13 [00:00<00:00, 81019.25it/s]\n",
      "100%|██████████| 1/1 [00:00<00:00, 107.28it/s]\n"
     ]
    },
    {
     "name": "stdout",
     "output_type": "stream",
     "text": [
      "Dropping the following intBCs due to lack of diversity with threshold 0.98: ['ACGTGCAAGGACGC_r1', 'GTGCAAGCCTTATC_r2']\n"
     ]
    },
    {
     "name": "stderr",
     "output_type": "stream",
     "text": [
      "Processing characters: 100%|██████████| 21/21 [00:00<00:00, 1743.41it/s]"
     ]
    },
    {
     "name": "stdout",
     "output_type": "stream",
     "text": [
      "Dropping the following intBCs due to lack of diversity with threshold 0.98: []\n"
     ]
    },
    {
     "name": "stderr",
     "output_type": "stream",
     "text": [
      "\n",
      "100%|██████████| 1/1 [00:00<00:00, 141.15it/s]\n",
      "Processing characters: 100%|██████████| 8/8 [00:00<00:00, 10446.59it/s]\n"
     ]
    },
    {
     "name": "stdout",
     "output_type": "stream",
     "text": [
      "Dropping the following intBCs due to lack of diversity with threshold 0.98: ['ACATTATTAGATAC_r2', 'ACGTGCAAGGACGC_r2', 'ACGTGCAAGGACGC_r3', 'TTACATGCTACCCC_r2']\n"
     ]
    },
    {
     "name": "stderr",
     "output_type": "stream",
     "text": [
      "100%|██████████| 1/1 [00:00<00:00, 128.88it/s]\n",
      "Processing characters: 100%|██████████| 8/8 [00:00<00:00, 3076.98it/s]"
     ]
    },
    {
     "name": "stdout",
     "output_type": "stream",
     "text": [
      "Dropping the following intBCs due to lack of diversity with threshold 0.98: ['ACATCTGCGAGATT_r1', 'ACATCTGCGAGATT_r2', 'ACATTATTAGATAC_r1', 'ACATTATTAGATAC_r2', 'ACATTATTAGATAC_r3', 'ACGTGCAAGGACGC_r2', 'ACGTGCAAGGACGC_r3', 'GTGCAAGCCTTATC_r2', 'TTACATGCTACCCC_r2', 'TTACATGCTACCCC_r3']\n"
     ]
    },
    {
     "name": "stderr",
     "output_type": "stream",
     "text": [
      "\n",
      "100%|██████████| 1/1 [00:00<00:00, 110.70it/s]\n",
      "Processing characters: 100%|██████████| 4/4 [00:00<00:00, 14913.08it/s]\n",
      "100%|██████████| 1/1 [00:00<00:00, 117.88it/s]"
     ]
    },
    {
     "name": "stdout",
     "output_type": "stream",
     "text": [
      "Dropping the following intBCs due to lack of diversity with threshold 0.98: ['ACATCTGCGAGATT_r1', 'ACATCTGCGAGATT_r2', 'ACATCTGCGAGATT_r3', 'ACATTATTAGATAC_r1', 'ACATTATTAGATAC_r2', 'ACATTATTAGATAC_r3', 'ACGTGCAAGGACGC_r1', 'ACGTGCAAGGACGC_r2', 'ACGTGCAAGGACGC_r3', 'CTCTTTTCAGTTCA_r1', 'CTCTTTTCAGTTCA_r2', 'CTCTTTTCAGTTCA_r3', 'GTGCAAGCCTTATC_r2', 'GTGCAAGCCTTATC_r3', 'TATGCCGCCAGTTT_r1', 'TATGCCGCCAGTTT_r2', 'TATGCCGCCAGTTT_r3', 'TTACATGCTACCCC_r1', 'TTACATGCTACCCC_r2', 'TTACATGCTACCCC_r3', 'GATAGCACAAAACG_r1', 'GATAGCACAAAACG_r2', 'GATAGCACAAAACG_r3']\n"
     ]
    },
    {
     "name": "stderr",
     "output_type": "stream",
     "text": [
      "\n",
      "Processing characters: 100%|██████████| 8/8 [00:00<00:00, 30366.00it/s]\n",
      "100%|██████████| 1/1 [00:00<00:00, 124.17it/s]\n",
      "Processing characters: 100%|██████████| 1/1 [00:00<00:00, 14217.98it/s]\n",
      "100%|██████████| 1/1 [00:00<00:00, 122.35it/s]"
     ]
    },
    {
     "name": "stdout",
     "output_type": "stream",
     "text": [
      "Dropping the following intBCs due to lack of diversity with threshold 0.98: ['ACATCTGCGAGATT_r1', 'ACATCTGCGAGATT_r2', 'ACATCTGCGAGATT_r3', 'ACGTGCAAGGACGC_r1', 'ACGTGCAAGGACGC_r2', 'ACGTGCAAGGACGC_r3', 'CTCTTTTCAGTTCA_r1', 'CTCTTTTCAGTTCA_r2', 'CTCTTTTCAGTTCA_r3', 'GTGCAAGCCTTATC_r2', 'GTGCAAGCCTTATC_r3', 'TCTATACTGACGGA_r2', 'TCTATACTGACGGA_r3', 'TTACATGCTACCCC_r1', 'TTACATGCTACCCC_r2', 'TTACATGCTACCCC_r3', 'GATAGCACAAAACG_r1', 'GATAGCACAAAACG_r2', 'GATAGCACAAAACG_r3', 'TTTTGTGTTTCATC_r1', 'TTTTGTGTTTCATC_r2', 'TTTTGTGTTTCATC_r3']\n",
      "Dropping the following intBCs due to lack of diversity with threshold 0.98: ['ACATCTGCGAGATT_r1', 'ACATCTGCGAGATT_r2', 'ACATCTGCGAGATT_r3', 'ACGTGCAAGGACGC_r1', 'ACGTGCAAGGACGC_r2', 'ACGTGCAAGGACGC_r3', 'CTCTTTTCAGTTCA_r1', 'CTCTTTTCAGTTCA_r2', 'CTCTTTTCAGTTCA_r3', 'GTGCAAGCCTTATC_r1', 'GTGCAAGCCTTATC_r2', 'GTGCAAGCCTTATC_r3', 'TCTATACTGACGGA_r2', 'TCTATACTGACGGA_r3', 'TTACATGCTACCCC_r1', 'TTACATGCTACCCC_r2', 'TTACATGCTACCCC_r3', 'TTTTGTGTTTCATC_r1', 'TTTTGTGTTTCATC_r2', 'TTTTGTGTTTCATC_r3', 'GATAGCACAAAACG_r1', 'GATAGCACAAAACG_r2', 'GATAGCACAAAACG_r3']\n"
     ]
    },
    {
     "name": "stderr",
     "output_type": "stream",
     "text": [
      "\n",
      "Processing characters: 100%|██████████| 4/4 [00:00<00:00, 31184.42it/s]\n",
      "100%|██████████| 1/1 [00:00<00:00, 78.59it/s]\n"
     ]
    },
    {
     "name": "stdout",
     "output_type": "stream",
     "text": [
      "Dropping the following intBCs due to lack of diversity with threshold 0.98: ['ACATCTGCGAGATT_r1', 'ACATCTGCGAGATT_r2', 'ACATCTGCGAGATT_r3', 'ACATTATTAGATAC_r2', 'ACATTATTAGATAC_r3', 'ACGTGCAAGGACGC_r1', 'ACGTGCAAGGACGC_r2', 'ACGTGCAAGGACGC_r3', 'CTCTTTTCAGTTCA_r1', 'CTCTTTTCAGTTCA_r2', 'CTCTTTTCAGTTCA_r3', 'GATAGCACAAAACG_r1', 'GATAGCACAAAACG_r2', 'GATAGCACAAAACG_r3', 'GTGCAAGCCTTATC_r1', 'GTGCAAGCCTTATC_r2', 'GTGCAAGCCTTATC_r3', 'TATGCCGCCAGTTT_r1', 'TATGCCGCCAGTTT_r2', 'TATGCCGCCAGTTT_r3', 'TTACATGCTACCCC_r1', 'TTACATGCTACCCC_r2', 'TTACATGCTACCCC_r3']\n"
     ]
    },
    {
     "name": "stderr",
     "output_type": "stream",
     "text": [
      "Processing characters: 100%|██████████| 27/27 [00:00<00:00, 2723.31it/s]"
     ]
    },
    {
     "name": "stdout",
     "output_type": "stream",
     "text": [
      "Dropping the following intBCs due to lack of diversity with threshold 0.98: ['GCCTACTTAAGTCC_r1', 'GCCTACTTAAGTCC_r2', 'GCCTACTTAAGTCC_r3', 'TGTGAAGGTCAATA_r1', 'TGTGAAGGTCAATA_r2', 'TGTGAAGGTCAATA_r3', 'TTACATGCTACCCC_r1', 'TTACATGCTACCCC_r2', 'GTTTATTTCCGTAT_r1', 'GTTTATTTCCGTAT_r2', 'TATGATTAGTCGCG_r1', 'TATGATTAGTCGCG_r2', 'TATGATTAGTCGCG_r3', 'TCAGGCGATGCGAA_r2', 'TCAGGCGATGCGAA_r3']\n"
     ]
    },
    {
     "name": "stderr",
     "output_type": "stream",
     "text": [
      "\n",
      "100%|██████████| 1/1 [00:00<00:00, 95.30it/s]\n",
      "Processing characters: 100%|██████████| 25/25 [00:00<00:00, 6198.36it/s]"
     ]
    },
    {
     "name": "stdout",
     "output_type": "stream",
     "text": [
      "Dropping the following intBCs due to lack of diversity with threshold 0.98: ['TGTGAAGGTCAATA_r1', 'TGTGAAGGTCAATA_r2', 'TGTGAAGGTCAATA_r3', 'GCCTACTTAAGTCC_r1', 'GCCTACTTAAGTCC_r2', 'GCCTACTTAAGTCC_r3', 'TATGATTAGTCGCG_r1', 'TATGATTAGTCGCG_r2', 'TATGATTAGTCGCG_r3', 'TCAGGCGATGCGAA_r2', 'TCAGGCGATGCGAA_r3', 'TTCCCTATTTGCTA_r1', 'GTTTATTTCCGTAT_r1', 'GTTTATTTCCGTAT_r2', 'ACAGGTGCTCAAAT_r1', 'ACAGGTGCTCAAAT_r2', 'ACAGGTGCTCAAAT_r3']\n"
     ]
    },
    {
     "name": "stderr",
     "output_type": "stream",
     "text": [
      "\n",
      "100%|██████████| 1/1 [00:00<00:00, 96.96it/s]\n",
      "Processing characters: 100%|██████████| 15/15 [00:00<00:00, 5185.41it/s]"
     ]
    },
    {
     "name": "stdout",
     "output_type": "stream",
     "text": [
      "Dropping the following intBCs due to lack of diversity with threshold 0.98: ['CTCTTTTCAGTTCA_r1', 'CTCTTTTCAGTTCA_r2', 'TATGCCGCCAGTTT_r1', 'TATGCCGCCAGTTT_r2', 'TTACATGCTACCCC_r3', 'GCCTACTTAAGTCC_r1', 'GCCTACTTAAGTCC_r2', 'GCCTACTTAAGTCC_r3', 'ACAGGTGCTCAAAT_r1', 'ACAGGTGCTCAAAT_r2', 'ACAGGTGCTCAAAT_r3', 'TATGATTAGTCGCG_r1', 'TATGATTAGTCGCG_r2', 'TATGATTAGTCGCG_r3', 'TGTGAAGGTCAATA_r1', 'TGTGAAGGTCAATA_r2', 'TGTGAAGGTCAATA_r3', 'TCAGGCGATGCGAA_r2', 'TCAGGCGATGCGAA_r3', 'GTTTATTTCCGTAT_r1', 'GTTTATTTCCGTAT_r2']\n"
     ]
    },
    {
     "name": "stderr",
     "output_type": "stream",
     "text": [
      "\n",
      "100%|██████████| 1/1 [00:00<00:00, 101.60it/s]\n",
      "Processing characters: 100%|██████████| 15/15 [00:00<00:00, 6550.87it/s]"
     ]
    },
    {
     "name": "stdout",
     "output_type": "stream",
     "text": [
      "Dropping the following intBCs due to lack of diversity with threshold 0.98: ['ACATCTGCGAGATT_r1', 'ACATCTGCGAGATT_r2', 'ACATCTGCGAGATT_r3', 'ACGTGCAAGGACGC_r1', 'ACGTGCAAGGACGC_r2', 'ACGTGCAAGGACGC_r3', 'CTCTTTTCAGTTCA_r2', 'GTGCAAGCCTTATC_r2', 'TCTATACTGACGGA_r2', 'TCTATACTGACGGA_r3', 'TTACATGCTACCCC_r2', 'TTTTGTGTTTCATC_r2', 'TTTTGTGTTTCATC_r3', 'GATAGCACAAAACG_r1', 'GATAGCACAAAACG_r2']\n"
     ]
    },
    {
     "name": "stderr",
     "output_type": "stream",
     "text": [
      "\n",
      "100%|██████████| 1/1 [00:00<00:00, 105.49it/s]\n",
      "Processing characters: 100%|██████████| 26/26 [00:00<00:00, 9581.93it/s]\n"
     ]
    },
    {
     "name": "stdout",
     "output_type": "stream",
     "text": [
      "Dropping the following intBCs due to lack of diversity with threshold 0.98: ['GCCTACTTAAGTCC_r1', 'GCCTACTTAAGTCC_r2', 'GCCTACTTAAGTCC_r3', 'GTTTATTTCCGTAT_r1', 'GTTTATTTCCGTAT_r2', 'TATGATTAGTCGCG_r1', 'TATGATTAGTCGCG_r2', 'TATGATTAGTCGCG_r3', 'TCAGGCGATGCGAA_r2', 'TCAGGCGATGCGAA_r3', 'TGTGAAGGTCAATA_r1', 'TGTGAAGGTCAATA_r2', 'TGTGAAGGTCAATA_r3']\n"
     ]
    },
    {
     "name": "stderr",
     "output_type": "stream",
     "text": [
      "100%|██████████| 1/1 [00:00<00:00, 80.88it/s]\n",
      "Processing characters: 100%|██████████| 18/18 [00:00<00:00, 4273.60it/s]"
     ]
    },
    {
     "name": "stdout",
     "output_type": "stream",
     "text": [
      "Dropping the following intBCs due to lack of diversity with threshold 0.98: []\n"
     ]
    },
    {
     "name": "stderr",
     "output_type": "stream",
     "text": [
      "\n",
      "100%|██████████| 1/1 [00:00<00:00, 69.89it/s]\n",
      "Processing characters: 100%|██████████| 31/31 [00:00<00:00, 8374.56it/s]"
     ]
    },
    {
     "name": "stdout",
     "output_type": "stream",
     "text": [
      "Dropping the following intBCs due to lack of diversity with threshold 0.98: ['CTCTTTTAAGTTCA_r1', 'CTCTTTTAAGTTCA_r3']\n"
     ]
    },
    {
     "name": "stderr",
     "output_type": "stream",
     "text": [
      "\n",
      "100%|██████████| 1/1 [00:00<00:00, 106.43it/s]\n",
      "Processing characters: 100%|██████████| 10/10 [00:00<00:00, 2937.60it/s]"
     ]
    },
    {
     "name": "stdout",
     "output_type": "stream",
     "text": [
      "Dropping the following intBCs due to lack of diversity with threshold 0.98: ['ACATCTGCGAGATT_r1', 'ACATTATTAGATAC_r1', 'ACATTATTAGATAC_r2', 'ACATTATTAGATAC_r3', 'ACGTGCAAGGACGC_r1', 'ACGTGCAAGGACGC_r2', 'ACGTGCAAGGACGC_r3', 'CTCTTTTCAGTTCA_r1', 'CTCTTTTCAGTTCA_r2', 'CTCTTTTCAGTTCA_r3', 'GTGCAAGCCTTATC_r2', 'GTGCAAGCCTTATC_r3', 'TATGCCGCCAGTTT_r1', 'TATGCCGCCAGTTT_r2', 'TATGCCGCCAGTTT_r3', 'TCTATACTGACGGA_r2', 'TCTATACTGACGGA_r3']\n"
     ]
    },
    {
     "name": "stderr",
     "output_type": "stream",
     "text": [
      "\n",
      "100%|██████████| 1/1 [00:00<00:00, 146.49it/s]\n",
      "Processing characters: 100%|██████████| 7/7 [00:00<00:00, 30143.87it/s]\n",
      "100%|██████████| 1/1 [00:00<00:00, 154.84it/s]\n",
      "Processing characters: 100%|██████████| 27/27 [00:00<00:00, 38284.72it/s]\n"
     ]
    },
    {
     "name": "stdout",
     "output_type": "stream",
     "text": [
      "Dropping the following intBCs due to lack of diversity with threshold 0.98: ['ACATCTGCGAGATT_r1', 'ACATTATTAGATAC_r1', 'ACATTATTAGATAC_r2', 'ACATTATTAGATAC_r3', 'CTCTTTTCAGTTCA_r1', 'CTCTTTTCAGTTCA_r2', 'CTCTTTTCAGTTCA_r3', 'GTGCAAGCCTTATC_r2', 'GTGCAAGCCTTATC_r3', 'TATGCCGCCAGTTT_r1', 'TATGCCGCCAGTTT_r2', 'TATGCCGCCAGTTT_r3', 'TTACATGCTACCCC_r2', 'TTTTGTGTTTCATC_r1', 'ACGTGCAAGGACGC_r1', 'ACGTGCAAGGACGC_r2', 'ACGTGCAAGGACGC_r3', 'TCTATACTGACGGA_r1', 'TCTATACTGACGGA_r2', 'TCTATACTGACGGA_r3']\n",
      "Dropping the following intBCs due to lack of diversity with threshold 0.98: []\n"
     ]
    },
    {
     "name": "stderr",
     "output_type": "stream",
     "text": [
      "100%|██████████| 1/1 [00:00<00:00, 155.61it/s]\n",
      "Processing characters: 100%|██████████| 3/3 [00:00<00:00, 28086.86it/s]\n",
      "100%|██████████| 1/1 [00:00<00:00, 154.12it/s]\n",
      "Processing characters: 100%|██████████| 6/6 [00:00<00:00, 28371.84it/s]\n",
      "100%|██████████| 1/1 [00:00<00:00, 143.62it/s]\n"
     ]
    },
    {
     "name": "stdout",
     "output_type": "stream",
     "text": [
      "Dropping the following intBCs due to lack of diversity with threshold 0.98: ['ACATCTGCGAGATT_r1', 'ACATCTGCGAGATT_r2', 'ACATTATTAGATAC_r1', 'ACATTATTAGATAC_r2', 'ACATTATTAGATAC_r3', 'ACGTGCAAGGACGC_r1', 'ACGTGCAAGGACGC_r2', 'ACGTGCAAGGACGC_r3', 'CTCTTTTCAGTTCA_r1', 'CTCTTTTCAGTTCA_r2', 'CTCTTTTCAGTTCA_r3', 'GTGCAAGCCTTATC_r1', 'GTGCAAGCCTTATC_r2', 'GTGCAAGCCTTATC_r3', 'TATGCCGCCAGTTT_r1', 'TATGCCGCCAGTTT_r2', 'TATGCCGCCAGTTT_r3', 'TCTATACTGACGGA_r1', 'TCTATACTGACGGA_r2', 'TCTATACTGACGGA_r3', 'TTACATGCTACCCC_r1', 'TTACATGCTACCCC_r2', 'TTTTGTGTTTCATC_r1', 'TTTTGTGTTTCATC_r2']\n",
      "Dropping the following intBCs due to lack of diversity with threshold 0.98: ['ACATCTGCGAGATT_r1', 'ACATCTGCGAGATT_r2', 'ACATTATTAGATAC_r1', 'ACATTATTAGATAC_r2', 'ACATTATTAGATAC_r3', 'ACGTGCAAGGACGC_r1', 'ACGTGCAAGGACGC_r2', 'ACGTGCAAGGACGC_r3', 'CTCTTTTCAGTTCA_r1', 'CTCTTTTCAGTTCA_r2', 'CTCTTTTCAGTTCA_r3', 'GTGCAAGCCTTATC_r2', 'GTGCAAGCCTTATC_r3', 'TTACATGCTACCCC_r2', 'TTTTGTGTTTCATC_r1', 'TATGCCGCCAGTTT_r1', 'TATGCCGCCAGTTT_r2', 'TATGCCGCCAGTTT_r3', 'TCTATACTGACGGA_r1', 'TCTATACTGACGGA_r2', 'TCTATACTGACGGA_r3']\n"
     ]
    },
    {
     "name": "stderr",
     "output_type": "stream",
     "text": [
      "Processing characters: 100%|██████████| 7/7 [00:00<00:00, 10766.46it/s]\n"
     ]
    },
    {
     "name": "stdout",
     "output_type": "stream",
     "text": [
      "Dropping the following intBCs due to lack of diversity with threshold 0.98: ['ACATCTGCGAGATT_r1', 'ACATTATTAGATAC_r1', 'ACATTATTAGATAC_r2', 'ACATTATTAGATAC_r3', 'ACGTGCAAGGACGC_r1', 'ACGTGCAAGGACGC_r2', 'ACGTGCAAGGACGC_r3', 'CTCTTTTCAGTTCA_r1', 'CTCTTTTCAGTTCA_r2', 'CTCTTTTCAGTTCA_r3', 'GTGCAAGCCTTATC_r2', 'GTGCAAGCCTTATC_r3', 'TATGCCGCCAGTTT_r1', 'TATGCCGCCAGTTT_r2', 'TATGCCGCCAGTTT_r3', 'TCTATACTGACGGA_r1', 'TCTATACTGACGGA_r2', 'TCTATACTGACGGA_r3', 'TTACATGCTACCCC_r2', 'TTTTGTGTTTCATC_r1']\n"
     ]
    },
    {
     "name": "stderr",
     "output_type": "stream",
     "text": [
      "100%|██████████| 1/1 [00:00<00:00, 112.71it/s]\n",
      "Processing characters: 100%|██████████| 27/27 [00:00<00:00, 3286.21it/s]"
     ]
    },
    {
     "name": "stdout",
     "output_type": "stream",
     "text": [
      "Dropping the following intBCs due to lack of diversity with threshold 0.98: []\n"
     ]
    },
    {
     "name": "stderr",
     "output_type": "stream",
     "text": [
      "\n",
      "100%|██████████| 1/1 [00:00<00:00, 140.61it/s]\n",
      "Processing characters: 100%|██████████| 7/7 [00:00<00:00, 17913.44it/s]\n",
      "100%|██████████| 1/1 [00:00<00:00, 152.42it/s]"
     ]
    },
    {
     "name": "stdout",
     "output_type": "stream",
     "text": [
      "Dropping the following intBCs due to lack of diversity with threshold 0.98: ['ACATCTGCGAGATT_r2', 'ACATCTGCGAGATT_r3', 'ACGTGCAAGGACGC_r2', 'ACGTGCAAGGACGC_r3', 'CTCTTTTCAGTTCA_r1', 'CTCTTTTCAGTTCA_r2', 'CTCTTTTCAGTTCA_r3', 'GTGCAAGCCTTATC_r1', 'GTGCAAGCCTTATC_r2', 'TATGCCGCCAGTTT_r1', 'TATGCCGCCAGTTT_r2', 'TCTATACTGACGGA_r2', 'TCTATACTGACGGA_r3', 'TTACATGCTACCCC_r2', 'TTACATGCTACCCC_r3', 'TTTTGTGTTTCATC_r1', 'TTTTGTGTTTCATC_r2']\n"
     ]
    },
    {
     "name": "stderr",
     "output_type": "stream",
     "text": [
      "\n",
      "Processing characters: 100%|██████████| 12/12 [00:00<00:00, 13015.68it/s]\n"
     ]
    },
    {
     "name": "stdout",
     "output_type": "stream",
     "text": [
      "Dropping the following intBCs due to lack of diversity with threshold 0.98: []\n"
     ]
    },
    {
     "name": "stderr",
     "output_type": "stream",
     "text": [
      "100%|██████████| 1/1 [00:00<00:00, 174.64it/s]\n",
      "Processing characters: 100%|██████████| 1/1 [00:00<00:00, 17697.49it/s]\n",
      "100%|██████████| 1/1 [00:00<00:00, 141.03it/s]\n"
     ]
    },
    {
     "name": "stdout",
     "output_type": "stream",
     "text": [
      "Dropping the following intBCs due to lack of diversity with threshold 0.98: ['ACATCTGCGAGATT_r1', 'ACATCTGCGAGATT_r2', 'ACATCTGCGAGATT_r3', 'ACGTGCAAGGACGC_r1', 'ACGTGCAAGGACGC_r2', 'ACGTGCAAGGACGC_r3', 'CTCTTTTCAGTTCA_r1', 'CTCTTTTCAGTTCA_r2', 'CTCTTTTCAGTTCA_r3', 'GTGCAAGCCTTATC_r1', 'GTGCAAGCCTTATC_r2', 'GTGCAAGCCTTATC_r3', 'TTACATGCTACCCC_r1', 'TTACATGCTACCCC_r2', 'TTACATGCTACCCC_r3', 'TTTTGTGTTTCATC_r2', 'TTTTGTGTTTCATC_r3']\n"
     ]
    },
    {
     "name": "stderr",
     "output_type": "stream",
     "text": [
      "Processing characters: 100%|██████████| 21/21 [00:00<00:00, 4837.46it/s]"
     ]
    },
    {
     "name": "stdout",
     "output_type": "stream",
     "text": [
      "Dropping the following intBCs due to lack of diversity with threshold 0.98: []\n"
     ]
    },
    {
     "name": "stderr",
     "output_type": "stream",
     "text": [
      "\n",
      "100%|██████████| 1/1 [00:00<00:00, 132.26it/s]\n",
      "Processing characters: 100%|██████████| 21/21 [00:00<00:00, 6605.70it/s]"
     ]
    },
    {
     "name": "stdout",
     "output_type": "stream",
     "text": [
      "Dropping the following intBCs due to lack of diversity with threshold 0.98: []\n"
     ]
    },
    {
     "name": "stderr",
     "output_type": "stream",
     "text": [
      "\n",
      "100%|██████████| 1/1 [00:00<00:00, 165.77it/s]\n",
      "Processing characters: 100%|██████████| 18/18 [00:00<00:00, 132219.74it/s]\n",
      "100%|██████████| 1/1 [00:00<00:00, 142.00it/s]\n"
     ]
    },
    {
     "name": "stdout",
     "output_type": "stream",
     "text": [
      "Dropping the following intBCs due to lack of diversity with threshold 0.98: ['GATAGCACAAAACG_r1', 'GATAGCACAAAACG_r2', 'GATAGCACAAAACG_r3']\n"
     ]
    },
    {
     "name": "stderr",
     "output_type": "stream",
     "text": [
      "Processing characters: 100%|██████████| 19/19 [00:00<00:00, 7000.95it/s]\n"
     ]
    },
    {
     "name": "stdout",
     "output_type": "stream",
     "text": [
      "Dropping the following intBCs due to lack of diversity with threshold 0.98: ['GATAGCACAAAACG_r1', 'GATAGCACAAAACG_r2']\n"
     ]
    },
    {
     "name": "stderr",
     "output_type": "stream",
     "text": [
      "100%|██████████| 1/1 [00:00<00:00, 158.63it/s]\n",
      "Processing characters: 100%|██████████| 17/17 [00:00<00:00, 124874.20it/s]\n",
      "100%|██████████| 1/1 [00:00<00:00, 167.56it/s]\n",
      "Processing characters: 0it [00:00, ?it/s]\n",
      "Processing characters: 100%|██████████| 21/21 [00:00<00:00, 143453.39it/s]\n",
      "100%|██████████| 1/1 [00:00<00:00, 136.49it/s]\n"
     ]
    },
    {
     "name": "stdout",
     "output_type": "stream",
     "text": [
      "Dropping the following intBCs due to lack of diversity with threshold 0.98: ['GATAGCACAAAACG_r3', 'GTGCAAGCCTTATC_r1', 'GTGCAAGCCTTATC_r2', 'GTGCAAGCCTTATC_r3']\n",
      "Dropping the following intBCs due to lack of diversity with threshold 0.98: ['ACATCTGCGAGATT_r1', 'ACATCTGCGAGATT_r2', 'ACATCTGCGAGATT_r3', 'ACGTGCAAGGACGC_r1', 'ACGTGCAAGGACGC_r2', 'ACGTGCAAGGACGC_r3', 'CTCTTTTCAGTTCA_r1', 'CTCTTTTCAGTTCA_r2', 'CTCTTTTCAGTTCA_r3', 'GATAGCACAAAACG_r1', 'GATAGCACAAAACG_r2', 'GATAGCACAAAACG_r3', 'GTGCAAGCCTTATC_r1', 'GTGCAAGCCTTATC_r2', 'GTGCAAGCCTTATC_r3', 'TTACATGCTACCCC_r1', 'TTACATGCTACCCC_r2', 'TTACATGCTACCCC_r3', 'TTTTGTGTTTCATC_r1', 'TTTTGTGTTTCATC_r2', 'TTTTGTGTTTCATC_r3']\n",
      "Dropping the following intBCs due to lack of diversity with threshold 1.0: []\n"
     ]
    },
    {
     "name": "stderr",
     "output_type": "stream",
     "text": [
      "Processing characters: 100%|██████████| 1/1 [00:00<00:00, 3118.44it/s]\n",
      "100%|██████████| 1/1 [00:00<00:00, 145.23it/s]"
     ]
    },
    {
     "name": "stdout",
     "output_type": "stream",
     "text": [
      "Dropping the following intBCs due to lack of diversity with threshold 0.98: ['ACATCTGCGAGATT_r1', 'ACATCTGCGAGATT_r2', 'ACATCTGCGAGATT_r3', 'ACGTGCAAGGACGC_r1', 'ACGTGCAAGGACGC_r2', 'ACGTGCAAGGACGC_r3', 'CTCTTTTCAGTTCA_r1', 'CTCTTTTCAGTTCA_r2', 'CTCTTTTCAGTTCA_r3', 'GATAGCACAAAACG_r1', 'GATAGCACAAAACG_r2', 'GATAGCACAAAACG_r3', 'GTGCAAGCCTTATC_r1', 'GTGCAAGCCTTATC_r2', 'GTGCAAGCCTTATC_r3', 'TTACATGCTACCCC_r1', 'TTACATGCTACCCC_r2', 'TTACATGCTACCCC_r3', 'TTTTGTGTTTCATC_r2', 'TTTTGTGTTTCATC_r3']\n"
     ]
    },
    {
     "name": "stderr",
     "output_type": "stream",
     "text": [
      "\n",
      "Processing characters: 100%|██████████| 21/21 [00:00<00:00, 8891.62it/s]\n"
     ]
    },
    {
     "name": "stdout",
     "output_type": "stream",
     "text": [
      "Dropping the following intBCs due to lack of diversity with threshold 0.98: []\n"
     ]
    },
    {
     "name": "stderr",
     "output_type": "stream",
     "text": [
      "100%|██████████| 1/1 [00:00<00:00, 144.20it/s]\n",
      "Processing characters: 100%|██████████| 21/21 [00:00<00:00, 15209.87it/s]\n"
     ]
    },
    {
     "name": "stdout",
     "output_type": "stream",
     "text": [
      "Dropping the following intBCs due to lack of diversity with threshold 0.98: []\n"
     ]
    },
    {
     "name": "stderr",
     "output_type": "stream",
     "text": [
      "100%|██████████| 1/1 [00:00<00:00, 154.41it/s]\n",
      "Processing characters: 100%|██████████| 19/19 [00:00<00:00, 27546.41it/s]\n"
     ]
    },
    {
     "name": "stdout",
     "output_type": "stream",
     "text": [
      "Dropping the following intBCs due to lack of diversity with threshold 0.98: ['TTACATGCTACCCC_r1', 'TTACATGCTACCCC_r2']\n"
     ]
    },
    {
     "name": "stderr",
     "output_type": "stream",
     "text": [
      "100%|██████████| 1/1 [00:00<00:00, 134.37it/s]\n",
      "Processing characters: 100%|██████████| 21/21 [00:00<00:00, 6051.14it/s]"
     ]
    },
    {
     "name": "stdout",
     "output_type": "stream",
     "text": [
      "Dropping the following intBCs due to lack of diversity with threshold 0.98: []\n"
     ]
    },
    {
     "name": "stderr",
     "output_type": "stream",
     "text": [
      "\n",
      "100%|██████████| 1/1 [00:00<00:00, 130.69it/s]\n",
      "Processing characters: 100%|██████████| 19/19 [00:00<00:00, 6411.76it/s]\n"
     ]
    },
    {
     "name": "stdout",
     "output_type": "stream",
     "text": [
      "Dropping the following intBCs due to lack of diversity with threshold 0.98: ['ACGTGCAAGGACGC_r2', 'ACGTGCAAGGACGC_r3']\n"
     ]
    },
    {
     "name": "stderr",
     "output_type": "stream",
     "text": [
      "100%|██████████| 1/1 [00:00<00:00, 138.15it/s]\n",
      "Processing characters: 100%|██████████| 24/24 [00:00<00:00, 12085.88it/s]\n"
     ]
    },
    {
     "name": "stdout",
     "output_type": "stream",
     "text": [
      "Dropping the following intBCs due to lack of diversity with threshold 0.98: []\n"
     ]
    },
    {
     "name": "stderr",
     "output_type": "stream",
     "text": [
      "100%|██████████| 1/1 [00:00<00:00, 154.69it/s]\n",
      "Processing characters: 100%|██████████| 18/18 [00:00<00:00, 42342.95it/s]\n",
      "100%|██████████| 1/1 [00:00<00:00, 174.46it/s]\n",
      "Processing characters: 0it [00:00, ?it/s]\n",
      "Processing characters: 100%|██████████| 18/18 [00:00<00:00, 141646.29it/s]\n",
      "  0%|          | 0/1 [00:00<?, ?it/s]"
     ]
    },
    {
     "name": "stdout",
     "output_type": "stream",
     "text": [
      "Dropping the following intBCs due to lack of diversity with threshold 0.98: []\n",
      "Dropping the following intBCs due to lack of diversity with threshold 0.98: ['ACATTATTAGATAC_r1', 'ACATTATTAGATAC_r2', 'ACATTATTAGATAC_r3', 'ACGTGCAAGGACGC_r1', 'ACGTGCAAGGACGC_r2', 'ACGTGCAAGGACGC_r3', 'CTCTTTTCAGTTCA_r1', 'CTCTTTTCAGTTCA_r2', 'CTCTTTTCAGTTCA_r3', 'TATGCCGCCAGTTT_r1', 'TATGCCGCCAGTTT_r2', 'TATGCCGCCAGTTT_r3', 'TTACATGCTACCCC_r1', 'TTACATGCTACCCC_r2', 'TTACATGCTACCCC_r3', 'TTTTGTGTTTCATC_r1', 'TTTTGTGTTTCATC_r2', 'TTTTGTGTTTCATC_r3']\n",
      "Dropping the following intBCs due to lack of diversity with threshold 1.0: []\n"
     ]
    },
    {
     "name": "stderr",
     "output_type": "stream",
     "text": [
      "100%|██████████| 1/1 [00:00<00:00, 133.23it/s]\n",
      "Processing characters: 100%|██████████| 24/24 [00:00<00:00, 15534.46it/s]\n"
     ]
    },
    {
     "name": "stdout",
     "output_type": "stream",
     "text": [
      "Dropping the following intBCs due to lack of diversity with threshold 0.98: []\n"
     ]
    },
    {
     "name": "stderr",
     "output_type": "stream",
     "text": [
      "100%|██████████| 1/1 [00:00<00:00, 141.96it/s]\n",
      "Processing characters: 100%|██████████| 24/24 [00:00<00:00, 15410.79it/s]\n"
     ]
    },
    {
     "name": "stdout",
     "output_type": "stream",
     "text": [
      "Dropping the following intBCs due to lack of diversity with threshold 0.98: []\n"
     ]
    },
    {
     "name": "stderr",
     "output_type": "stream",
     "text": [
      "100%|██████████| 1/1 [00:00<00:00, 123.18it/s]\n",
      "Processing characters: 100%|██████████| 21/21 [00:00<00:00, 2995.52it/s]"
     ]
    },
    {
     "name": "stdout",
     "output_type": "stream",
     "text": [
      "Dropping the following intBCs due to lack of diversity with threshold 0.98: []\n"
     ]
    },
    {
     "name": "stderr",
     "output_type": "stream",
     "text": [
      "\n",
      "100%|██████████| 1/1 [00:00<00:00, 150.85it/s]\n",
      "Processing characters: 100%|██████████| 26/26 [00:00<00:00, 48489.06it/s]\n"
     ]
    },
    {
     "name": "stdout",
     "output_type": "stream",
     "text": [
      "Dropping the following intBCs due to lack of diversity with threshold 0.98: ['TAACCAAGCCTACA_r2']\n"
     ]
    },
    {
     "name": "stderr",
     "output_type": "stream",
     "text": [
      "100%|██████████| 1/1 [00:00<00:00, 115.57it/s]\n",
      "Processing characters: 100%|██████████| 35/35 [00:00<00:00, 14672.73it/s]\n"
     ]
    },
    {
     "name": "stdout",
     "output_type": "stream",
     "text": [
      "Dropping the following intBCs due to lack of diversity with threshold 0.98: ['TAACCAAGCCTACA_r2']\n"
     ]
    },
    {
     "name": "stderr",
     "output_type": "stream",
     "text": [
      "100%|██████████| 1/1 [00:00<00:00, 133.41it/s]\n",
      "Processing characters: 100%|██████████| 23/23 [00:00<00:00, 13031.07it/s]\n"
     ]
    },
    {
     "name": "stdout",
     "output_type": "stream",
     "text": [
      "Dropping the following intBCs due to lack of diversity with threshold 0.98: ['ATGATTTAACTACT_r1', 'ATGATTTAACTACT_r3', 'CGATTGGTCACTTA_r1', 'CGATTGGTCACTTA_r2', 'CGATTGGTCACTTA_r3', 'GAACCCACAATTCC_r2', 'GAACCCACAATTCC_r3']\n"
     ]
    },
    {
     "name": "stderr",
     "output_type": "stream",
     "text": [
      "100%|██████████| 1/1 [00:00<00:00, 88.28it/s]\n",
      "Processing characters: 100%|██████████| 31/31 [00:00<00:00, 9184.39it/s]"
     ]
    },
    {
     "name": "stdout",
     "output_type": "stream",
     "text": [
      "Dropping the following intBCs due to lack of diversity with threshold 0.98: ['ATGATTTAACTACT_r1', 'TAACCAAGCCTACA_r2', 'TCAGGCGATGCGAA_r2', 'TCAGGCGATGCGAA_r3', 'TGTGAAGGTCAATA_r1', 'TGTGAAGGTCAATA_r2', 'TGTGAAGGTCAATA_r3', 'TATGATTAGTCGCG_r1', 'TATGATTAGTCGCG_r2', 'TATGATTAGTCGCG_r3', 'GTTTATTTCCGTAT_r1', 'GTTTATTTCCGTAT_r2', 'TTCCCTATTTGCTA_r1', 'TTCCCTATTTGCTA_r2', 'GCCTACTTAAGTCC_r1', 'GCCTACTTAAGTCC_r2', 'GCCTACTTAAGTCC_r3', 'ACAGGTGCTCAAAT_r1', 'ACAGGTGCTCAAAT_r2', 'ACAGGTGCTCAAAT_r3']\n"
     ]
    },
    {
     "name": "stderr",
     "output_type": "stream",
     "text": [
      "\n",
      "100%|██████████| 1/1 [00:00<00:00, 88.59it/s]\n",
      "Processing characters: 100%|██████████| 46/46 [00:00<00:00, 11064.86it/s]"
     ]
    },
    {
     "name": "stdout",
     "output_type": "stream",
     "text": [
      "Dropping the following intBCs due to lack of diversity with threshold 0.98: ['GTTTATTTCCGTAT_r2', 'TGTGAAGGTCAATA_r1', 'TGTGAAGGTCAATA_r2', 'TGTGAAGGTCAATA_r3', 'ACAGGTGCTCAAAT_r1', 'ACAGGTGCTCAAAT_r2', 'ACAGGTGCTCAAAT_r3', 'GCCTACTTAAGTCC_r1', 'GCCTACTTAAGTCC_r2', 'GCCTACTTAAGTCC_r3', 'TCAGGCGATGCGAA_r2', 'TCAGGCGATGCGAA_r3', 'CGATTGGTCACTTA_r1', 'TATGATTAGTCGCG_r1', 'TATGATTAGTCGCG_r2', 'TATGATTAGTCGCG_r3', 'TTCCCTATTTGCTA_r1']\n"
     ]
    },
    {
     "name": "stderr",
     "output_type": "stream",
     "text": [
      "\n",
      "100%|██████████| 1/1 [00:00<00:00, 80.45it/s]\n",
      "Processing characters: 100%|██████████| 5/5 [00:00<00:00, 2491.27it/s]"
     ]
    },
    {
     "name": "stdout",
     "output_type": "stream",
     "text": [
      "Dropping the following intBCs due to lack of diversity with threshold 0.98: ['ACAGGTGCTCAAAT_r1', 'ACAGGTGCTCAAAT_r2', 'ACAGGTGCTCAAAT_r3', 'ACTCTGCTCCAGAT_r2', 'ACTCTGCTCCAGAT_r3', 'ATAGGTATGTCGTG_r2', 'ATAGGTATGTCGTG_r3', 'GACTTTATCGATCT_r1', 'GACTTTATCGATCT_r2', 'GACTTTATCGATCT_r3', 'GCCTACTTAAGTCC_r1', 'GCCTACTTAAGTCC_r2', 'GCCTACTTAAGTCC_r3', 'GTTTATTTCCGTAT_r1', 'GTTTATTTCCGTAT_r2', 'TATGATTAGTCGCG_r1', 'TATGATTAGTCGCG_r2', 'TATGATTAGTCGCG_r3', 'TCAGGCGATGCGAA_r2', 'TCAGGCGATGCGAA_r3', 'TGATATAAATCTTT_r1', 'TGATATAAATCTTT_r2', 'TGATATAAATCTTT_r3', 'TGTGAAGGTCAATA_r1', 'TGTGAAGGTCAATA_r2', 'TGTGAAGGTCAATA_r3', 'TTCCCTATTTGCTA_r1', 'TTCCCTATTTGCTA_r2']\n"
     ]
    },
    {
     "name": "stderr",
     "output_type": "stream",
     "text": [
      "\n",
      "100%|██████████| 1/1 [00:00<00:00, 103.97it/s]\n",
      "Processing characters: 100%|██████████| 6/6 [00:00<00:00, 8104.94it/s]"
     ]
    },
    {
     "name": "stdout",
     "output_type": "stream",
     "text": [
      "Dropping the following intBCs due to lack of diversity with threshold 0.98: ['ACAGGTGCTCAAAT_r1', 'ACAGGTGCTCAAAT_r2', 'ACAGGTGCTCAAAT_r3', 'ACTCTGCTCCAGAT_r2', 'ACTCTGCTCCAGAT_r3', 'ATAGGTATGTCGTG_r2', 'ATAGGTATGTCGTG_r3', 'GACTTTATCGATCT_r1', 'GACTTTATCGATCT_r2', 'GACTTTATCGATCT_r3', 'GCCTACTTAAGTCC_r1', 'GCCTACTTAAGTCC_r2', 'GCCTACTTAAGTCC_r3', 'GTTTATTTCCGTAT_r1', 'GTTTATTTCCGTAT_r2', 'TATGATTAGTCGCG_r1', 'TATGATTAGTCGCG_r2', 'TATGATTAGTCGCG_r3', 'TCAGGCGATGCGAA_r2', 'TCAGGCGATGCGAA_r3', 'TGATATAAATCTTT_r1', 'TGATATAAATCTTT_r2', 'TGATATAAATCTTT_r3', 'TGTGAAGGTCAATA_r1', 'TGTGAAGGTCAATA_r2', 'TGTGAAGGTCAATA_r3', 'TTCCCTATTTGCTA_r1']\n"
     ]
    },
    {
     "name": "stderr",
     "output_type": "stream",
     "text": [
      "\n",
      "100%|██████████| 1/1 [00:00<00:00, 86.04it/s]\n",
      "Processing characters: 100%|██████████| 5/5 [00:00<00:00, 2779.89it/s]"
     ]
    },
    {
     "name": "stdout",
     "output_type": "stream",
     "text": [
      "Dropping the following intBCs due to lack of diversity with threshold 0.98: ['ACAGGTGCTCAAAT_r1', 'ACAGGTGCTCAAAT_r2', 'ACAGGTGCTCAAAT_r3', 'ACTCTGCTCCAGAT_r2', 'ACTCTGCTCCAGAT_r3', 'ATAGGTATGTCGTG_r2', 'ATAGGTATGTCGTG_r3', 'GACTTTATCGATCT_r1', 'GACTTTATCGATCT_r2', 'GACTTTATCGATCT_r3', 'GCCTACTTAAGTCC_r1', 'GCCTACTTAAGTCC_r2', 'GCCTACTTAAGTCC_r3', 'GTTTATTTCCGTAT_r1', 'GTTTATTTCCGTAT_r2', 'TATGATTAGTCGCG_r1', 'TATGATTAGTCGCG_r2', 'TATGATTAGTCGCG_r3', 'TCAGGCGATGCGAA_r2', 'TCAGGCGATGCGAA_r3', 'TGATATAAATCTTT_r1', 'TGATATAAATCTTT_r2', 'TGATATAAATCTTT_r3', 'TGTGAAGGTCAATA_r1', 'TGTGAAGGTCAATA_r2', 'TGTGAAGGTCAATA_r3', 'TTCCCTATTTGCTA_r1', 'TTCCCTATTTGCTA_r2']\n"
     ]
    },
    {
     "name": "stderr",
     "output_type": "stream",
     "text": [
      "\n",
      "100%|██████████| 1/1 [00:00<00:00, 64.08it/s]\n",
      "Processing characters: 100%|██████████| 6/6 [00:00<00:00, 1779.76it/s]"
     ]
    },
    {
     "name": "stdout",
     "output_type": "stream",
     "text": [
      "Dropping the following intBCs due to lack of diversity with threshold 0.98: ['ACAGGTGCTCAAAT_r1', 'ACAGGTGCTCAAAT_r2', 'ACAGGTGCTCAAAT_r3', 'ACTCTGCTCCAGAT_r2', 'ACTCTGCTCCAGAT_r3', 'ATAGGTATGTCGTG_r2', 'ATAGGTATGTCGTG_r3', 'GACTTTATCGATCT_r1', 'GACTTTATCGATCT_r2', 'GACTTTATCGATCT_r3', 'GCCTACTTAAGTCC_r1', 'GCCTACTTAAGTCC_r2', 'GCCTACTTAAGTCC_r3', 'GTTTATTTCCGTAT_r1', 'GTTTATTTCCGTAT_r2', 'TATGATTAGTCGCG_r1', 'TATGATTAGTCGCG_r2', 'TATGATTAGTCGCG_r3', 'TCAGGCGATGCGAA_r2', 'TCAGGCGATGCGAA_r3', 'TGATATAAATCTTT_r1', 'TGATATAAATCTTT_r2', 'TGATATAAATCTTT_r3', 'TGTGAAGGTCAATA_r1', 'TGTGAAGGTCAATA_r2', 'TGTGAAGGTCAATA_r3', 'TTCCCTATTTGCTA_r1']\n"
     ]
    },
    {
     "name": "stderr",
     "output_type": "stream",
     "text": [
      "\n",
      "100%|██████████| 1/1 [00:00<00:00, 82.63it/s]\n",
      "Processing characters: 100%|██████████| 5/5 [00:00<00:00, 2671.87it/s]"
     ]
    },
    {
     "name": "stdout",
     "output_type": "stream",
     "text": [
      "Dropping the following intBCs due to lack of diversity with threshold 0.98: ['ACAGGTGCTCAAAT_r1', 'ACAGGTGCTCAAAT_r2', 'ACAGGTGCTCAAAT_r3', 'ACTCTGCTCCAGAT_r2', 'ACTCTGCTCCAGAT_r3', 'ATAGGTATGTCGTG_r2', 'ATAGGTATGTCGTG_r3', 'GACTTTATCGATCT_r1', 'GACTTTATCGATCT_r2', 'GACTTTATCGATCT_r3', 'GCCTACTTAAGTCC_r1', 'GCCTACTTAAGTCC_r2', 'GCCTACTTAAGTCC_r3', 'GTTTATTTCCGTAT_r1', 'GTTTATTTCCGTAT_r2', 'TATGATTAGTCGCG_r1', 'TATGATTAGTCGCG_r2', 'TATGATTAGTCGCG_r3', 'TCAGGCGATGCGAA_r2', 'TCAGGCGATGCGAA_r3', 'TGATATAAATCTTT_r1', 'TGATATAAATCTTT_r2', 'TGATATAAATCTTT_r3', 'TGTGAAGGTCAATA_r1', 'TGTGAAGGTCAATA_r2', 'TGTGAAGGTCAATA_r3', 'TTCCCTATTTGCTA_r1', 'TTCCCTATTTGCTA_r2']\n"
     ]
    },
    {
     "name": "stderr",
     "output_type": "stream",
     "text": [
      "\n",
      "100%|██████████| 1/1 [00:00<00:00, 80.10it/s]\n",
      "Processing characters: 100%|██████████| 6/6 [00:00<00:00, 2973.63it/s]"
     ]
    },
    {
     "name": "stdout",
     "output_type": "stream",
     "text": [
      "Dropping the following intBCs due to lack of diversity with threshold 0.98: ['ACAGGTGCTCAAAT_r1', 'ACAGGTGCTCAAAT_r2', 'ACAGGTGCTCAAAT_r3', 'ACTCTGCTCCAGAT_r2', 'ACTCTGCTCCAGAT_r3', 'GCCTACTTAAGTCC_r1', 'GCCTACTTAAGTCC_r2', 'GCCTACTTAAGTCC_r3', 'GTTTATTTCCGTAT_r1', 'GTTTATTTCCGTAT_r2', 'TATGATTAGTCGCG_r1', 'TATGATTAGTCGCG_r2', 'TATGATTAGTCGCG_r3', 'TCAGGCGATGCGAA_r2', 'TCAGGCGATGCGAA_r3', 'TGATATAAATCTTT_r1', 'TGATATAAATCTTT_r2', 'TGATATAAATCTTT_r3', 'TGTGAAGGTCAATA_r1', 'TGTGAAGGTCAATA_r2', 'TGTGAAGGTCAATA_r3', 'TTCCCTATTTGCTA_r1', 'ATAGGTATGTCGTG_r2', 'ATAGGTATGTCGTG_r3', 'GACTTTATCGATCT_r1', 'GACTTTATCGATCT_r2', 'GACTTTATCGATCT_r3']\n"
     ]
    },
    {
     "name": "stderr",
     "output_type": "stream",
     "text": [
      "\n",
      "100%|██████████| 1/1 [00:00<00:00, 95.41it/s]\n",
      "Processing characters: 100%|██████████| 6/6 [00:00<00:00, 9546.97it/s]\n"
     ]
    },
    {
     "name": "stdout",
     "output_type": "stream",
     "text": [
      "Dropping the following intBCs due to lack of diversity with threshold 0.98: ['ACAGGTGCTCAAAT_r1', 'ACAGGTGCTCAAAT_r2', 'ACAGGTGCTCAAAT_r3', 'ACTCTGCTCCAGAT_r2', 'ACTCTGCTCCAGAT_r3', 'GCCTACTTAAGTCC_r1', 'GCCTACTTAAGTCC_r2', 'GCCTACTTAAGTCC_r3', 'GTTTATTTCCGTAT_r1', 'GTTTATTTCCGTAT_r2', 'TATGATTAGTCGCG_r1', 'TATGATTAGTCGCG_r2', 'TATGATTAGTCGCG_r3', 'TCAGGCGATGCGAA_r2', 'TCAGGCGATGCGAA_r3', 'TGATATAAATCTTT_r1', 'TGATATAAATCTTT_r2', 'TGATATAAATCTTT_r3', 'TGTGAAGGTCAATA_r1', 'TGTGAAGGTCAATA_r2', 'TGTGAAGGTCAATA_r3', 'TTCCCTATTTGCTA_r1', 'GACTTTATCGATCT_r1', 'GACTTTATCGATCT_r2', 'GACTTTATCGATCT_r3', 'ATAGGTATGTCGTG_r2', 'ATAGGTATGTCGTG_r3']\n"
     ]
    },
    {
     "name": "stderr",
     "output_type": "stream",
     "text": [
      "100%|██████████| 1/1 [00:00<00:00, 44.56it/s]\n",
      "Processing characters: 100%|██████████| 5/5 [00:00<00:00, 925.65it/s]"
     ]
    },
    {
     "name": "stdout",
     "output_type": "stream",
     "text": [
      "Dropping the following intBCs due to lack of diversity with threshold 0.98: ['ACAGGTGCTCAAAT_r1', 'ACAGGTGCTCAAAT_r2', 'ACAGGTGCTCAAAT_r3', 'ACTCTGCTCCAGAT_r2', 'ACTCTGCTCCAGAT_r3', 'GCCTACTTAAGTCC_r1', 'GCCTACTTAAGTCC_r2', 'GCCTACTTAAGTCC_r3', 'GTTTATTTCCGTAT_r1', 'GTTTATTTCCGTAT_r2', 'TATGATTAGTCGCG_r1', 'TATGATTAGTCGCG_r2', 'TATGATTAGTCGCG_r3', 'TCAGGCGATGCGAA_r2', 'TCAGGCGATGCGAA_r3', 'TGATATAAATCTTT_r1', 'TGATATAAATCTTT_r2', 'TGATATAAATCTTT_r3', 'TGTGAAGGTCAATA_r1', 'TGTGAAGGTCAATA_r2', 'TGTGAAGGTCAATA_r3', 'TTCCCTATTTGCTA_r1', 'TTCCCTATTTGCTA_r2', 'GACTTTATCGATCT_r1', 'GACTTTATCGATCT_r2', 'GACTTTATCGATCT_r3', 'ATAGGTATGTCGTG_r2', 'ATAGGTATGTCGTG_r3']\n"
     ]
    },
    {
     "name": "stderr",
     "output_type": "stream",
     "text": [
      "\n",
      "100%|██████████| 1/1 [00:00<00:00, 32.67it/s]\n",
      "Processing characters: 100%|██████████| 30/30 [00:00<00:00, 447.83it/s]"
     ]
    },
    {
     "name": "stdout",
     "output_type": "stream",
     "text": [
      "Dropping the following intBCs due to lack of diversity with threshold 0.98: []\n"
     ]
    },
    {
     "name": "stderr",
     "output_type": "stream",
     "text": [
      "\n",
      "100%|██████████| 1/1 [00:00<00:00, 65.56it/s]\n",
      "Processing characters: 100%|██████████| 7/7 [00:00<00:00, 1248.73it/s]"
     ]
    },
    {
     "name": "stdout",
     "output_type": "stream",
     "text": [
      "Dropping the following intBCs due to lack of diversity with threshold 0.98: ['ACAGGTGCTCAAAT_r1', 'ACAGGTGCTCAAAT_r2', 'ACAGGTGCTCAAAT_r3', 'ACTCTGCTCCAGAT_r2', 'ACTCTGCTCCAGAT_r3', 'GCCTACTTAAGTCC_r1', 'GCCTACTTAAGTCC_r2', 'GCCTACTTAAGTCC_r3', 'GTTTATTTCCGTAT_r1', 'GTTTATTTCCGTAT_r2', 'TATGATTAGTCGCG_r1', 'TATGATTAGTCGCG_r2', 'TATGATTAGTCGCG_r3', 'TCAGGCGATGCGAA_r2', 'TCAGGCGATGCGAA_r3', 'TGTGAAGGTCAATA_r1', 'TGTGAAGGTCAATA_r2', 'TGTGAAGGTCAATA_r3', 'TTCCCTATTTGCTA_r1', 'TTCCCTATTTGCTA_r2']\n"
     ]
    },
    {
     "name": "stderr",
     "output_type": "stream",
     "text": [
      "\n",
      "100%|██████████| 1/1 [00:00<00:00, 25.92it/s]\n",
      "Processing characters: 100%|██████████| 32/32 [00:00<00:00, 2113.53it/s]"
     ]
    },
    {
     "name": "stdout",
     "output_type": "stream",
     "text": [
      "Dropping the following intBCs due to lack of diversity with threshold 0.98: ['TTCCCTATTTGCTA_r2']\n"
     ]
    },
    {
     "name": "stderr",
     "output_type": "stream",
     "text": [
      "\n",
      "100%|██████████| 1/1 [00:00<00:00, 31.36it/s]\n",
      "Processing characters: 100%|██████████| 17/17 [00:00<00:00, 2651.56it/s]"
     ]
    },
    {
     "name": "stdout",
     "output_type": "stream",
     "text": [
      "Dropping the following intBCs due to lack of diversity with threshold 0.98: ['ACAGGTGCTCAAAT_r2', 'ACAGGTGCTCAAAT_r3', 'GCCTACTTAAGTCC_r2', 'GCCTACTTAAGTCC_r3', 'GTTTATTTCCGTAT_r1', 'GTTTATTTCCGTAT_r2', 'GTTTATTTCCGTAT_r3', 'TATGATTAGTCGCG_r2', 'TCAGGCGATGCGAA_r2', 'TGATATAAATCTTT_r1', 'TGATATAAATCTTT_r2', 'TGATATAAATCTTT_r3', 'TGTGAAGGTCAATA_r1', 'TGTGAAGGTCAATA_r2', 'TGTTTTTGTCTGCA_r1', 'TGTTTTTGTCTGCA_r2', 'TTTTCGGGTGATCC_r1', 'TTTTCGGGTGATCC_r2', 'TTTTCGGGTGATCC_r3']\n"
     ]
    },
    {
     "name": "stderr",
     "output_type": "stream",
     "text": [
      "\n",
      "100%|██████████| 1/1 [00:00<00:00, 40.88it/s]\n",
      "Processing characters: 100%|██████████| 30/30 [00:00<00:00, 3109.73it/s]"
     ]
    },
    {
     "name": "stdout",
     "output_type": "stream",
     "text": [
      "Dropping the following intBCs due to lack of diversity with threshold 0.98: []\n"
     ]
    },
    {
     "name": "stderr",
     "output_type": "stream",
     "text": [
      "\n",
      "100%|██████████| 1/1 [00:00<00:00, 76.48it/s]\n",
      "Processing characters: 100%|██████████| 37/37 [00:00<00:00, 17343.46it/s]\n"
     ]
    },
    {
     "name": "stdout",
     "output_type": "stream",
     "text": [
      "Dropping the following intBCs due to lack of diversity with threshold 0.98: ['TTCCCTATTTGCTA_r2', 'ACATTATTAGATAC_r3']\n"
     ]
    },
    {
     "name": "stderr",
     "output_type": "stream",
     "text": [
      "100%|██████████| 1/1 [00:00<00:00, 122.74it/s]\n",
      "Processing characters: 100%|██████████| 9/9 [00:00<00:00, 6718.05it/s]"
     ]
    },
    {
     "name": "stdout",
     "output_type": "stream",
     "text": [
      "Dropping the following intBCs due to lack of diversity with threshold 0.98: ['GCCTACTTAAGTCC_r1', 'GCCTACTTAAGTCC_r2', 'GCCTACTTAAGTCC_r3', 'GTTTATTTCCGTAT_r1', 'GTTTATTTCCGTAT_r2', 'GTTTATTTCCGTAT_r3', 'TATGATTAGTCGCG_r1', 'TATGATTAGTCGCG_r3', 'TGTGAAGGTCAATA_r1', 'TGTGAAGGTCAATA_r2', 'TTCCCTATTTGCTA_r1', 'TTCCCTATTTGCTA_r2']\n"
     ]
    },
    {
     "name": "stderr",
     "output_type": "stream",
     "text": [
      "\n",
      "100%|██████████| 1/1 [00:00<00:00, 62.05it/s]\n",
      "Processing characters: 100%|██████████| 3/3 [00:00<00:00, 481.13it/s]"
     ]
    },
    {
     "name": "stdout",
     "output_type": "stream",
     "text": [
      "Dropping the following intBCs due to lack of diversity with threshold 0.98: ['GCCTACTTAAGTCC_r1', 'GCCTACTTAAGTCC_r2', 'GCCTACTTAAGTCC_r3', 'GTTTATTTCCGTAT_r1', 'GTTTATTTCCGTAT_r2', 'GTTTATTTCCGTAT_r3', 'TATGATTAGTCGCG_r1', 'TATGATTAGTCGCG_r3', 'TGTGAAGGTCAATA_r1', 'TGTGAAGGTCAATA_r2', 'TTCCCTATTTGCTA_r1', 'TTCCCTATTTGCTA_r2']\n"
     ]
    },
    {
     "name": "stderr",
     "output_type": "stream",
     "text": [
      "\n",
      "100%|██████████| 1/1 [00:00<00:00, 53.28it/s]\n",
      "Processing characters: 100%|██████████| 3/3 [00:00<00:00, 370.74it/s]"
     ]
    },
    {
     "name": "stdout",
     "output_type": "stream",
     "text": [
      "Dropping the following intBCs due to lack of diversity with threshold 0.98: ['GCCTACTTAAGTCC_r1', 'GCCTACTTAAGTCC_r2', 'GCCTACTTAAGTCC_r3', 'GTTTATTTCCGTAT_r1', 'GTTTATTTCCGTAT_r2', 'GTTTATTTCCGTAT_r3', 'TATGATTAGTCGCG_r1', 'TATGATTAGTCGCG_r3', 'TGTGAAGGTCAATA_r1', 'TGTGAAGGTCAATA_r2', 'TTCCCTATTTGCTA_r1', 'TTCCCTATTTGCTA_r2']\n"
     ]
    },
    {
     "name": "stderr",
     "output_type": "stream",
     "text": [
      "\n",
      "100%|██████████| 1/1 [00:00<00:00, 42.06it/s]\n",
      "Processing characters: 100%|██████████| 27/27 [00:00<00:00, 535.34it/s]"
     ]
    },
    {
     "name": "stdout",
     "output_type": "stream",
     "text": [
      "Dropping the following intBCs due to lack of diversity with threshold 0.98: ['TATGATTAGTCGCG_r2', 'TGATATAAATCTTT_r2', 'TTCCCTATTTGCTA_r2']\n"
     ]
    },
    {
     "name": "stderr",
     "output_type": "stream",
     "text": [
      "\n",
      "100%|██████████| 1/1 [00:00<00:00, 53.62it/s]\n",
      "Processing characters: 100%|██████████| 29/29 [00:00<00:00, 734.86it/s]"
     ]
    },
    {
     "name": "stdout",
     "output_type": "stream",
     "text": [
      "Dropping the following intBCs due to lack of diversity with threshold 0.98: ['TTCCCTATTTGCTA_r2']\n"
     ]
    },
    {
     "name": "stderr",
     "output_type": "stream",
     "text": [
      "\n",
      "100%|██████████| 1/1 [00:00<00:00, 99.40it/s]\n",
      "Processing characters: 100%|██████████| 28/28 [00:00<00:00, 3492.55it/s]"
     ]
    },
    {
     "name": "stdout",
     "output_type": "stream",
     "text": [
      "Dropping the following intBCs due to lack of diversity with threshold 0.98: ['TGTTTTTGTCTGCA_r2', 'TTCCCTATTTGCTA_r2']\n"
     ]
    },
    {
     "name": "stderr",
     "output_type": "stream",
     "text": [
      "\n",
      "100%|██████████| 1/1 [00:00<00:00, 120.44it/s]\n",
      "Processing characters: 100%|██████████| 27/27 [00:00<00:00, 5631.90it/s]"
     ]
    },
    {
     "name": "stdout",
     "output_type": "stream",
     "text": [
      "Dropping the following intBCs due to lack of diversity with threshold 0.98: ['TGATATAAATCTTT_r1', 'TGATATAAATCTTT_r2', 'TGATATAAATCTTT_r3']\n"
     ]
    },
    {
     "name": "stderr",
     "output_type": "stream",
     "text": [
      "\n",
      "100%|██████████| 1/1 [00:00<00:00, 132.12it/s]\n",
      "Processing characters: 100%|██████████| 30/30 [00:00<00:00, 25379.01it/s]\n"
     ]
    },
    {
     "name": "stdout",
     "output_type": "stream",
     "text": [
      "Dropping the following intBCs due to lack of diversity with threshold 0.98: []\n"
     ]
    },
    {
     "name": "stderr",
     "output_type": "stream",
     "text": [
      "100%|██████████| 1/1 [00:00<00:00, 108.38it/s]\n",
      "Processing characters: 100%|██████████| 5/5 [00:00<00:00, 6221.16it/s]"
     ]
    },
    {
     "name": "stdout",
     "output_type": "stream",
     "text": [
      "Dropping the following intBCs due to lack of diversity with threshold 0.98: ['ACAGGTGCTCAAAT_r2', 'ACTCTGCTCCAGAT_r1', 'ACTCTGCTCCAGAT_r2', 'GCCTACTTAAGTCC_r1', 'GCCTACTTAAGTCC_r2', 'GCCTACTTAAGTCC_r3', 'GTTTATTTCCGTAT_r1', 'GTTTATTTCCGTAT_r2', 'TATGATTAGTCGCG_r1', 'TATGATTAGTCGCG_r2', 'TATGATTAGTCGCG_r3', 'TCAGGCGATGCGAA_r1', 'TCAGGCGATGCGAA_r2', 'TCAGGCGATGCGAA_r3', 'TGATATAAATCTTT_r1', 'TGATATAAATCTTT_r2', 'TGATATAAATCTTT_r3', 'TGTGAAGGTCAATA_r1', 'TGTGAAGGTCAATA_r2', 'TGTTTTTGTCTGCA_r1', 'TGTTTTTGTCTGCA_r2', 'TGTTTTTGTCTGCA_r3']\n"
     ]
    },
    {
     "name": "stderr",
     "output_type": "stream",
     "text": [
      "\n",
      "100%|██████████| 1/1 [00:00<00:00, 112.38it/s]\n",
      "Processing characters: 100%|██████████| 7/7 [00:00<00:00, 5835.84it/s]"
     ]
    },
    {
     "name": "stdout",
     "output_type": "stream",
     "text": [
      "Dropping the following intBCs due to lack of diversity with threshold 0.98: ['GCCTACTTAAGTCC_r1', 'GCCTACTTAAGTCC_r2', 'GCCTACTTAAGTCC_r3', 'GTTTATTTCCGTAT_r2', 'TATGATTAGTCGCG_r1', 'TATGATTAGTCGCG_r2', 'TATGATTAGTCGCG_r3', 'TCAGGCGATGCGAA_r1', 'TCAGGCGATGCGAA_r2', 'TCAGGCGATGCGAA_r3', 'TGATATAAATCTTT_r1', 'TGATATAAATCTTT_r2', 'TGATATAAATCTTT_r3', 'TGTGAAGGTCAATA_r1', 'TGTGAAGGTCAATA_r2', 'TGTTTTTGTCTGCA_r1', 'TGTTTTTGTCTGCA_r2', 'TGTTTTTGTCTGCA_r3', 'ACTCTGCTCCAGAT_r1', 'ACTCTGCTCCAGAT_r2']\n"
     ]
    },
    {
     "name": "stderr",
     "output_type": "stream",
     "text": [
      "\n",
      "100%|██████████| 1/1 [00:00<00:00, 145.73it/s]\n",
      "Processing characters: 100%|██████████| 27/27 [00:00<00:00, 25249.99it/s]\n"
     ]
    },
    {
     "name": "stdout",
     "output_type": "stream",
     "text": [
      "Dropping the following intBCs due to lack of diversity with threshold 0.98: []\n"
     ]
    },
    {
     "name": "stderr",
     "output_type": "stream",
     "text": [
      "100%|██████████| 1/1 [00:00<00:00, 133.37it/s]\n",
      "Processing characters: 100%|██████████| 2/2 [00:00<00:00, 4922.89it/s]\n",
      "100%|██████████| 1/1 [00:00<00:00, 145.07it/s]"
     ]
    },
    {
     "name": "stdout",
     "output_type": "stream",
     "text": [
      "Dropping the following intBCs due to lack of diversity with threshold 0.98: ['ACAGGTGCTCAAAT_r2', 'ACAGGTGCTCAAAT_r3', 'ACTCTGCTCCAGAT_r1', 'ACTCTGCTCCAGAT_r2', 'ACTCTGCTCCAGAT_r3', 'GCCTACTTAAGTCC_r2', 'GCCTACTTAAGTCC_r3', 'GTTTATTTCCGTAT_r1', 'GTTTATTTCCGTAT_r2', 'GTTTATTTCCGTAT_r3', 'TATGATTAGTCGCG_r1', 'TATGATTAGTCGCG_r2', 'TATGATTAGTCGCG_r3', 'TGATATAAATCTTT_r1', 'TGATATAAATCTTT_r2', 'TGATATAAATCTTT_r3', 'TGTGAAGGTCAATA_r1', 'TGTGAAGGTCAATA_r2', 'TGTGAAGGTCAATA_r3', 'TGTTTTTGTCTGCA_r1', 'TGTTTTTGTCTGCA_r2', 'TGTTTTTGTCTGCA_r3', 'TTCCCTATTTGCTA_r1', 'TTCCCTATTTGCTA_r2', 'TTCCCTATTTGCTA_r3']\n"
     ]
    },
    {
     "name": "stderr",
     "output_type": "stream",
     "text": [
      "\n",
      "Processing characters: 100%|██████████| 30/30 [00:00<00:00, 23732.39it/s]\n"
     ]
    },
    {
     "name": "stdout",
     "output_type": "stream",
     "text": [
      "Dropping the following intBCs due to lack of diversity with threshold 0.98: []\n"
     ]
    },
    {
     "name": "stderr",
     "output_type": "stream",
     "text": [
      "100%|██████████| 1/1 [00:00<00:00, 99.28it/s]\n",
      "Processing characters: 100%|██████████| 30/30 [00:00<00:00, 2589.40it/s]"
     ]
    },
    {
     "name": "stdout",
     "output_type": "stream",
     "text": [
      "Dropping the following intBCs due to lack of diversity with threshold 0.98: []\n"
     ]
    },
    {
     "name": "stderr",
     "output_type": "stream",
     "text": [
      "\n",
      "100%|██████████| 1/1 [00:00<00:00, 126.32it/s]\n",
      "Processing characters: 100%|██████████| 29/29 [00:00<00:00, 7658.66it/s]"
     ]
    },
    {
     "name": "stdout",
     "output_type": "stream",
     "text": [
      "Dropping the following intBCs due to lack of diversity with threshold 0.98: ['TTCCCTATTTGCTA_r2']\n"
     ]
    },
    {
     "name": "stderr",
     "output_type": "stream",
     "text": [
      "\n",
      "100%|██████████| 1/1 [00:00<00:00, 127.61it/s]\n",
      "Processing characters: 100%|██████████| 19/19 [00:00<00:00, 14371.83it/s]\n"
     ]
    },
    {
     "name": "stdout",
     "output_type": "stream",
     "text": [
      "Dropping the following intBCs due to lack of diversity with threshold 0.98: ['ACTCTGCTCCAGAT_r3', 'TATGATTAGTCGCG_r1', 'TATGATTAGTCGCG_r2', 'TGATATAAATCTTT_r2', 'TGATATAAATCTTT_r3', 'TGTGAAGGTCAATA_r2', 'TGTGAAGGTCAATA_r3', 'TGTTTTTGTCTGCA_r2', 'TGTTTTTGTCTGCA_r3', 'TTCCCTATTTGCTA_r1', 'TTCCCTATTTGCTA_r2']\n"
     ]
    },
    {
     "name": "stderr",
     "output_type": "stream",
     "text": [
      "100%|██████████| 1/1 [00:00<00:00, 164.80it/s]\n",
      "Processing characters: 100%|██████████| 23/23 [00:00<00:00, 82948.40it/s]\n",
      "100%|██████████| 1/1 [00:00<00:00, 129.86it/s]\n"
     ]
    },
    {
     "name": "stdout",
     "output_type": "stream",
     "text": [
      "Dropping the following intBCs due to lack of diversity with threshold 0.98: ['TTCCCTATTTGCTA_r2']\n"
     ]
    },
    {
     "name": "stderr",
     "output_type": "stream",
     "text": [
      "Processing characters: 100%|██████████| 23/23 [00:00<00:00, 4352.70it/s]"
     ]
    },
    {
     "name": "stdout",
     "output_type": "stream",
     "text": [
      "Dropping the following intBCs due to lack of diversity with threshold 0.98: ['TTCCCTATTTGCTA_r2']\n"
     ]
    },
    {
     "name": "stderr",
     "output_type": "stream",
     "text": [
      "\n",
      "100%|██████████| 1/1 [00:00<00:00, 131.58it/s]\n",
      "Processing characters: 100%|██████████| 20/20 [00:00<00:00, 4695.82it/s]"
     ]
    },
    {
     "name": "stdout",
     "output_type": "stream",
     "text": [
      "Dropping the following intBCs due to lack of diversity with threshold 0.98: ['TTCCCTATTTGCTA_r2']\n"
     ]
    },
    {
     "name": "stderr",
     "output_type": "stream",
     "text": [
      "\n",
      "100%|██████████| 1/1 [00:00<00:00, 150.87it/s]\n",
      "Processing characters: 100%|██████████| 6/6 [00:00<00:00, 14917.50it/s]\n",
      "100%|██████████| 1/1 [00:00<00:00, 86.19it/s]\n"
     ]
    },
    {
     "name": "stdout",
     "output_type": "stream",
     "text": [
      "Dropping the following intBCs due to lack of diversity with threshold 0.98: ['ACTCTGCTCCAGAT_r1', 'ACTCTGCTCCAGAT_r2', 'ACTCTGCTCCAGAT_r3', 'GCCTACTTAAGTCC_r2', 'GCCTACTTAAGTCC_r3', 'TCAGGCGATGCGAA_r1', 'TCAGGCGATGCGAA_r2', 'TGTGAAGGTCAATA_r2', 'TGTGAAGGTCAATA_r3', 'TTCCCTATTTGCTA_r3', 'ACAGGTGCTCAAAT_r1', 'ACAGGTGCTCAAAT_r2']\n"
     ]
    },
    {
     "name": "stderr",
     "output_type": "stream",
     "text": [
      "Processing characters: 100%|██████████| 30/30 [00:00<00:00, 11723.57it/s]\n"
     ]
    },
    {
     "name": "stdout",
     "output_type": "stream",
     "text": [
      "Dropping the following intBCs due to lack of diversity with threshold 0.98: []\n"
     ]
    },
    {
     "name": "stderr",
     "output_type": "stream",
     "text": [
      "100%|██████████| 1/1 [00:00<00:00, 86.96it/s]\n",
      "Processing characters: 100%|██████████| 23/23 [00:00<00:00, 12726.78it/s]\n"
     ]
    },
    {
     "name": "stdout",
     "output_type": "stream",
     "text": [
      "Dropping the following intBCs due to lack of diversity with threshold 0.98: ['ACTCTGCTCCAGAT_r2', 'GTTTATTTCCGTAT_r1', 'GTTTATTTCCGTAT_r2', 'TATGATTAGTCGCG_r3', 'TCAGGCGATGCGAA_r1', 'TGATATAAATCTTT_r1', 'ACAGGTGCTCAAAT_r1']\n"
     ]
    },
    {
     "name": "stderr",
     "output_type": "stream",
     "text": [
      "100%|██████████| 1/1 [00:00<00:00, 96.16it/s]\n",
      "Processing characters: 100%|██████████| 26/26 [00:00<00:00, 15554.40it/s]\n"
     ]
    },
    {
     "name": "stdout",
     "output_type": "stream",
     "text": [
      "Dropping the following intBCs due to lack of diversity with threshold 0.98: ['TTCCCTATTTGCTA_r2']\n"
     ]
    },
    {
     "name": "stderr",
     "output_type": "stream",
     "text": [
      "100%|██████████| 1/1 [00:00<00:00, 78.83it/s]\n",
      "Processing characters: 100%|██████████| 81/81 [00:00<00:00, 19460.34it/s]"
     ]
    },
    {
     "name": "stdout",
     "output_type": "stream",
     "text": [
      "Dropping the following intBCs due to lack of diversity with threshold 0.98: ['AGGTTGGTCTACTT_r2', 'CGCCTCACCAAGCC_r1', 'CGGCTGATTATATT_r3', 'CTTTTCCTAAGCAT_r1', 'CTTTTCCTAAGCAT_r2', 'GGATTATTCCCCAT_r1', 'TGAATCATAAGCCG_r2', 'TGTGTAGTACGCTC_r2', 'TTAATTGGTTCACT_r3']\n"
     ]
    },
    {
     "name": "stderr",
     "output_type": "stream",
     "text": [
      "\n",
      "100%|██████████| 1/1 [00:00<00:00, 81.40it/s]\n",
      "Processing characters: 100%|██████████| 82/82 [00:00<00:00, 19413.69it/s]"
     ]
    },
    {
     "name": "stdout",
     "output_type": "stream",
     "text": [
      "Dropping the following intBCs due to lack of diversity with threshold 0.98: ['CGCAGATTATCAAT_r2', 'CGCAGATTATCAAT_r3', 'CGCCTCACCAAGCC_r1', 'CGCCTCACCAAGCC_r2', 'CCGAGATATAGGCT_r2']\n"
     ]
    },
    {
     "name": "stderr",
     "output_type": "stream",
     "text": [
      "\n",
      "100%|██████████| 1/1 [00:00<00:00, 83.54it/s]\n",
      "Processing characters: 100%|██████████| 92/92 [00:00<00:00, 47692.00it/s]\n"
     ]
    },
    {
     "name": "stdout",
     "output_type": "stream",
     "text": [
      "Dropping the following intBCs due to lack of diversity with threshold 0.98: ['GGATTATTCCCCAT_r1', 'TGAATCATAAGCCG_r2', 'TTCCCGCAAGACAA_r2', 'CGCCTCACCAAGCC_r1']\n"
     ]
    },
    {
     "name": "stderr",
     "output_type": "stream",
     "text": [
      "100%|██████████| 1/1 [00:00<00:00, 132.69it/s]\n",
      "Processing characters: 100%|██████████| 8/8 [00:00<00:00, 17439.93it/s]\n",
      "  0%|          | 0/1 [00:00<?, ?it/s]"
     ]
    },
    {
     "name": "stdout",
     "output_type": "stream",
     "text": [
      "Dropping the following intBCs due to lack of diversity with threshold 0.98: ['ACAGGTGCTCAAAT_r2', 'ACTCTGCTCCAGAT_r1', 'ACTCTGCTCCAGAT_r2', 'ACTCTGCTCCAGAT_r3', 'GCCTACTTAAGTCC_r1', 'GCCTACTTAAGTCC_r2', 'GTTTATTTCCGTAT_r2', 'GTTTATTTCCGTAT_r3', 'TGATATAAATCTTT_r1', 'TGATATAAATCTTT_r2', 'TGATATAAATCTTT_r3', 'TGTGAAGGTCAATA_r1', 'TGTGAAGGTCAATA_r2', 'TGTGAAGGTCAATA_r3', 'TGTTTTTGTCTGCA_r1', 'TTCCCTATTTGCTA_r2', 'TCAGGCGATGCGAA_r1', 'TCAGGCGATGCGAA_r2', 'TCAGGCGATGCGAA_r3']\n"
     ]
    },
    {
     "name": "stderr",
     "output_type": "stream",
     "text": [
      "100%|██████████| 1/1 [00:00<00:00, 70.95it/s]\n",
      "Processing characters: 100%|██████████| 2/2 [00:00<00:00, 1595.10it/s]"
     ]
    },
    {
     "name": "stdout",
     "output_type": "stream",
     "text": [
      "Dropping the following intBCs due to lack of diversity with threshold 0.98: ['ACAGGTGCTCAAAT_r1', 'ACAGGTGCTCAAAT_r2', 'ACTCTGCTCCAGAT_r1', 'ACTCTGCTCCAGAT_r2', 'ACTCTGCTCCAGAT_r3', 'GCCTACTTAAGTCC_r1', 'GCCTACTTAAGTCC_r2', 'GCCTACTTAAGTCC_r3', 'GTTTATTTCCGTAT_r1', 'GTTTATTTCCGTAT_r2', 'GTTTATTTCCGTAT_r3', 'TCAGGCGATGCGAA_r1', 'TCAGGCGATGCGAA_r2', 'TCAGGCGATGCGAA_r3', 'TGATATAAATCTTT_r1', 'TGATATAAATCTTT_r2', 'TGATATAAATCTTT_r3', 'TGTGAAGGTCAATA_r1', 'TGTGAAGGTCAATA_r2', 'TGTGAAGGTCAATA_r3', 'TGTTTTTGTCTGCA_r1', 'TGTTTTTGTCTGCA_r2', 'TGTTTTTGTCTGCA_r3', 'TTCCCTATTTGCTA_r1', 'TTCCCTATTTGCTA_r2']\n"
     ]
    },
    {
     "name": "stderr",
     "output_type": "stream",
     "text": [
      "\n",
      "100%|██████████| 1/1 [00:00<00:00, 93.08it/s]\n",
      "Processing characters: 100%|██████████| 2/2 [00:00<00:00, 1792.05it/s]"
     ]
    },
    {
     "name": "stdout",
     "output_type": "stream",
     "text": [
      "Dropping the following intBCs due to lack of diversity with threshold 0.98: ['ACAGGTGCTCAAAT_r1', 'ACAGGTGCTCAAAT_r2', 'ACTCTGCTCCAGAT_r1', 'ACTCTGCTCCAGAT_r2', 'ACTCTGCTCCAGAT_r3', 'GCCTACTTAAGTCC_r1', 'GCCTACTTAAGTCC_r2', 'GCCTACTTAAGTCC_r3', 'GTTTATTTCCGTAT_r1', 'GTTTATTTCCGTAT_r2', 'GTTTATTTCCGTAT_r3', 'TCAGGCGATGCGAA_r2', 'TCAGGCGATGCGAA_r3', 'TGATATAAATCTTT_r1', 'TGATATAAATCTTT_r2', 'TGATATAAATCTTT_r3', 'TGTGAAGGTCAATA_r1', 'TGTGAAGGTCAATA_r2', 'TGTGAAGGTCAATA_r3', 'TGTTTTTGTCTGCA_r1', 'TGTTTTTGTCTGCA_r2', 'TGTTTTTGTCTGCA_r3', 'TTCCCTATTTGCTA_r1', 'TTCCCTATTTGCTA_r2', 'TTCCCTATTTGCTA_r3']\n"
     ]
    },
    {
     "name": "stderr",
     "output_type": "stream",
     "text": [
      "\n",
      "100%|██████████| 1/1 [00:00<00:00, 38.38it/s]\n",
      "Processing characters: 100%|██████████| 6/6 [00:00<00:00, 541.89it/s]"
     ]
    },
    {
     "name": "stdout",
     "output_type": "stream",
     "text": [
      "Dropping the following intBCs due to lack of diversity with threshold 0.98: ['ACAGGTGCTCAAAT_r1', 'ACAGGTGCTCAAAT_r2', 'ACTCTGCTCCAGAT_r1', 'ACTCTGCTCCAGAT_r2', 'ACTCTGCTCCAGAT_r3', 'GCCTACTTAAGTCC_r1', 'GCCTACTTAAGTCC_r2', 'GCCTACTTAAGTCC_r3', 'GTTTATTTCCGTAT_r2', 'GTTTATTTCCGTAT_r3', 'GTTTTTTGTCTGCA_r2', 'GTTTTTTGTCTGCA_r3', 'TATGATTAGTCGCG_r1', 'TATGATTAGTCGCG_r2', 'TATGATTAGTCGCG_r3', 'TCAGGCGATGCGAA_r2', 'TCAGGCGATGCGAA_r3', 'TGTGAAGGTCAATA_r1', 'TGTGAAGGTCAATA_r2', 'TGTGAAGGTCAATA_r3', 'TGTTTTTGTCTGCA_r2', 'TGTTTTTGTCTGCA_r3', 'TTCCCTATTTGCTA_r1', 'TTCCCTATTTGCTA_r3']\n"
     ]
    },
    {
     "name": "stderr",
     "output_type": "stream",
     "text": [
      "\n",
      "100%|██████████| 1/1 [00:00<00:00, 12.23it/s]\n",
      "Processing characters: 100%|██████████| 11/11 [00:00<00:00, 118.56it/s]"
     ]
    },
    {
     "name": "stdout",
     "output_type": "stream",
     "text": [
      "Dropping the following intBCs due to lack of diversity with threshold 0.98: ['ACAGGTGCTCAAAT_r2', 'ACTCTGCTCCAGAT_r1', 'ACTCTGCTCCAGAT_r2', 'ACTCTGCTCCAGAT_r3', 'GCCTACTTAAGTCC_r1', 'GCCTACTTAAGTCC_r2', 'GTTTATTTCCGTAT_r2', 'GTTTATTTCCGTAT_r3', 'TATGATTAGTCGCG_r1', 'TATGATTAGTCGCG_r2', 'TATGATTAGTCGCG_r3', 'TCAGGCGATGCGAA_r1', 'TCAGGCGATGCGAA_r2', 'TCAGGCGATGCGAA_r3', 'TGTGAAGGTCAATA_r1', 'TGTGAAGGTCAATA_r2', 'TGTGAAGGTCAATA_r3', 'TGTTTTTGTCTGCA_r1', 'TTCCCTATTTGCTA_r2', 'TGATATAAATCTTT_r1', 'TGATATAAATCTTT_r2', 'TGATATAAATCTTT_r3']\n"
     ]
    },
    {
     "name": "stderr",
     "output_type": "stream",
     "text": [
      "\n",
      "100%|██████████| 1/1 [00:00<00:00, 94.29it/s]\n",
      "Processing characters: 100%|██████████| 29/29 [00:00<00:00, 2406.09it/s]"
     ]
    },
    {
     "name": "stdout",
     "output_type": "stream",
     "text": [
      "Dropping the following intBCs due to lack of diversity with threshold 0.98: ['TTCCCTATTTGCTA_r2']\n"
     ]
    },
    {
     "name": "stderr",
     "output_type": "stream",
     "text": [
      "\n",
      "100%|██████████| 1/1 [00:00<00:00, 96.14it/s]\n",
      "Processing characters: 100%|██████████| 30/30 [00:00<00:00, 2178.93it/s]"
     ]
    },
    {
     "name": "stdout",
     "output_type": "stream",
     "text": [
      "Dropping the following intBCs due to lack of diversity with threshold 0.98: []\n"
     ]
    },
    {
     "name": "stderr",
     "output_type": "stream",
     "text": [
      "\n",
      "100%|██████████| 1/1 [00:00<00:00, 77.16it/s]\n",
      "Processing characters: 100%|██████████| 30/30 [00:00<00:00, 1565.62it/s]"
     ]
    },
    {
     "name": "stdout",
     "output_type": "stream",
     "text": [
      "Dropping the following intBCs due to lack of diversity with threshold 0.98: []\n"
     ]
    },
    {
     "name": "stderr",
     "output_type": "stream",
     "text": [
      "\n",
      "100%|██████████| 1/1 [00:00<00:00, 107.54it/s]\n",
      "Processing characters: 100%|██████████| 30/30 [00:00<00:00, 3194.36it/s]"
     ]
    },
    {
     "name": "stdout",
     "output_type": "stream",
     "text": [
      "Dropping the following intBCs due to lack of diversity with threshold 0.98: []\n"
     ]
    },
    {
     "name": "stderr",
     "output_type": "stream",
     "text": [
      "\n",
      "100%|██████████| 1/1 [00:00<00:00, 40.67it/s]\n",
      "Processing characters: 100%|██████████| 31/31 [00:00<00:00, 654.87it/s]"
     ]
    },
    {
     "name": "stdout",
     "output_type": "stream",
     "text": [
      "Dropping the following intBCs due to lack of diversity with threshold 0.98: ['CTGAAACAGGTTTA_r3', 'GATAGCACAAAACG_r3']\n"
     ]
    },
    {
     "name": "stderr",
     "output_type": "stream",
     "text": [
      "\n",
      "100%|██████████| 1/1 [00:00<00:00, 100.82it/s]\n",
      "Processing characters: 100%|██████████| 14/14 [00:00<00:00, 2602.16it/s]"
     ]
    },
    {
     "name": "stdout",
     "output_type": "stream",
     "text": [
      "Dropping the following intBCs due to lack of diversity with threshold 0.98: ['ACATCTGCGAGATT_r1', 'ACATCTGCGAGATT_r2', 'ACATCTGCGAGATT_r3', 'ACATTATTAGATAC_r2', 'ACATTATTAGATAC_r3', 'CTCTTTTCAGTTCA_r2', 'CTCTTTTCAGTTCA_r3', 'GATAGCACAAAACG_r3', 'GTGCAAGCCTTATC_r2', 'GTGCAAGCCTTATC_r3', 'TATGCCGCCAGTTT_r2', 'TCTATACTGACGGA_r1', 'TCTATACTGACGGA_r2', 'TTACATGCTACCCC_r1', 'TTACATGCTACCCC_r2', 'TTTTGTGTTTCATC_r2']\n"
     ]
    },
    {
     "name": "stderr",
     "output_type": "stream",
     "text": [
      "\n",
      "100%|██████████| 1/1 [00:00<00:00, 163.39it/s]\n",
      "Processing characters: 100%|██████████| 5/5 [00:00<00:00, 44431.19it/s]\n",
      "100%|██████████| 1/1 [00:00<00:00, 59.93it/s]\n"
     ]
    },
    {
     "name": "stdout",
     "output_type": "stream",
     "text": [
      "Dropping the following intBCs due to lack of diversity with threshold 0.98: ['GTTCCACACTTTTC_r2', 'GTTCCACACTTTTC_r3', 'TGGGCCTCTCCTTG_r2', 'TTTTTTGTAGGCTT_r2', 'TTTTTTGTAGGCTT_r3', 'ACTCAGATCAAGGA_r1', 'ACTCAGATCAAGGA_r2', 'ACTCAGATCAAGGA_r3', 'AGTGTTATTACCCT_r1', 'AGTGTTATTACCCT_r2', 'ATATACGGCTGCCC_r1', 'ATATACGGCTGCCC_r2', 'ATATACGGCTGCCC_r3']\n"
     ]
    },
    {
     "name": "stderr",
     "output_type": "stream",
     "text": [
      "Processing characters: 100%|██████████| 42/42 [00:00<00:00, 1550.55it/s]"
     ]
    },
    {
     "name": "stdout",
     "output_type": "stream",
     "text": [
      "Dropping the following intBCs due to lack of diversity with threshold 0.98: ['ACATCGATCTCCTG_r2', 'TGATATTTTCTGAG_r2', 'GTAAACAAACGGGA_r2']\n"
     ]
    },
    {
     "name": "stderr",
     "output_type": "stream",
     "text": [
      "\n",
      "100%|██████████| 1/1 [00:00<00:00, 117.01it/s]\n",
      "Processing characters: 100%|██████████| 24/24 [00:00<00:00, 3525.61it/s]"
     ]
    },
    {
     "name": "stdout",
     "output_type": "stream",
     "text": [
      "Dropping the following intBCs due to lack of diversity with threshold 0.98: []\n"
     ]
    },
    {
     "name": "stderr",
     "output_type": "stream",
     "text": [
      "\n",
      "100%|██████████| 1/1 [00:00<00:00, 129.51it/s]\n",
      "Processing characters: 100%|██████████| 18/18 [00:00<00:00, 8067.69it/s]\n"
     ]
    },
    {
     "name": "stdout",
     "output_type": "stream",
     "text": [
      "Dropping the following intBCs due to lack of diversity with threshold 0.98: []\n"
     ]
    },
    {
     "name": "stderr",
     "output_type": "stream",
     "text": [
      "100%|██████████| 1/1 [00:00<00:00, 113.18it/s]\n",
      "Processing characters: 100%|██████████| 19/19 [00:00<00:00, 3648.22it/s]"
     ]
    },
    {
     "name": "stdout",
     "output_type": "stream",
     "text": [
      "Dropping the following intBCs due to lack of diversity with threshold 0.98: ['ACATCTGCGAGATT_r3', 'ACGTGCAAGGACGC_r1', 'ACGTGCAAGGACGC_r2', 'ACGTGCAAGGACGC_r3', 'TTTTGTGTTTCATC_r2', 'ACATTATTAGATAC_r1', 'ACATTATTAGATAC_r2', 'TCTATACTGACGGA_r1']\n"
     ]
    },
    {
     "name": "stderr",
     "output_type": "stream",
     "text": [
      "\n",
      "100%|██████████| 1/1 [00:00<00:00, 122.24it/s]\n",
      "Processing characters: 100%|██████████| 6/6 [00:00<00:00, 4893.22it/s]"
     ]
    },
    {
     "name": "stdout",
     "output_type": "stream",
     "text": [
      "Dropping the following intBCs due to lack of diversity with threshold 0.98: ['ACATCTGCGAGATT_r1', 'ACATCTGCGAGATT_r2', 'ACATTATTAGATAC_r1', 'ACATTATTAGATAC_r2', 'ACATTATTAGATAC_r3', 'CTCTTTTCAGTTCA_r2', 'CTCTTTTCAGTTCA_r3', 'GATAGCACAAAACG_r2', 'TATGCCGCCAGTTT_r1', 'TATGCCGCCAGTTT_r2', 'TATGCCGCCAGTTT_r3', 'TTACATGCTACCCC_r2', 'TTACATGCTACCCC_r3', 'TTTTGTGTTTCATC_r1', 'TTTTGTGTTTCATC_r2', 'TTTTGTGTTTCATC_r3', 'TCTATACTGACGGA_r1', 'TCTATACTGACGGA_r2']\n"
     ]
    },
    {
     "name": "stderr",
     "output_type": "stream",
     "text": [
      "\n",
      "100%|██████████| 1/1 [00:00<00:00, 147.23it/s]\n",
      "Processing characters: 100%|██████████| 24/24 [00:00<00:00, 13557.35it/s]\n"
     ]
    },
    {
     "name": "stdout",
     "output_type": "stream",
     "text": [
      "Dropping the following intBCs due to lack of diversity with threshold 0.98: []\n"
     ]
    }
   ],
   "source": [
    "keep_cellbcs = []\n",
    "error_tumors = []\n",
    "\n",
    "for tumor, tumor_at in allele_table_unfiltered.groupby('Tumor'):\n",
    "    clone = meta.loc[meta['Tumor'] == tumor, 'ES_clone'].iloc[0]\n",
    "\n",
    "    if type(clone) != str:\n",
    "        continue\n",
    "\n",
    "    if 'All' in tumor or 'Met' in tumor or \"Fam\" in tumor:\n",
    "        continue\n",
    "\n",
    "    if 'Normal' in tumor or 'Imm' in tumor:\n",
    "        continue\n",
    "\n",
    "    lg = lg_util.collectAlleles(tumor_at, thresh=0.2)[0]\n",
    "    \n",
    "    try:\n",
    "        cm2, priors, state2indel = util.alleletable_to_character_matrix(lg, write=False, mutation_map = None, allele_rep_thresh = 0.98)\n",
    "    except:\n",
    "        cm2, priors, state2indel = util.alleletable_to_character_matrix(lg, write=False, mutation_map = None, allele_rep_thresh = 1.0)\n",
    "        \n",
    "    pu = cm2.apply(lambda x: percent_uncut(x.values), axis=1)\n",
    "    \n",
    "    cmf = cm2[pu < 0.8]\n",
    "    \n",
    "    cellbcs = cmf.index.values\n",
    "    \n",
    "    meta.loc[pu.index, 'percent_uncut'] = pu.values\n",
    "\n",
    "    keep_cellbcs += list(cellbcs)"
   ]
  },
  {
   "cell_type": "code",
   "execution_count": 6,
   "metadata": {},
   "outputs": [
    {
     "name": "stdout",
     "output_type": "stream",
     "text": [
      "Filtered to 90154 from 93634\n"
     ]
    }
   ],
   "source": [
    "filt = allele_table_unfiltered['cellBC'].isin(keep_cellbcs)\n",
    "allele_table_filtered = allele_table_unfiltered[filt].copy()\n",
    "\n",
    "print(f\"Filtered to {allele_table_filtered['cellBC'].nunique()} from {allele_table_unfiltered['cellBC'].nunique()}\")"
   ]
  },
  {
   "cell_type": "code",
   "execution_count": 7,
   "metadata": {},
   "outputs": [
    {
     "name": "stderr",
     "output_type": "stream",
     "text": [
      "/home/eecs/mattjones/anaconda3/lib/python3.7/site-packages/ipykernel_launcher.py:4: TqdmDeprecationWarning: This function will be removed in tqdm==5.0.0\n",
      "Please use `tqdm.notebook.tqdm` instead of `tqdm.tqdm_notebook`\n",
      "  after removing the cwd from sys.path.\n"
     ]
    },
    {
     "data": {
      "application/vnd.jupyter.widget-view+json": {
       "model_id": "4ceabf055b3c46eb934364dec5a415bf",
       "version_major": 2,
       "version_minor": 0
      },
      "text/plain": [
       "  0%|          | 0/9 [00:00<?, ?it/s]"
      ]
     },
     "metadata": {},
     "output_type": "display_data"
    }
   ],
   "source": [
    "es_clones = trcr_master['ES_clone'].unique()\n",
    "es_to_props = {}\n",
    "\n",
    "for esc in tqdm_notebook(es_clones):\n",
    "    \n",
    "    if type(esc) != str:\n",
    "        continue\n",
    "    \n",
    "    at_es = allele_table_filtered[allele_table_filtered['ES_clone'] == esc]\n",
    "    \n",
    "    if at_es.shape[0] == 0:\n",
    "        continue\n",
    "    \n",
    "    es_piv = pd.pivot_table(at_es, index=\"Tumor\", columns=\"intBC\", values=\"UMI\", aggfunc=\"sum\")\n",
    "    es_piv.fillna(value = 0, inplace=True)\n",
    "    es_piv[es_piv > 0] = 1\n",
    "    \n",
    "    props = es_piv.apply(lambda x: np.sum(x) / len(x)).to_frame().reset_index()\n",
    "    props.columns = ['intBC', 'prop']\n",
    "    \n",
    "    props = props.sort_values(by = 'prop', ascending=False)\n",
    "    props = props[(props['intBC'] != 'NC')]\n",
    "    \n",
    "    props.index = props.intBC\n",
    "    \n",
    "    es_to_props[esc] = props"
   ]
  },
  {
   "cell_type": "code",
   "execution_count": 15,
   "metadata": {},
   "outputs": [
    {
     "name": "stderr",
     "output_type": "stream",
     "text": [
      "/home/eecs/mattjones/anaconda3/lib/python3.7/site-packages/ipykernel_launcher.py:7: TqdmDeprecationWarning: This function will be removed in tqdm==5.0.0\n",
      "Please use `tqdm.notebook.tqdm` instead of `tqdm.tqdm_notebook`\n",
      "  import sys\n"
     ]
    },
    {
     "data": {
      "application/vnd.jupyter.widget-view+json": {
       "model_id": "4624f9092a4a47e49b2e5cc0d4a9de3a",
       "version_major": 2,
       "version_minor": 0
      },
      "text/plain": [
       "  0%|          | 0/9 [00:00<?, ?it/s]"
      ]
     },
     "metadata": {},
     "output_type": "display_data"
    }
   ],
   "source": [
    "\n",
    "at_piv = pd.pivot_table(allele_table_filtered, index=\"cellBC\", columns=\"intBC\", values=\"UMI\", aggfunc=\"sum\")\n",
    "at_piv.fillna(value = 0, inplace=True)\n",
    "at_piv[at_piv > 0] = 1\n",
    "\n",
    "es_rep_dfs = {}\n",
    "\n",
    "for esc in tqdm_notebook(es_clones):\n",
    "\n",
    "    tumors = allele_table_filtered.loc[allele_table_filtered['ES_clone'] == esc, 'Tumor'].unique()\n",
    "    tumor_dict = {}\n",
    "    \n",
    "    for tumor in tumors:\n",
    "    \n",
    "        cells = allele_table_filtered.loc[allele_table_filtered['Tumor'] == tumor, 'cellBC'].unique()\n",
    "        tumor_piv = at_piv.loc[cells]\n",
    "            \n",
    "        tumor_piv = tumor_piv.loc[:, tumor_piv.sum(axis=0) > 0]\n",
    "            \n",
    "        props = tumor_piv.apply(lambda x: np.sum(x>0) / len(x)).to_frame().reset_index()\n",
    "        props.columns = ['intBC', 'prop']\n",
    "\n",
    "        props = props.sort_values(by = 'prop', ascending=False)\n",
    "        props = props[(props['intBC'] != 'NC')]\n",
    "\n",
    "        props.index = props.intBC\n",
    "\n",
    "        tumor_dict[tumor] = props['prop'].to_dict()\n",
    "    \n",
    "    tumor_df = pd.DataFrame.from_dict(tumor_dict, orient='index')\n",
    "    tumor_df.fillna(value = 0, inplace=True)\n",
    "    es_rep_dfs[esc] = tumor_df"
   ]
  },
  {
   "cell_type": "markdown",
   "metadata": {},
   "source": [
    "### Figure S1F: Consensus barcodes"
   ]
  },
  {
   "cell_type": "code",
   "execution_count": 11,
   "metadata": {},
   "outputs": [
    {
     "data": {
      "image/png": "[encoded data removed]",
      "text/plain": [
       "<Figure size 432x288 with 1 Axes>"
      ]
     },
     "metadata": {
      "needs_background": "light"
     },
     "output_type": "display_data"
    }
   ],
   "source": [
    "clone = '1D5'\n",
    "consensus_filter_bound = 0.4\n",
    "\n",
    "props = es_rep_dfs[clone].copy()\n",
    "props[props >= 0.1] = 1\n",
    "props[props < 0.1] = 0\n",
    "\n",
    "props2 = props.apply(lambda x: np.sum(x>0) / len(x)).to_frame().reset_index()\n",
    "props2.columns = ['intBC', 'prop']\n",
    "props2 = props2.loc[props2['prop'] > 0]\n",
    "\n",
    "props2.index = props2.intBC\n",
    "props2 = props2.sort_values(by = 'prop', ascending=False)\n",
    "\n",
    "ibcs = props2[props2['prop'] > consensus_filter_bound].index  \n",
    "\n",
    "plt.close()\n",
    "props2[props2['prop'] > 0.05]['prop'].plot(kind = 'bar')\n",
    "plt.axhline(y = consensus_filter_bound, color='red')\n",
    "plt.ylabel('Representation across tumors')\n",
    "plt.title('intBC Representation, ' + clone)\n",
    "plt.tight_layout()\n",
    "plt.show()"
   ]
  },
  {
   "cell_type": "markdown",
   "metadata": {},
   "source": [
    "## Figures with filtered allele table\n",
    "\n",
    "The plots below are made with a completely filtered allele table - after filtering out \"normal\" cells with few cut intBCs and subsetting intBCs to only those identified as consensus intBCs."
   ]
  },
  {
   "cell_type": "code",
   "execution_count": 17,
   "metadata": {},
   "outputs": [],
   "source": [
    "allele_table_final = pd.read_csv(f\"{data_directory}/KPTracer.alleleTable.FINAL.txt\", sep='\\t', converters={\"ES_clone\": str})"
   ]
  },
  {
   "cell_type": "code",
   "execution_count": 18,
   "metadata": {},
   "outputs": [
    {
     "name": "stderr",
     "output_type": "stream",
     "text": [
      "/home/eecs/mattjones/anaconda3/lib/python3.7/site-packages/ipykernel_launcher.py:7: TqdmDeprecationWarning: This function will be removed in tqdm==5.0.0\n",
      "Please use `tqdm.notebook.tqdm` instead of `tqdm.tqdm_notebook`\n",
      "  import sys\n"
     ]
    },
    {
     "data": {
      "application/vnd.jupyter.widget-view+json": {
       "model_id": "70020cfdcf464598a7ad9f4a6b330902",
       "version_major": 2,
       "version_minor": 0
      },
      "text/plain": [
       "  0%|          | 0/9 [00:00<?, ?it/s]"
      ]
     },
     "metadata": {},
     "output_type": "display_data"
    }
   ],
   "source": [
    "at_piv = pd.pivot_table(allele_table_final, index=\"cellBC\", columns=\"intBC\", values=\"UMI\", aggfunc=\"sum\")\n",
    "at_piv.fillna(value = 0, inplace=True)\n",
    "at_piv[at_piv > 0] = 1\n",
    "\n",
    "es_rep_dfs = {}\n",
    "\n",
    "for esc in tqdm_notebook(es_clones):\n",
    "    \n",
    "    if type(esc) != str:\n",
    "        continue\n",
    "    \n",
    "    tumors = allele_table_final.loc[allele_table_final['ES_clone'] == esc, 'Tumor'].unique()\n",
    "    tumor_dict = {}\n",
    "    \n",
    "    for tumor in tumors:\n",
    "    \n",
    "        cells = allele_table_final.loc[allele_table_final['Tumor'] == tumor, 'cellBC'].unique()\n",
    "        tumor_piv = at_piv.loc[cells]\n",
    "        \n",
    "        if tumor_piv.shape[0] == 0:\n",
    "            continue\n",
    "            \n",
    "        tumor_piv = tumor_piv.loc[:, tumor_piv.sum(axis=0) > 0]\n",
    "            \n",
    "        props = tumor_piv.apply(lambda x: np.sum(x>0) / len(x)).to_frame().reset_index()\n",
    "        props.columns = ['intBC', 'prop']\n",
    "\n",
    "        props = props.sort_values(by = 'prop', ascending=False)\n",
    "        props = props[(props['intBC'] != 'NC')]\n",
    "\n",
    "        props.index = props.intBC\n",
    "\n",
    "        tumor_dict[tumor] = props['prop'].to_dict()\n",
    "    \n",
    "    if len(tumor_dict) > 0:\n",
    "        tumor_df = pd.DataFrame.from_dict(tumor_dict, orient='index')\n",
    "        tumor_df.fillna(value = 0, inplace=True)\n",
    "        es_rep_dfs[esc] = tumor_df"
   ]
  },
  {
   "cell_type": "markdown",
   "metadata": {},
   "source": [
    "### Figure 1D: intBC expression"
   ]
  },
  {
   "cell_type": "code",
   "execution_count": 19,
   "metadata": {},
   "outputs": [
    {
     "data": {
      "image/png": "[encoded data removed]",
      "text/plain": [
       "<Figure size 864x432 with 1 Axes>"
      ]
     },
     "metadata": {
      "needs_background": "light"
     },
     "output_type": "display_data"
    }
   ],
   "source": [
    "clone = '2E1'\n",
    "ibcs = allele_table_final.loc[allele_table_final['ES_clone'] == clone, 'intBC'].unique()\n",
    "ibcs = es_rep_dfs[clone][ibcs].mean(axis=0).sort_values(ascending=False).index.values\n",
    "\n",
    "melted = pd.melt(es_rep_dfs[clone][ibcs])\n",
    "h = plt.figure(figsize=(12, 6))\n",
    "ax = sns.violinplot(x=\"variable\", y=\"value\",\n",
    "            data=melted, palette=\"muted\", inner='point', cut=0, scale='count')\n",
    "plt.xticks(rotation = 90)\n",
    "plt.xlabel('intBC (Loose Consensus)')\n",
    "plt.ylabel('Frequency in tumor')\n",
    "plt.title('intBC Expression by tumor, ES ' +  clone)\n",
    "\n",
    "plt.tight_layout()"
   ]
  },
  {
   "cell_type": "markdown",
   "metadata": {},
   "source": [
    "### Figure S1G: intBC / cellBC pivot"
   ]
  },
  {
   "cell_type": "code",
   "execution_count": 28,
   "metadata": {},
   "outputs": [
    {
     "name": "stderr",
     "output_type": "stream",
     "text": [
      "/home/eecs/mattjones/anaconda3/lib/python3.7/site-packages/ipykernel_launcher.py:7: TqdmDeprecationWarning: This function will be removed in tqdm==5.0.0\n",
      "Please use `tqdm.notebook.tqdm` instead of `tqdm.tqdm_notebook`\n",
      "  import sys\n"
     ]
    },
    {
     "data": {
      "application/vnd.jupyter.widget-view+json": {
       "model_id": "33e21a9ad5ae4855948ad0301e16a43c",
       "version_major": 2,
       "version_minor": 0
      },
      "text/plain": [
       "  0%|          | 0/6 [00:00<?, ?it/s]"
      ]
     },
     "metadata": {},
     "output_type": "display_data"
    }
   ],
   "source": [
    "clone_sizes = allele_table_final.groupby('ES_clone').agg({'cellBC': 'nunique'}).sort_values(by = 'cellBC')\n",
    "\n",
    "# order tumors by ES clone ident\n",
    "cell_ordering = []\n",
    "es_annotation = []\n",
    "es_to_intbcs = {}\n",
    "for es in tqdm_notebook(clone_sizes.index):\n",
    "    all_tumors = allele_table_final.loc[allele_table_final['ES_clone'] == es, 'Tumor'].unique()\n",
    "    \n",
    "    intBCs = allele_table_final.loc[allele_table_final['ES_clone'] == es, 'intBC'].value_counts().sort_values(ascending=False).index\n",
    "    es_to_intbcs[es] = intBCs\n",
    "    \n",
    "    tumors = []\n",
    "    for tumor in all_tumors:\n",
    "        if tumor in tumor_list['Tumor'].tolist():\n",
    "            tumors.append(tumor)\n",
    "\n",
    "    for tumor in tumors:\n",
    "        cells = allele_table_final.loc[allele_table_final['Tumor'] == tumor, 'cellBC'].unique()\n",
    "        cell_ordering += list(cells)\n",
    "        es_annotation += [es]*len(cells)\n",
    "\n",
    "at_piv = pd.pivot_table(allele_table_final, columns='intBC', index='cellBC', values='UMI')\n",
    "at_piv[at_piv > 0] = 1\n",
    "\n",
    "at_piv = at_piv.loc[cell_ordering]"
   ]
  },
  {
   "cell_type": "code",
   "execution_count": 29,
   "metadata": {},
   "outputs": [
    {
     "data": {
      "image/png": "[encoded data removed]",
      "text/plain": [
       "<Figure size 504x504 with 2 Axes>"
      ]
     },
     "metadata": {
      "needs_background": "light"
     },
     "output_type": "display_data"
    }
   ],
   "source": [
    "all_consensus_ibcs = []\n",
    "for es_clone in clone_sizes.index[::-1]:\n",
    "    if es_clone in es_annotation:\n",
    "        all_consensus_ibcs += list(es_to_intbcs[es_clone])\n",
    "\n",
    "colors = list(plt.get_cmap('tab10').colors)\n",
    "module_colors = {j: colors[(i-1) % len(colors)] for i, j in zip(range(len(np.unique(es_annotation))), np.unique(es_annotation))}\n",
    "\n",
    "row_colors = pd.Series([module_colors[i] for i in es_annotation], index = at_piv.index)\n",
    "cbar_mat = np.zeros((len(row_colors), 1, 3))\n",
    "for r in range(len(row_colors)):\n",
    "    cbar_mat[r, 0, :] = row_colors.iloc[r][0], row_colors.iloc[r][1], row_colors.iloc[r][2]\n",
    "\n",
    "h2 = plt.figure(2,figsize=(7,7))\n",
    "axmat2 = h2.add_axes([0.3,0.1,0.6,0.8])\n",
    "im2 = axmat2.matshow(at_piv[all_consensus_ibcs], aspect='auto', origin='upper')\n",
    "axmat2.set_yticks([])\n",
    "axmat2.set_xticks([])\n",
    "\n",
    "cbar = h2.add_axes([0.2, 0.1, 0.05, 0.8])\n",
    "im3 = cbar.imshow(cbar_mat, aspect='auto', origin='upper', interpolation=\"none\")\n",
    "\n",
    "plt.title('Consensus intBC pivot table')\n",
    "plt.show()"
   ]
  },
  {
   "cell_type": "markdown",
   "metadata": {},
   "source": [
    "### Figure S1H: Tumor Quality-Control"
   ]
  },
  {
   "cell_type": "code",
   "execution_count": 21,
   "metadata": {
    "collapsed": true,
    "jupyter": {
     "outputs_hidden": true
    }
   },
   "outputs": [
    {
     "name": "stderr",
     "output_type": "stream",
     "text": [
      "100%|██████████| 1/1 [00:00<00:00, 87.29it/s]\n",
      "Processing characters: 100%|██████████| 4/4 [00:00<00:00, 1480.91it/s]"
     ]
    },
    {
     "name": "stdout",
     "output_type": "stream",
     "text": [
      "Dropping the following intBCs due to lack of diversity with threshold 0.98: ['TTTTGTGTTTCATC_r2', 'TTTTGTGTTTCATC_r3', 'TTACATGCTACCCC_r1', 'TTACATGCTACCCC_r2', 'TTACATGCTACCCC_r3', 'ACGTGCAAGGACGC_r1', 'ACGTGCAAGGACGC_r2', 'ACGTGCAAGGACGC_r3', 'ACATTATTAGATAC_r1', 'ACATTATTAGATAC_r2', 'ACATTATTAGATAC_r3']\n"
     ]
    },
    {
     "name": "stderr",
     "output_type": "stream",
     "text": [
      "\n",
      "100%|██████████| 1/1 [00:00<00:00, 102.34it/s]\n",
      "Processing characters: 100%|██████████| 9/9 [00:00<00:00, 3359.33it/s]"
     ]
    },
    {
     "name": "stdout",
     "output_type": "stream",
     "text": [
      "Dropping the following intBCs due to lack of diversity with threshold 0.98: ['CTCTTTTCAGTTCA_r1', 'CTCTTTTCAGTTCA_r2', 'ACATCTGCGAGATT_r1', 'ACATCTGCGAGATT_r2', 'ACATTATTAGATAC_r1', 'ACATTATTAGATAC_r2', 'ACATTATTAGATAC_r3', 'ACGTGCAAGGACGC_r2', 'ACGTGCAAGGACGC_r3', 'GATAGCACAAAACG_r3', 'TCTATACTGACGGA_r1', 'TCTATACTGACGGA_r2', 'TTACATGCTACCCC_r1', 'TTACATGCTACCCC_r2', 'TTTTGTGTTTCATC_r2']\n"
     ]
    },
    {
     "name": "stderr",
     "output_type": "stream",
     "text": [
      "\n",
      "100%|██████████| 1/1 [00:00<00:00, 184.19it/s]\n",
      "Processing characters: 0it [00:00, ?it/s]\n",
      "Processing characters: 100%|██████████| 12/12 [00:00<00:00, 151146.09it/s]\n",
      "100%|██████████| 1/1 [00:00<00:00, 152.13it/s]\n",
      "Processing characters: 100%|██████████| 26/26 [00:00<00:00, 36038.30it/s]\n"
     ]
    },
    {
     "name": "stdout",
     "output_type": "stream",
     "text": [
      "Dropping the following intBCs due to lack of diversity with threshold 0.98: ['TTTTGTGTTTCATC_r1', 'TTTTGTGTTTCATC_r2', 'TTTTGTGTTTCATC_r3', 'TTACATGCTACCCC_r1', 'TTACATGCTACCCC_r2', 'TTACATGCTACCCC_r3', 'ACGTGCAAGGACGC_r1', 'ACGTGCAAGGACGC_r2', 'ACGTGCAAGGACGC_r3', 'ACATTATTAGATAC_r1', 'ACATTATTAGATAC_r2', 'ACATTATTAGATAC_r3']\n",
      "Dropping the following intBCs due to lack of diversity with threshold 1.0: []\n",
      "Dropping the following intBCs due to lack of diversity with threshold 0.98: ['ACGTGCAAGGACGC_r3']\n"
     ]
    },
    {
     "name": "stderr",
     "output_type": "stream",
     "text": [
      "100%|██████████| 1/1 [00:00<00:00, 129.74it/s]\n",
      "Processing characters: 100%|██████████| 27/27 [00:00<00:00, 9170.48it/s]"
     ]
    },
    {
     "name": "stdout",
     "output_type": "stream",
     "text": [
      "Dropping the following intBCs due to lack of diversity with threshold 0.98: ['CTCTTTTCAGTTCA_r1', 'GATAGCACAAAACG_r3', 'TTTTGTGTTTCATC_r1']\n"
     ]
    },
    {
     "name": "stderr",
     "output_type": "stream",
     "text": [
      "\n",
      "100%|██████████| 1/1 [00:00<00:00, 134.23it/s]\n",
      "Processing characters: 100%|██████████| 23/23 [00:00<00:00, 10334.12it/s]"
     ]
    },
    {
     "name": "stdout",
     "output_type": "stream",
     "text": [
      "Dropping the following intBCs due to lack of diversity with threshold 0.98: ['ACGTGCAAGGACGC_r1', 'CTCTTTTCAGTTCA_r1', 'CTCTTTTCAGTTCA_r2', 'TTTTGTGTTTCATC_r1']\n"
     ]
    },
    {
     "name": "stderr",
     "output_type": "stream",
     "text": [
      "\n",
      "100%|██████████| 1/1 [00:00<00:00, 165.85it/s]\n",
      "Processing characters: 100%|██████████| 13/13 [00:00<00:00, 128296.36it/s]\n",
      "100%|██████████| 1/1 [00:00<00:00, 134.18it/s]\n"
     ]
    },
    {
     "name": "stdout",
     "output_type": "stream",
     "text": [
      "Dropping the following intBCs due to lack of diversity with threshold 0.98: ['TATGCCGCCAGTTT_r1', 'TATGCCGCCAGTTT_r2', 'TTTTGTGTTTCATC_r1', 'TTTTGTGTTTCATC_r2', 'TTTTGTGTTTCATC_r3', 'TCTATACTGACGGA_r1', 'TCTATACTGACGGA_r2', 'TCTATACTGACGGA_r3']\n"
     ]
    },
    {
     "name": "stderr",
     "output_type": "stream",
     "text": [
      "Processing characters: 100%|██████████| 13/13 [00:00<00:00, 6951.29it/s]"
     ]
    },
    {
     "name": "stdout",
     "output_type": "stream",
     "text": [
      "Dropping the following intBCs due to lack of diversity with threshold 0.98: ['TATGCCGCCAGTTT_r1', 'TATGCCGCCAGTTT_r2', 'TTACATGCTACCCC_r2', 'TTTTGTGTTTCATC_r1', 'TTTTGTGTTTCATC_r2', 'ACATCTGCGAGATT_r1', 'ACATCTGCGAGATT_r2', 'TCTATACTGACGGA_r2']\n"
     ]
    },
    {
     "name": "stderr",
     "output_type": "stream",
     "text": [
      "\n",
      "100%|██████████| 1/1 [00:00<00:00, 66.99it/s]\n",
      "Processing characters: 100%|██████████| 4/4 [00:00<00:00, 955.69it/s]"
     ]
    },
    {
     "name": "stdout",
     "output_type": "stream",
     "text": [
      "Dropping the following intBCs due to lack of diversity with threshold 0.98: ['ACATTATTAGATAC_r1', 'ACATTATTAGATAC_r2', 'CTCTTTTCAGTTCA_r1', 'CTCTTTTCAGTTCA_r2', 'CTCTTTTCAGTTCA_r3', 'ACATCTGCGAGATT_r1', 'ACATCTGCGAGATT_r2', 'ACATCTGCGAGATT_r3', 'ACGTGCAAGGACGC_r1', 'ACGTGCAAGGACGC_r2', 'ACGTGCAAGGACGC_r3', 'GTGCAAGCCTTATC_r1', 'GTGCAAGCCTTATC_r2', 'GATAGCACAAAACG_r2', 'TATGCCGCCAGTTT_r1', 'TATGCCGCCAGTTT_r2', 'TATGCCGCCAGTTT_r3', 'TTACATGCTACCCC_r1', 'TTACATGCTACCCC_r2', 'TTACATGCTACCCC_r3']\n"
     ]
    },
    {
     "name": "stderr",
     "output_type": "stream",
     "text": [
      "\n",
      "100%|██████████| 1/1 [00:00<00:00, 84.10it/s]\n",
      "Processing characters: 100%|██████████| 30/30 [00:00<00:00, 1701.24it/s]"
     ]
    },
    {
     "name": "stdout",
     "output_type": "stream",
     "text": [
      "Dropping the following intBCs due to lack of diversity with threshold 0.98: []\n"
     ]
    },
    {
     "name": "stderr",
     "output_type": "stream",
     "text": [
      "\n",
      "100%|██████████| 1/1 [00:00<00:00, 73.22it/s]\n",
      "Processing characters: 100%|██████████| 9/9 [00:00<00:00, 843.74it/s]"
     ]
    },
    {
     "name": "stdout",
     "output_type": "stream",
     "text": [
      "Dropping the following intBCs due to lack of diversity with threshold 0.98: ['ACGTGCAAGGACGC_r1', 'ACGTGCAAGGACGC_r2', 'CTCTTTTCAGTTCA_r1', 'CTCTTTTCAGTTCA_r2', 'CTCTTTTCAGTTCA_r3', 'ACATTATTAGATAC_r1', 'ACATTATTAGATAC_r2', 'TCTATACTGACGGA_r1', 'TTTTGTGTTTCATC_r2']\n"
     ]
    },
    {
     "name": "stderr",
     "output_type": "stream",
     "text": [
      "\n",
      "100%|██████████| 1/1 [00:00<00:00, 87.07it/s]\n",
      "Processing characters: 100%|██████████| 30/30 [00:00<00:00, 1884.15it/s]"
     ]
    },
    {
     "name": "stdout",
     "output_type": "stream",
     "text": [
      "Dropping the following intBCs due to lack of diversity with threshold 0.98: []\n"
     ]
    },
    {
     "name": "stderr",
     "output_type": "stream",
     "text": [
      "\n",
      "100%|██████████| 1/1 [00:00<00:00, 124.17it/s]\n",
      "Processing characters: 100%|██████████| 30/30 [00:00<00:00, 6282.97it/s]"
     ]
    },
    {
     "name": "stdout",
     "output_type": "stream",
     "text": [
      "Dropping the following intBCs due to lack of diversity with threshold 0.98: []\n"
     ]
    },
    {
     "name": "stderr",
     "output_type": "stream",
     "text": [
      "\n",
      "100%|██████████| 1/1 [00:00<00:00, 122.87it/s]\n",
      "Processing characters: 100%|██████████| 29/29 [00:00<00:00, 6842.64it/s]"
     ]
    },
    {
     "name": "stdout",
     "output_type": "stream",
     "text": [
      "Dropping the following intBCs due to lack of diversity with threshold 0.98: ['TATGCCGCCAGTTT_r1']\n"
     ]
    },
    {
     "name": "stderr",
     "output_type": "stream",
     "text": [
      "\n",
      "100%|██████████| 1/1 [00:00<00:00, 127.61it/s]\n",
      "Processing characters: 100%|██████████| 22/22 [00:00<00:00, 12397.51it/s]\n"
     ]
    },
    {
     "name": "stdout",
     "output_type": "stream",
     "text": [
      "Dropping the following intBCs due to lack of diversity with threshold 0.98: ['ACGTGCAAGGACGC_r1', 'ACGTGCAAGGACGC_r2', 'CTCTTTTCAGTTCA_r1', 'CTCTTTTCAGTTCA_r2', 'GTGCAAGCCTTATC_r3', 'TTACATGCTACCCC_r1', 'TTACATGCTACCCC_r2', 'TTTTGTGTTTCATC_r1']\n"
     ]
    },
    {
     "name": "stderr",
     "output_type": "stream",
     "text": [
      "100%|██████████| 1/1 [00:00<00:00, 93.44it/s]\n",
      "Processing characters: 100%|██████████| 6/6 [00:00<00:00, 2059.40it/s]"
     ]
    },
    {
     "name": "stdout",
     "output_type": "stream",
     "text": [
      "Dropping the following intBCs due to lack of diversity with threshold 0.98: ['TTTTGTGTTTCATC_r1', 'TTTTGTGTTTCATC_r2', 'TTTTGTGTTTCATC_r3', 'TTACATGCTACCCC_r1', 'TTACATGCTACCCC_r2', 'TTACATGCTACCCC_r3', 'TCTATACTGACGGA_r1', 'TCTATACTGACGGA_r2', 'TCTATACTGACGGA_r3', 'CTCTTTTCAGTTCA_r1', 'CTCTTTTCAGTTCA_r2', 'CTCTTTTCAGTTCA_r3', 'ACGTGCAAGGACGC_r2', 'ACGTGCAAGGACGC_r3', 'ACATCTGCGAGATT_r2', 'ACATTATTAGATAC_r1', 'ACATTATTAGATAC_r2', 'ACATTATTAGATAC_r3']\n"
     ]
    },
    {
     "name": "stderr",
     "output_type": "stream",
     "text": [
      "\n",
      "100%|██████████| 1/1 [00:00<00:00, 144.17it/s]\n",
      "Processing characters: 0it [00:00, ?it/s]\n",
      "Processing characters: 100%|██████████| 21/21 [00:00<00:00, 12954.90it/s]"
     ]
    },
    {
     "name": "stdout",
     "output_type": "stream",
     "text": [
      "Dropping the following intBCs due to lack of diversity with threshold 0.98: ['TTTTGTGTTTCATC_r1', 'TTTTGTGTTTCATC_r2', 'TTTTGTGTTTCATC_r3', 'TTACATGCTACCCC_r1', 'TTACATGCTACCCC_r2', 'TTACATGCTACCCC_r3', 'TCTATACTGACGGA_r1', 'TCTATACTGACGGA_r2', 'TCTATACTGACGGA_r3', 'CTCTTTTCAGTTCA_r1', 'CTCTTTTCAGTTCA_r2', 'CTCTTTTCAGTTCA_r3', 'ACGTGCAAGGACGC_r1', 'ACGTGCAAGGACGC_r2', 'ACGTGCAAGGACGC_r3', 'ACATTATTAGATAC_r1', 'ACATTATTAGATAC_r2', 'ACATTATTAGATAC_r3', 'ACATCTGCGAGATT_r1', 'ACATCTGCGAGATT_r2', 'ACATCTGCGAGATT_r3']\n",
      "Dropping the following intBCs due to lack of diversity with threshold 1.0: []\n"
     ]
    },
    {
     "name": "stderr",
     "output_type": "stream",
     "text": [
      "\n",
      "100%|██████████| 1/1 [00:00<00:00, 156.06it/s]\n",
      "Processing characters: 100%|██████████| 6/6 [00:00<00:00, 38716.65it/s]\n",
      "100%|██████████| 1/1 [00:00<00:00, 158.65it/s]\n",
      "Processing characters: 100%|██████████| 4/4 [00:00<00:00, 46733.19it/s]\n",
      "100%|██████████| 1/1 [00:00<00:00, 116.78it/s]"
     ]
    },
    {
     "name": "stdout",
     "output_type": "stream",
     "text": [
      "Dropping the following intBCs due to lack of diversity with threshold 0.98: ['ACATTATTAGATAC_r1', 'ACATTATTAGATAC_r2', 'ACATTATTAGATAC_r3', 'CTCTTTTCAGTTCA_r1', 'CTCTTTTCAGTTCA_r2', 'CTCTTTTCAGTTCA_r3', 'ACATCTGCGAGATT_r1', 'ACGTGCAAGGACGC_r1', 'ACGTGCAAGGACGC_r2', 'ACGTGCAAGGACGC_r3', 'TTACATGCTACCCC_r1', 'TTACATGCTACCCC_r2', 'TTACATGCTACCCC_r3', 'TCTATACTGACGGA_r2', 'TCTATACTGACGGA_r3', 'TTTTGTGTTTCATC_r1', 'TTTTGTGTTTCATC_r2', 'TTTTGTGTTTCATC_r3']\n",
      "Dropping the following intBCs due to lack of diversity with threshold 0.98: ['TTTTGTGTTTCATC_r1', 'TTTTGTGTTTCATC_r2', 'TTTTGTGTTTCATC_r3', 'TTACATGCTACCCC_r1', 'TTACATGCTACCCC_r2', 'TTACATGCTACCCC_r3', 'TCTATACTGACGGA_r1', 'TCTATACTGACGGA_r2', 'TCTATACTGACGGA_r3', 'CTCTTTTCAGTTCA_r1', 'CTCTTTTCAGTTCA_r2', 'CTCTTTTCAGTTCA_r3', 'ACGTGCAAGGACGC_r1', 'ACGTGCAAGGACGC_r2', 'ACGTGCAAGGACGC_r3', 'ACATTATTAGATAC_r1', 'ACATTATTAGATAC_r2', 'ACATTATTAGATAC_r3', 'ACATCTGCGAGATT_r1', 'ACATCTGCGAGATT_r2']\n"
     ]
    },
    {
     "name": "stderr",
     "output_type": "stream",
     "text": [
      "\n",
      "Processing characters: 100%|██████████| 3/3 [00:00<00:00, 2871.50it/s]"
     ]
    },
    {
     "name": "stdout",
     "output_type": "stream",
     "text": [
      "Dropping the following intBCs due to lack of diversity with threshold 0.98: ['CTCTTTTCAGTTCA_r1', 'CTCTTTTCAGTTCA_r2', 'CTCTTTTCAGTTCA_r3', 'ACATTATTAGATAC_r1', 'ACATTATTAGATAC_r2', 'ACATTATTAGATAC_r3', 'ACGTGCAAGGACGC_r2', 'ACGTGCAAGGACGC_r3', 'TTTTGTGTTTCATC_r1', 'TTTTGTGTTTCATC_r2', 'TTTTGTGTTTCATC_r3', 'TCTATACTGACGGA_r1', 'TCTATACTGACGGA_r2', 'TCTATACTGACGGA_r3', 'TTACATGCTACCCC_r1', 'TTACATGCTACCCC_r2', 'TTACATGCTACCCC_r3', 'ACATCTGCGAGATT_r2']\n"
     ]
    },
    {
     "name": "stderr",
     "output_type": "stream",
     "text": [
      "\n",
      "100%|██████████| 1/1 [00:00<00:00, 159.06it/s]\n",
      "Processing characters: 100%|██████████| 5/5 [00:00<00:00, 30840.47it/s]\n",
      "100%|██████████| 1/1 [00:00<00:00, 135.63it/s]\n"
     ]
    },
    {
     "name": "stdout",
     "output_type": "stream",
     "text": [
      "Dropping the following intBCs due to lack of diversity with threshold 0.98: ['TCTATACTGACGGA_r1', 'TCTATACTGACGGA_r2', 'TCTATACTGACGGA_r3', 'ACGTGCAAGGACGC_r2', 'ACGTGCAAGGACGC_r3', 'CTCTTTTCAGTTCA_r1', 'CTCTTTTCAGTTCA_r2', 'CTCTTTTCAGTTCA_r3', 'ACATTATTAGATAC_r1', 'ACATTATTAGATAC_r2', 'ACATTATTAGATAC_r3', 'TTACATGCTACCCC_r1', 'TTACATGCTACCCC_r2', 'TTACATGCTACCCC_r3', 'TTTTGTGTTTCATC_r1', 'TTTTGTGTTTCATC_r2', 'TTTTGTGTTTCATC_r3', 'ACATCTGCGAGATT_r2', 'GATAGCACAAAACG_r3']\n"
     ]
    },
    {
     "name": "stderr",
     "output_type": "stream",
     "text": [
      "Processing characters: 100%|██████████| 3/3 [00:00<00:00, 6894.75it/s]"
     ]
    },
    {
     "name": "stdout",
     "output_type": "stream",
     "text": [
      "Dropping the following intBCs due to lack of diversity with threshold 0.98: ['TTTTGTGTTTCATC_r1', 'TTTTGTGTTTCATC_r2', 'TTTTGTGTTTCATC_r3', 'CTCTTTTCAGTTCA_r1', 'CTCTTTTCAGTTCA_r2', 'CTCTTTTCAGTTCA_r3', 'ACGTGCAAGGACGC_r2', 'ACGTGCAAGGACGC_r3', 'ACATTATTAGATAC_r1', 'ACATTATTAGATAC_r2', 'ACATTATTAGATAC_r3', 'TTACATGCTACCCC_r1', 'TTACATGCTACCCC_r2', 'TTACATGCTACCCC_r3', 'TCTATACTGACGGA_r1', 'TCTATACTGACGGA_r2', 'TCTATACTGACGGA_r3', 'ACATCTGCGAGATT_r2']\n"
     ]
    },
    {
     "name": "stderr",
     "output_type": "stream",
     "text": [
      "\n",
      "100%|██████████| 1/1 [00:00<00:00, 154.16it/s]\n",
      "Processing characters: 100%|██████████| 24/24 [00:00<00:00, 35887.09it/s]\n"
     ]
    },
    {
     "name": "stdout",
     "output_type": "stream",
     "text": [
      "Dropping the following intBCs due to lack of diversity with threshold 0.98: ['TATGCCGCCAGTTT_r1', 'TATGCCGCCAGTTT_r2', 'TATGCCGCCAGTTT_r3']\n"
     ]
    },
    {
     "name": "stderr",
     "output_type": "stream",
     "text": [
      "100%|██████████| 1/1 [00:00<00:00, 141.55it/s]\n",
      "Processing characters: 100%|██████████| 19/19 [00:00<00:00, 22148.91it/s]\n"
     ]
    },
    {
     "name": "stdout",
     "output_type": "stream",
     "text": [
      "Dropping the following intBCs due to lack of diversity with threshold 0.98: ['TCTATACTGACGGA_r2', 'TCTATACTGACGGA_r3']\n"
     ]
    },
    {
     "name": "stderr",
     "output_type": "stream",
     "text": [
      "100%|██████████| 1/1 [00:00<00:00, 179.29it/s]\n",
      "Processing characters: 0it [00:00, ?it/s]\n",
      "Processing characters: 100%|██████████| 15/15 [00:00<00:00, 180270.95it/s]\n",
      "100%|██████████| 1/1 [00:00<00:00, 122.45it/s]\n"
     ]
    },
    {
     "name": "stdout",
     "output_type": "stream",
     "text": [
      "Dropping the following intBCs due to lack of diversity with threshold 0.98: ['ACATCTGCGAGATT_r1', 'ACATCTGCGAGATT_r2', 'ACATCTGCGAGATT_r3', 'ACGTGCAAGGACGC_r1', 'ACGTGCAAGGACGC_r2', 'ACGTGCAAGGACGC_r3', 'ACATTATTAGATAC_r1', 'ACATTATTAGATAC_r2', 'ACATTATTAGATAC_r3', 'TTACATGCTACCCC_r1', 'TTACATGCTACCCC_r2', 'TTACATGCTACCCC_r3', 'GTGCAAGCCTTATC_r1', 'GTGCAAGCCTTATC_r2', 'GTGCAAGCCTTATC_r3']\n",
      "Dropping the following intBCs due to lack of diversity with threshold 1.0: []\n"
     ]
    },
    {
     "name": "stderr",
     "output_type": "stream",
     "text": [
      "Processing characters: 100%|██████████| 4/4 [00:00<00:00, 4656.46it/s]"
     ]
    },
    {
     "name": "stdout",
     "output_type": "stream",
     "text": [
      "Dropping the following intBCs due to lack of diversity with threshold 0.98: ['TTACATGCTACCCC_r1', 'TTACATGCTACCCC_r2', 'TCTATACTGACGGA_r1', 'TCTATACTGACGGA_r2', 'GTGCAAGCCTTATC_r1', 'GTGCAAGCCTTATC_r2', 'CTCTTTTCAGTTCA_r1', 'CTCTTTTCAGTTCA_r2', 'CTCTTTTCAGTTCA_r3', 'ACGTGCAAGGACGC_r1', 'ACGTGCAAGGACGC_r2', 'ACGTGCAAGGACGC_r3', 'ACATTATTAGATAC_r1', 'ACATTATTAGATAC_r2', 'ACATTATTAGATAC_r3', 'ACATCTGCGAGATT_r1', 'ACATCTGCGAGATT_r2']\n"
     ]
    },
    {
     "name": "stderr",
     "output_type": "stream",
     "text": [
      "\n",
      "100%|██████████| 1/1 [00:00<00:00, 117.14it/s]\n",
      "Processing characters: 100%|██████████| 15/15 [00:00<00:00, 3254.09it/s]"
     ]
    },
    {
     "name": "stdout",
     "output_type": "stream",
     "text": [
      "Dropping the following intBCs due to lack of diversity with threshold 0.98: ['TCTATACTGACGGA_r1', 'TCTATACTGACGGA_r2', 'GTGCAAGCCTTATC_r2', 'GATAGCACAAAACG_r2', 'GATAGCACAAAACG_r3', 'CTCTTTTCAGTTCA_r1', 'CTCTTTTCAGTTCA_r2', 'CTCTTTTCAGTTCA_r3', 'ACGTGCAAGGACGC_r1']\n"
     ]
    },
    {
     "name": "stderr",
     "output_type": "stream",
     "text": [
      "\n",
      "100%|██████████| 1/1 [00:00<00:00, 157.62it/s]\n",
      "Processing characters: 100%|██████████| 13/13 [00:00<00:00, 79252.84it/s]\n",
      "100%|██████████| 1/1 [00:00<00:00, 96.06it/s]\n"
     ]
    },
    {
     "name": "stdout",
     "output_type": "stream",
     "text": [
      "Dropping the following intBCs due to lack of diversity with threshold 0.98: ['ACGTGCAAGGACGC_r1', 'GTGCAAGCCTTATC_r2', 'TATGCCGCCAGTTT_r1', 'TATGCCGCCAGTTT_r2', 'TATGCCGCCAGTTT_r3', 'TTTTGTGTTTCATC_r1', 'TTTTGTGTTTCATC_r2', 'TTTTGTGTTTCATC_r3']\n"
     ]
    },
    {
     "name": "stderr",
     "output_type": "stream",
     "text": [
      "Processing characters: 100%|██████████| 15/15 [00:00<00:00, 1948.00it/s]"
     ]
    },
    {
     "name": "stdout",
     "output_type": "stream",
     "text": [
      "Dropping the following intBCs due to lack of diversity with threshold 0.98: ['CTCTTTTCAGTTCA_r1', 'ACATCTGCGAGATT_r1', 'ACATCTGCGAGATT_r2', 'ACATTATTAGATAC_r1', 'ACATTATTAGATAC_r2', 'ACGTGCAAGGACGC_r2', 'TTACATGCTACCCC_r2', 'GTGCAAGCCTTATC_r1', 'GTGCAAGCCTTATC_r2']\n"
     ]
    },
    {
     "name": "stderr",
     "output_type": "stream",
     "text": [
      "\n",
      "100%|██████████| 1/1 [00:00<00:00, 131.41it/s]\n",
      "Processing characters: 100%|██████████| 13/13 [00:00<00:00, 12316.68it/s]\n"
     ]
    },
    {
     "name": "stdout",
     "output_type": "stream",
     "text": [
      "Dropping the following intBCs due to lack of diversity with threshold 0.98: ['ACATTATTAGATAC_r2', 'ACGTGCAAGGACGC_r2', 'ACGTGCAAGGACGC_r3', 'TTACATGCTACCCC_r2', 'TTTTGTGTTTCATC_r2']\n"
     ]
    },
    {
     "name": "stderr",
     "output_type": "stream",
     "text": [
      "100%|██████████| 1/1 [00:00<00:00, 107.43it/s]\n",
      "Processing characters: 100%|██████████| 10/10 [00:00<00:00, 3060.64it/s]"
     ]
    },
    {
     "name": "stdout",
     "output_type": "stream",
     "text": [
      "Dropping the following intBCs due to lack of diversity with threshold 0.98: ['TTTTGTGTTTCATC_r1', 'TTTTGTGTTTCATC_r2', 'TTTTGTGTTTCATC_r3', 'TTACATGCTACCCC_r2', 'TTACATGCTACCCC_r3', 'TATGCCGCCAGTTT_r2', 'GTGCAAGCCTTATC_r2', 'ACGTGCAAGGACGC_r2', 'ACGTGCAAGGACGC_r3', 'ACATTATTAGATAC_r1', 'ACATTATTAGATAC_r2', 'ACATTATTAGATAC_r3', 'ACATCTGCGAGATT_r1', 'ACATCTGCGAGATT_r2']\n"
     ]
    },
    {
     "name": "stderr",
     "output_type": "stream",
     "text": [
      "\n",
      "100%|██████████| 1/1 [00:00<00:00, 137.71it/s]\n",
      "Processing characters: 100%|██████████| 1/1 [00:00<00:00, 6442.86it/s]\n",
      "100%|██████████| 1/1 [00:00<00:00, 151.33it/s]\n",
      "Processing characters: 100%|██████████| 2/2 [00:00<00:00, 14122.24it/s]"
     ]
    },
    {
     "name": "stdout",
     "output_type": "stream",
     "text": [
      "Dropping the following intBCs due to lack of diversity with threshold 0.98: ['TTACATGCTACCCC_r1', 'TTACATGCTACCCC_r2', 'TTACATGCTACCCC_r3', 'TATGCCGCCAGTTT_r1', 'TATGCCGCCAGTTT_r2', 'TATGCCGCCAGTTT_r3', 'GTGCAAGCCTTATC_r2', 'GTGCAAGCCTTATC_r3', 'CTCTTTTCAGTTCA_r1', 'CTCTTTTCAGTTCA_r2', 'CTCTTTTCAGTTCA_r3', 'ACGTGCAAGGACGC_r1', 'ACGTGCAAGGACGC_r2', 'ACGTGCAAGGACGC_r3', 'ACATTATTAGATAC_r1', 'ACATTATTAGATAC_r2', 'ACATTATTAGATAC_r3', 'ACATCTGCGAGATT_r1', 'ACATCTGCGAGATT_r2', 'ACATCTGCGAGATT_r3', 'GATAGCACAAAACG_r1', 'GATAGCACAAAACG_r2', 'GATAGCACAAAACG_r3']\n",
      "Dropping the following intBCs due to lack of diversity with threshold 0.98: ['GTGCAAGCCTTATC_r2', 'GTGCAAGCCTTATC_r3', 'ACATCTGCGAGATT_r1', 'ACATCTGCGAGATT_r2', 'ACATCTGCGAGATT_r3', 'ACGTGCAAGGACGC_r1', 'ACGTGCAAGGACGC_r2', 'ACGTGCAAGGACGC_r3', 'CTCTTTTCAGTTCA_r1', 'CTCTTTTCAGTTCA_r2', 'CTCTTTTCAGTTCA_r3', 'TCTATACTGACGGA_r2', 'TCTATACTGACGGA_r3', 'TTACATGCTACCCC_r1', 'TTACATGCTACCCC_r2', 'TTACATGCTACCCC_r3', 'TTTTGTGTTTCATC_r1', 'TTTTGTGTTTCATC_r2', 'TTTTGTGTTTCATC_r3', 'GATAGCACAAAACG_r1', 'GATAGCACAAAACG_r2', 'GATAGCACAAAACG_r3']\n"
     ]
    },
    {
     "name": "stderr",
     "output_type": "stream",
     "text": [
      "\n",
      "100%|██████████| 1/1 [00:00<00:00, 157.49it/s]\n",
      "Processing characters: 100%|██████████| 1/1 [00:00<00:00, 14614.30it/s]\n",
      "100%|██████████| 1/1 [00:00<00:00, 160.10it/s]\n",
      "Processing characters: 100%|██████████| 1/1 [00:00<00:00, 11781.75it/s]\n",
      "100%|██████████| 1/1 [00:00<00:00, 106.05it/s]\n"
     ]
    },
    {
     "name": "stdout",
     "output_type": "stream",
     "text": [
      "Dropping the following intBCs due to lack of diversity with threshold 0.98: ['TTTTGTGTTTCATC_r1', 'TTTTGTGTTTCATC_r2', 'TTTTGTGTTTCATC_r3', 'TTACATGCTACCCC_r1', 'TTACATGCTACCCC_r2', 'TTACATGCTACCCC_r3', 'TCTATACTGACGGA_r2', 'TCTATACTGACGGA_r3', 'GTGCAAGCCTTATC_r1', 'GTGCAAGCCTTATC_r2', 'GTGCAAGCCTTATC_r3', 'CTCTTTTCAGTTCA_r1', 'CTCTTTTCAGTTCA_r2', 'CTCTTTTCAGTTCA_r3', 'ACGTGCAAGGACGC_r1', 'ACGTGCAAGGACGC_r2', 'ACGTGCAAGGACGC_r3', 'ACATCTGCGAGATT_r1', 'ACATCTGCGAGATT_r2', 'ACATCTGCGAGATT_r3', 'GATAGCACAAAACG_r1', 'GATAGCACAAAACG_r2', 'GATAGCACAAAACG_r3']\n",
      "Dropping the following intBCs due to lack of diversity with threshold 0.98: ['TTACATGCTACCCC_r1', 'TTACATGCTACCCC_r2', 'TTACATGCTACCCC_r3', 'TATGCCGCCAGTTT_r1', 'TATGCCGCCAGTTT_r2', 'TATGCCGCCAGTTT_r3', 'GTGCAAGCCTTATC_r1', 'GTGCAAGCCTTATC_r2', 'GTGCAAGCCTTATC_r3', 'CTCTTTTCAGTTCA_r1', 'CTCTTTTCAGTTCA_r2', 'CTCTTTTCAGTTCA_r3', 'ACGTGCAAGGACGC_r1', 'ACGTGCAAGGACGC_r2', 'ACGTGCAAGGACGC_r3', 'ACATTATTAGATAC_r2', 'ACATTATTAGATAC_r3', 'ACATCTGCGAGATT_r1', 'ACATCTGCGAGATT_r2', 'ACATCTGCGAGATT_r3', 'GATAGCACAAAACG_r1', 'GATAGCACAAAACG_r2', 'GATAGCACAAAACG_r3']\n"
     ]
    },
    {
     "name": "stderr",
     "output_type": "stream",
     "text": [
      "Processing characters: 100%|██████████| 25/25 [00:00<00:00, 2849.24it/s]"
     ]
    },
    {
     "name": "stdout",
     "output_type": "stream",
     "text": [
      "Dropping the following intBCs due to lack of diversity with threshold 0.98: ['TTACATGCTACCCC_r1', 'TTACATGCTACCCC_r2']\n"
     ]
    },
    {
     "name": "stderr",
     "output_type": "stream",
     "text": [
      "\n",
      "100%|██████████| 1/1 [00:00<00:00, 129.67it/s]\n",
      "Processing characters: 100%|██████████| 9/9 [00:00<00:00, 7019.10it/s]"
     ]
    },
    {
     "name": "stdout",
     "output_type": "stream",
     "text": [
      "Dropping the following intBCs due to lack of diversity with threshold 0.98: ['ACATCTGCGAGATT_r2', 'ACATTATTAGATAC_r2', 'ACATTATTAGATAC_r3', 'CTCTTTTCAGTTCA_r1', 'CTCTTTTCAGTTCA_r2', 'CTCTTTTCAGTTCA_r3', 'GATAGCACAAAACG_r3', 'GTGCAAGCCTTATC_r1', 'GTGCAAGCCTTATC_r2', 'TTACATGCTACCCC_r1', 'TTACATGCTACCCC_r2', 'TTTTGTGTTTCATC_r2']\n"
     ]
    },
    {
     "name": "stderr",
     "output_type": "stream",
     "text": [
      "\n",
      "100%|██████████| 1/1 [00:00<00:00, 129.03it/s]\n",
      "Processing characters: 100%|██████████| 2/2 [00:00<00:00, 3818.21it/s]"
     ]
    },
    {
     "name": "stdout",
     "output_type": "stream",
     "text": [
      "Dropping the following intBCs due to lack of diversity with threshold 0.98: ['ACGTGCAAGGACGC_r1', 'ACGTGCAAGGACGC_r2', 'ACGTGCAAGGACGC_r3', 'CTCTTTTCAGTTCA_r1', 'CTCTTTTCAGTTCA_r2', 'TTTTGTGTTTCATC_r1', 'TTTTGTGTTTCATC_r2', 'TTTTGTGTTTCATC_r3', 'TATGCCGCCAGTTT_r1', 'TATGCCGCCAGTTT_r2', 'TTACATGCTACCCC_r1', 'TTACATGCTACCCC_r2', 'TTACATGCTACCCC_r3', 'TCTATACTGACGGA_r1', 'TCTATACTGACGGA_r2', 'TCTATACTGACGGA_r3']\n"
     ]
    },
    {
     "name": "stderr",
     "output_type": "stream",
     "text": [
      "\n",
      "100%|██████████| 1/1 [00:00<00:00, 129.28it/s]\n",
      "Processing characters: 100%|██████████| 9/9 [00:00<00:00, 4810.59it/s]"
     ]
    },
    {
     "name": "stdout",
     "output_type": "stream",
     "text": [
      "Dropping the following intBCs due to lack of diversity with threshold 0.98: ['GATAGCACAAAACG_r1', 'GATAGCACAAAACG_r2', 'ACATCTGCGAGATT_r1', 'ACATCTGCGAGATT_r2', 'ACATCTGCGAGATT_r3', 'ACGTGCAAGGACGC_r1', 'ACGTGCAAGGACGC_r2', 'ACGTGCAAGGACGC_r3', 'CTCTTTTCAGTTCA_r2', 'TTACATGCTACCCC_r2', 'GTGCAAGCCTTATC_r2', 'TCTATACTGACGGA_r2', 'TCTATACTGACGGA_r3', 'TTTTGTGTTTCATC_r2', 'TTTTGTGTTTCATC_r3']\n"
     ]
    },
    {
     "name": "stderr",
     "output_type": "stream",
     "text": [
      "\n",
      "100%|██████████| 1/1 [00:00<00:00, 136.10it/s]\n",
      "Processing characters: 100%|██████████| 24/24 [00:00<00:00, 9407.78it/s]\n"
     ]
    },
    {
     "name": "stdout",
     "output_type": "stream",
     "text": [
      "Dropping the following intBCs due to lack of diversity with threshold 0.98: []\n"
     ]
    },
    {
     "name": "stderr",
     "output_type": "stream",
     "text": [
      "100%|██████████| 1/1 [00:00<00:00, 120.51it/s]\n",
      "Processing characters: 100%|██████████| 15/15 [00:00<00:00, 4093.34it/s]"
     ]
    },
    {
     "name": "stdout",
     "output_type": "stream",
     "text": [
      "Dropping the following intBCs due to lack of diversity with threshold 0.98: ['GATAGCACAAAACG_r1', 'GATAGCACAAAACG_r2', 'GATAGCACAAAACG_r3']\n"
     ]
    },
    {
     "name": "stderr",
     "output_type": "stream",
     "text": [
      "\n",
      "100%|██████████| 1/1 [00:00<00:00, 132.89it/s]\n",
      "Processing characters: 100%|██████████| 27/27 [00:00<00:00, 11085.18it/s]\n"
     ]
    },
    {
     "name": "stdout",
     "output_type": "stream",
     "text": [
      "Dropping the following intBCs due to lack of diversity with threshold 0.98: []\n"
     ]
    },
    {
     "name": "stderr",
     "output_type": "stream",
     "text": [
      "100%|██████████| 1/1 [00:00<00:00, 104.57it/s]\n",
      "Processing characters: 100%|██████████| 8/8 [00:00<00:00, 3291.59it/s]"
     ]
    },
    {
     "name": "stdout",
     "output_type": "stream",
     "text": [
      "Dropping the following intBCs due to lack of diversity with threshold 0.98: ['TTTTGTGTTTCATC_r1', 'TTTTGTGTTTCATC_r2', 'TCTATACTGACGGA_r1', 'TCTATACTGACGGA_r2', 'TCTATACTGACGGA_r3', 'TATGCCGCCAGTTT_r1', 'TATGCCGCCAGTTT_r2', 'TATGCCGCCAGTTT_r3', 'GTGCAAGCCTTATC_r2', 'GTGCAAGCCTTATC_r3', 'CTCTTTTCAGTTCA_r1', 'CTCTTTTCAGTTCA_r2', 'CTCTTTTCAGTTCA_r3', 'ACGTGCAAGGACGC_r1', 'ACGTGCAAGGACGC_r2', 'ACGTGCAAGGACGC_r3', 'ACATTATTAGATAC_r1', 'ACATTATTAGATAC_r2', 'ACATTATTAGATAC_r3', 'ACATCTGCGAGATT_r1', 'ACATCTGCGAGATT_r2', 'TTACATGCTACCCC_r2']\n"
     ]
    },
    {
     "name": "stderr",
     "output_type": "stream",
     "text": [
      "\n",
      "100%|██████████| 1/1 [00:00<00:00, 142.11it/s]\n",
      "Processing characters: 100%|██████████| 10/10 [00:00<00:00, 33879.68it/s]\n",
      "100%|██████████| 1/1 [00:00<00:00, 131.91it/s]\n"
     ]
    },
    {
     "name": "stdout",
     "output_type": "stream",
     "text": [
      "Dropping the following intBCs due to lack of diversity with threshold 0.98: ['ACATCTGCGAGATT_r1', 'ACATTATTAGATAC_r1', 'ACATTATTAGATAC_r2', 'ACATTATTAGATAC_r3', 'ACGTGCAAGGACGC_r1', 'ACGTGCAAGGACGC_r2', 'ACGTGCAAGGACGC_r3', 'CTCTTTTCAGTTCA_r1', 'CTCTTTTCAGTTCA_r2', 'CTCTTTTCAGTTCA_r3', 'GTGCAAGCCTTATC_r2', 'GTGCAAGCCTTATC_r3', 'TTTTGTGTTTCATC_r1', 'TATGCCGCCAGTTT_r1', 'TATGCCGCCAGTTT_r2', 'TATGCCGCCAGTTT_r3', 'TTACATGCTACCCC_r2', 'TCTATACTGACGGA_r1', 'TCTATACTGACGGA_r2', 'TCTATACTGACGGA_r3']\n"
     ]
    },
    {
     "name": "stderr",
     "output_type": "stream",
     "text": [
      "Processing characters: 100%|██████████| 7/7 [00:00<00:00, 35892.58it/s]\n",
      "100%|██████████| 1/1 [00:00<00:00, 151.77it/s]\n",
      "Processing characters: 100%|██████████| 3/3 [00:00<00:00, 28926.23it/s]\n"
     ]
    },
    {
     "name": "stdout",
     "output_type": "stream",
     "text": [
      "Dropping the following intBCs due to lack of diversity with threshold 0.98: ['TTTTGTGTTTCATC_r1', 'TTACATGCTACCCC_r2', 'TATGCCGCCAGTTT_r1', 'TATGCCGCCAGTTT_r2', 'TATGCCGCCAGTTT_r3', 'GTGCAAGCCTTATC_r2', 'GTGCAAGCCTTATC_r3', 'GATAGCACAAAACG_r1', 'GATAGCACAAAACG_r2', 'CTCTTTTCAGTTCA_r1', 'CTCTTTTCAGTTCA_r2', 'CTCTTTTCAGTTCA_r3', 'ACGTGCAAGGACGC_r1', 'ACGTGCAAGGACGC_r2', 'ACGTGCAAGGACGC_r3', 'ACATTATTAGATAC_r1', 'ACATTATTAGATAC_r2', 'ACATTATTAGATAC_r3', 'ACATCTGCGAGATT_r1', 'ACATCTGCGAGATT_r3', 'TCTATACTGACGGA_r1', 'TCTATACTGACGGA_r2', 'TCTATACTGACGGA_r3']\n",
      "Dropping the following intBCs due to lack of diversity with threshold 0.98: ['TTTTGTGTTTCATC_r1', 'TTTTGTGTTTCATC_r2', 'TTACATGCTACCCC_r1', 'TTACATGCTACCCC_r2', 'TATGCCGCCAGTTT_r1', 'TATGCCGCCAGTTT_r2', 'TATGCCGCCAGTTT_r3', 'GTGCAAGCCTTATC_r1', 'GTGCAAGCCTTATC_r2', 'GTGCAAGCCTTATC_r3', 'CTCTTTTCAGTTCA_r1', 'CTCTTTTCAGTTCA_r2', 'CTCTTTTCAGTTCA_r3', 'ACGTGCAAGGACGC_r1', 'ACGTGCAAGGACGC_r2', 'ACGTGCAAGGACGC_r3', 'ACATTATTAGATAC_r1', 'ACATTATTAGATAC_r2', 'ACATTATTAGATAC_r3', 'ACATCTGCGAGATT_r1', 'ACATCTGCGAGATT_r2', 'TCTATACTGACGGA_r1', 'TCTATACTGACGGA_r2', 'TCTATACTGACGGA_r3']\n"
     ]
    },
    {
     "name": "stderr",
     "output_type": "stream",
     "text": [
      "100%|██████████| 1/1 [00:00<00:00, 149.14it/s]\n",
      "Processing characters: 100%|██████████| 6/6 [00:00<00:00, 28695.35it/s]\n",
      "100%|██████████| 1/1 [00:00<00:00, 132.02it/s]\n"
     ]
    },
    {
     "name": "stdout",
     "output_type": "stream",
     "text": [
      "Dropping the following intBCs due to lack of diversity with threshold 0.98: ['ACATTATTAGATAC_r1', 'ACATTATTAGATAC_r2', 'ACATTATTAGATAC_r3', 'ACATCTGCGAGATT_r1', 'ACATCTGCGAGATT_r2', 'GTGCAAGCCTTATC_r2', 'GTGCAAGCCTTATC_r3', 'CTCTTTTCAGTTCA_r1', 'CTCTTTTCAGTTCA_r2', 'CTCTTTTCAGTTCA_r3', 'ACGTGCAAGGACGC_r1', 'ACGTGCAAGGACGC_r2', 'ACGTGCAAGGACGC_r3', 'TATGCCGCCAGTTT_r1', 'TATGCCGCCAGTTT_r2', 'TATGCCGCCAGTTT_r3', 'TTACATGCTACCCC_r2', 'TTTTGTGTTTCATC_r1', 'TCTATACTGACGGA_r1', 'TCTATACTGACGGA_r2', 'TCTATACTGACGGA_r3']\n"
     ]
    },
    {
     "name": "stderr",
     "output_type": "stream",
     "text": [
      "Processing characters: 100%|██████████| 10/10 [00:00<00:00, 12606.87it/s]\n"
     ]
    },
    {
     "name": "stdout",
     "output_type": "stream",
     "text": [
      "Dropping the following intBCs due to lack of diversity with threshold 0.98: ['CTCTTTTCAGTTCA_r1', 'CTCTTTTCAGTTCA_r2', 'CTCTTTTCAGTTCA_r3', 'ACATCTGCGAGATT_r1', 'ACATTATTAGATAC_r1', 'ACATTATTAGATAC_r2', 'ACATTATTAGATAC_r3', 'GTGCAAGCCTTATC_r2', 'GTGCAAGCCTTATC_r3', 'TATGCCGCCAGTTT_r1', 'TATGCCGCCAGTTT_r2', 'TATGCCGCCAGTTT_r3', 'TTACATGCTACCCC_r2', 'TCTATACTGACGGA_r1', 'TCTATACTGACGGA_r2', 'TCTATACTGACGGA_r3', 'ACGTGCAAGGACGC_r1', 'ACGTGCAAGGACGC_r2', 'ACGTGCAAGGACGC_r3', 'TTTTGTGTTTCATC_r1']\n"
     ]
    },
    {
     "name": "stderr",
     "output_type": "stream",
     "text": [
      "100%|██████████| 1/1 [00:00<00:00, 109.90it/s]\n",
      "Processing characters: 100%|██████████| 10/10 [00:00<00:00, 3687.62it/s]"
     ]
    },
    {
     "name": "stdout",
     "output_type": "stream",
     "text": [
      "Dropping the following intBCs due to lack of diversity with threshold 0.98: ['TTACATGCTACCCC_r2', 'TCTATACTGACGGA_r1', 'TCTATACTGACGGA_r2', 'TCTATACTGACGGA_r3', 'TATGCCGCCAGTTT_r1', 'TATGCCGCCAGTTT_r2', 'TATGCCGCCAGTTT_r3', 'GTGCAAGCCTTATC_r2', 'GTGCAAGCCTTATC_r3', 'CTCTTTTCAGTTCA_r1', 'CTCTTTTCAGTTCA_r2', 'CTCTTTTCAGTTCA_r3', 'ACGTGCAAGGACGC_r1', 'ACGTGCAAGGACGC_r2', 'ACGTGCAAGGACGC_r3', 'ACATTATTAGATAC_r1', 'ACATTATTAGATAC_r2', 'ACATTATTAGATAC_r3', 'ACATCTGCGAGATT_r1', 'TTTTGTGTTTCATC_r1']\n"
     ]
    },
    {
     "name": "stderr",
     "output_type": "stream",
     "text": [
      "\n",
      "100%|██████████| 1/1 [00:00<00:00, 135.35it/s]\n",
      "Processing characters: 100%|██████████| 10/10 [00:00<00:00, 21498.23it/s]\n"
     ]
    },
    {
     "name": "stdout",
     "output_type": "stream",
     "text": [
      "Dropping the following intBCs due to lack of diversity with threshold 0.98: ['TATGCCGCCAGTTT_r1', 'TATGCCGCCAGTTT_r2', 'ACGTGCAAGGACGC_r2', 'ACGTGCAAGGACGC_r3', 'GTGCAAGCCTTATC_r1', 'GTGCAAGCCTTATC_r2', 'ACATCTGCGAGATT_r2', 'ACATCTGCGAGATT_r3', 'TCTATACTGACGGA_r2', 'TCTATACTGACGGA_r3', 'TTACATGCTACCCC_r2', 'TTACATGCTACCCC_r3', 'TTTTGTGTTTCATC_r1', 'TTTTGTGTTTCATC_r2', 'CTCTTTTCAGTTCA_r1', 'CTCTTTTCAGTTCA_r2', 'CTCTTTTCAGTTCA_r3']\n"
     ]
    },
    {
     "name": "stderr",
     "output_type": "stream",
     "text": [
      "100%|██████████| 1/1 [00:00<00:00, 138.34it/s]\n",
      "Processing characters: 100%|██████████| 13/13 [00:00<00:00, 14716.86it/s]\n"
     ]
    },
    {
     "name": "stdout",
     "output_type": "stream",
     "text": [
      "Dropping the following intBCs due to lack of diversity with threshold 0.98: ['GTGCAAGCCTTATC_r1', 'GTGCAAGCCTTATC_r2']\n"
     ]
    },
    {
     "name": "stderr",
     "output_type": "stream",
     "text": [
      "100%|██████████| 1/1 [00:00<00:00, 175.55it/s]\n",
      "Processing characters: 100%|██████████| 1/1 [00:00<00:00, 17476.27it/s]\n",
      "100%|██████████| 1/1 [00:00<00:00, 127.53it/s]\n"
     ]
    },
    {
     "name": "stdout",
     "output_type": "stream",
     "text": [
      "Dropping the following intBCs due to lack of diversity with threshold 0.98: ['GTGCAAGCCTTATC_r1', 'GTGCAAGCCTTATC_r2', 'GTGCAAGCCTTATC_r3', 'ACGTGCAAGGACGC_r1', 'ACGTGCAAGGACGC_r2', 'ACGTGCAAGGACGC_r3', 'ACATCTGCGAGATT_r1', 'ACATCTGCGAGATT_r2', 'ACATCTGCGAGATT_r3', 'CTCTTTTCAGTTCA_r1', 'CTCTTTTCAGTTCA_r2', 'CTCTTTTCAGTTCA_r3', 'TTTTGTGTTTCATC_r2', 'TTTTGTGTTTCATC_r3', 'TTACATGCTACCCC_r1', 'TTACATGCTACCCC_r2', 'TTACATGCTACCCC_r3']\n"
     ]
    },
    {
     "name": "stderr",
     "output_type": "stream",
     "text": [
      "Processing characters: 100%|██████████| 2/2 [00:00<00:00, 4725.98it/s]"
     ]
    },
    {
     "name": "stdout",
     "output_type": "stream",
     "text": [
      "Dropping the following intBCs due to lack of diversity with threshold 0.98: ['TTTTGTGTTTCATC_r2', 'TTTTGTGTTTCATC_r3', 'TTACATGCTACCCC_r1', 'TTACATGCTACCCC_r2', 'TTACATGCTACCCC_r3', 'CTCTTTTCAGTTCA_r1', 'CTCTTTTCAGTTCA_r2', 'CTCTTTTCAGTTCA_r3', 'ACGTGCAAGGACGC_r1', 'ACGTGCAAGGACGC_r2', 'ACGTGCAAGGACGC_r3', 'GTGCAAGCCTTATC_r1', 'GTGCAAGCCTTATC_r2', 'GTGCAAGCCTTATC_r3', 'ACATCTGCGAGATT_r1', 'ACATCTGCGAGATT_r2', 'ACATCTGCGAGATT_r3', 'GATAGCACAAAACG_r1', 'GATAGCACAAAACG_r2']\n"
     ]
    },
    {
     "name": "stderr",
     "output_type": "stream",
     "text": [
      "\n",
      "100%|██████████| 1/1 [00:00<00:00, 130.04it/s]\n",
      "Processing characters: 100%|██████████| 2/2 [00:00<00:00, 5162.22it/s]"
     ]
    },
    {
     "name": "stdout",
     "output_type": "stream",
     "text": [
      "Dropping the following intBCs due to lack of diversity with threshold 0.98: ['GTGCAAGCCTTATC_r1', 'GTGCAAGCCTTATC_r2', 'GTGCAAGCCTTATC_r3', 'CTCTTTTCAGTTCA_r1', 'CTCTTTTCAGTTCA_r2', 'CTCTTTTCAGTTCA_r3', 'GATAGCACAAAACG_r1', 'GATAGCACAAAACG_r2', 'ACGTGCAAGGACGC_r1', 'ACGTGCAAGGACGC_r2', 'ACGTGCAAGGACGC_r3', 'TTACATGCTACCCC_r1', 'TTACATGCTACCCC_r2', 'TTACATGCTACCCC_r3', 'TTTTGTGTTTCATC_r2', 'TTTTGTGTTTCATC_r3', 'ACATCTGCGAGATT_r1', 'ACATCTGCGAGATT_r2', 'ACATCTGCGAGATT_r3']\n"
     ]
    },
    {
     "name": "stderr",
     "output_type": "stream",
     "text": [
      "\n",
      "100%|██████████| 1/1 [00:00<00:00, 154.20it/s]\n",
      "Processing characters: 100%|██████████| 1/1 [00:00<00:00, 17403.75it/s]\n",
      "100%|██████████| 1/1 [00:00<00:00, 139.73it/s]\n"
     ]
    },
    {
     "name": "stdout",
     "output_type": "stream",
     "text": [
      "Dropping the following intBCs due to lack of diversity with threshold 0.98: ['CTCTTTTCAGTTCA_r1', 'CTCTTTTCAGTTCA_r2', 'CTCTTTTCAGTTCA_r3', 'TTTTGTGTTTCATC_r2', 'TTTTGTGTTTCATC_r3', 'TTACATGCTACCCC_r1', 'TTACATGCTACCCC_r2', 'TTACATGCTACCCC_r3', 'GTGCAAGCCTTATC_r1', 'GTGCAAGCCTTATC_r2', 'GTGCAAGCCTTATC_r3', 'GATAGCACAAAACG_r1', 'GATAGCACAAAACG_r2', 'GATAGCACAAAACG_r3', 'ACGTGCAAGGACGC_r1', 'ACGTGCAAGGACGC_r2', 'ACGTGCAAGGACGC_r3', 'ACATCTGCGAGATT_r1', 'ACATCTGCGAGATT_r2', 'ACATCTGCGAGATT_r3']\n"
     ]
    },
    {
     "name": "stderr",
     "output_type": "stream",
     "text": [
      "Processing characters: 100%|██████████| 2/2 [00:00<00:00, 6859.04it/s]\n",
      "100%|██████████| 1/1 [00:00<00:00, 176.96it/s]\n",
      "Processing characters: 0it [00:00, ?it/s]\n",
      "Processing characters: 100%|██████████| 18/18 [00:00<00:00, 151297.54it/s]"
     ]
    },
    {
     "name": "stdout",
     "output_type": "stream",
     "text": [
      "Dropping the following intBCs due to lack of diversity with threshold 0.98: ['ACATCTGCGAGATT_r1', 'ACATCTGCGAGATT_r2', 'ACATCTGCGAGATT_r3', 'GTGCAAGCCTTATC_r1', 'GTGCAAGCCTTATC_r2', 'GTGCAAGCCTTATC_r3', 'CTCTTTTCAGTTCA_r1', 'CTCTTTTCAGTTCA_r2', 'CTCTTTTCAGTTCA_r3', 'ACGTGCAAGGACGC_r1', 'ACGTGCAAGGACGC_r2', 'ACGTGCAAGGACGC_r3', 'TTACATGCTACCCC_r1', 'TTACATGCTACCCC_r2', 'TTACATGCTACCCC_r3', 'TTTTGTGTTTCATC_r2', 'TTTTGTGTTTCATC_r3', 'GATAGCACAAAACG_r1', 'GATAGCACAAAACG_r2']\n",
      "Dropping the following intBCs due to lack of diversity with threshold 0.98: ['TTTTGTGTTTCATC_r1', 'TTTTGTGTTTCATC_r2', 'TTTTGTGTTTCATC_r3', 'TTACATGCTACCCC_r1', 'TTACATGCTACCCC_r2', 'TTACATGCTACCCC_r3', 'GATAGCACAAAACG_r1', 'GATAGCACAAAACG_r2', 'GATAGCACAAAACG_r3', 'CTCTTTTCAGTTCA_r1', 'CTCTTTTCAGTTCA_r2', 'CTCTTTTCAGTTCA_r3', 'ACGTGCAAGGACGC_r1', 'ACGTGCAAGGACGC_r2', 'ACGTGCAAGGACGC_r3', 'ACATCTGCGAGATT_r1', 'ACATCTGCGAGATT_r2', 'ACATCTGCGAGATT_r3']\n",
      "Dropping the following intBCs due to lack of diversity with threshold 1.0: []\n"
     ]
    },
    {
     "name": "stderr",
     "output_type": "stream",
     "text": [
      "\n",
      "100%|██████████| 1/1 [00:00<00:00, 170.04it/s]\n",
      "Processing characters: 0it [00:00, ?it/s]\n",
      "Processing characters: 100%|██████████| 21/21 [00:00<00:00, 174762.67it/s]\n",
      "100%|██████████| 1/1 [00:00<00:00, 135.02it/s]\n"
     ]
    },
    {
     "name": "stdout",
     "output_type": "stream",
     "text": [
      "Dropping the following intBCs due to lack of diversity with threshold 0.98: ['GATAGCACAAAACG_r1', 'GATAGCACAAAACG_r2', 'GATAGCACAAAACG_r3', 'ACGTGCAAGGACGC_r1', 'ACGTGCAAGGACGC_r2', 'ACGTGCAAGGACGC_r3', 'CTCTTTTCAGTTCA_r1', 'CTCTTTTCAGTTCA_r2', 'CTCTTTTCAGTTCA_r3', 'ACATCTGCGAGATT_r1', 'ACATCTGCGAGATT_r2', 'ACATCTGCGAGATT_r3', 'GTGCAAGCCTTATC_r1', 'GTGCAAGCCTTATC_r2', 'GTGCAAGCCTTATC_r3', 'TTTTGTGTTTCATC_r1', 'TTTTGTGTTTCATC_r2', 'TTTTGTGTTTCATC_r3', 'TTACATGCTACCCC_r1', 'TTACATGCTACCCC_r2', 'TTACATGCTACCCC_r3']\n",
      "Dropping the following intBCs due to lack of diversity with threshold 1.0: []\n"
     ]
    },
    {
     "name": "stderr",
     "output_type": "stream",
     "text": [
      "Processing characters: 100%|██████████| 1/1 [00:00<00:00, 2690.38it/s]\n",
      "100%|██████████| 1/1 [00:00<00:00, 146.75it/s]"
     ]
    },
    {
     "name": "stdout",
     "output_type": "stream",
     "text": [
      "Dropping the following intBCs due to lack of diversity with threshold 0.98: ['TTTTGTGTTTCATC_r2', 'TTTTGTGTTTCATC_r3', 'TTACATGCTACCCC_r1', 'TTACATGCTACCCC_r2', 'TTACATGCTACCCC_r3', 'GTGCAAGCCTTATC_r1', 'GTGCAAGCCTTATC_r2', 'GTGCAAGCCTTATC_r3', 'CTCTTTTCAGTTCA_r1', 'CTCTTTTCAGTTCA_r2', 'CTCTTTTCAGTTCA_r3', 'ACGTGCAAGGACGC_r1', 'ACGTGCAAGGACGC_r2', 'ACGTGCAAGGACGC_r3', 'ACATCTGCGAGATT_r1', 'ACATCTGCGAGATT_r2', 'ACATCTGCGAGATT_r3', 'GATAGCACAAAACG_r1', 'GATAGCACAAAACG_r2', 'GATAGCACAAAACG_r3']\n"
     ]
    },
    {
     "name": "stderr",
     "output_type": "stream",
     "text": [
      "\n",
      "Processing characters: 100%|██████████| 2/2 [00:00<00:00, 7906.32it/s]\n",
      "100%|██████████| 1/1 [00:00<00:00, 146.51it/s]"
     ]
    },
    {
     "name": "stdout",
     "output_type": "stream",
     "text": [
      "Dropping the following intBCs due to lack of diversity with threshold 0.98: ['GATAGCACAAAACG_r1', 'GATAGCACAAAACG_r2', 'ACATCTGCGAGATT_r1', 'ACATCTGCGAGATT_r2', 'ACATCTGCGAGATT_r3', 'ACGTGCAAGGACGC_r1', 'ACGTGCAAGGACGC_r2', 'ACGTGCAAGGACGC_r3', 'CTCTTTTCAGTTCA_r1', 'CTCTTTTCAGTTCA_r2', 'CTCTTTTCAGTTCA_r3', 'GTGCAAGCCTTATC_r1', 'GTGCAAGCCTTATC_r2', 'GTGCAAGCCTTATC_r3', 'TTACATGCTACCCC_r1', 'TTACATGCTACCCC_r2', 'TTACATGCTACCCC_r3', 'TTTTGTGTTTCATC_r2', 'TTTTGTGTTTCATC_r3']\n"
     ]
    },
    {
     "name": "stderr",
     "output_type": "stream",
     "text": [
      "\n",
      "Processing characters: 100%|██████████| 7/7 [00:00<00:00, 15196.75it/s]\n"
     ]
    },
    {
     "name": "stdout",
     "output_type": "stream",
     "text": [
      "Dropping the following intBCs due to lack of diversity with threshold 0.98: ['ACGTGCAAGGACGC_r1', 'ACGTGCAAGGACGC_r2', 'ACGTGCAAGGACGC_r3', 'GTGCAAGCCTTATC_r1', 'GTGCAAGCCTTATC_r2', 'GTGCAAGCCTTATC_r3', 'CTCTTTTCAGTTCA_r1', 'CTCTTTTCAGTTCA_r2', 'CTCTTTTCAGTTCA_r3', 'TTTTGTGTTTCATC_r2', 'TTTTGTGTTTCATC_r3', 'TTACATGCTACCCC_r1', 'TTACATGCTACCCC_r2', 'TTACATGCTACCCC_r3']\n"
     ]
    },
    {
     "name": "stderr",
     "output_type": "stream",
     "text": [
      "100%|██████████| 1/1 [00:00<00:00, 151.01it/s]\n",
      "Processing characters: 100%|██████████| 19/19 [00:00<00:00, 28060.48it/s]\n"
     ]
    },
    {
     "name": "stdout",
     "output_type": "stream",
     "text": [
      "Dropping the following intBCs due to lack of diversity with threshold 0.98: ['TTACATGCTACCCC_r1', 'TTACATGCTACCCC_r2']\n"
     ]
    },
    {
     "name": "stderr",
     "output_type": "stream",
     "text": [
      "100%|██████████| 1/1 [00:00<00:00, 122.99it/s]\n",
      "Processing characters: 100%|██████████| 16/16 [00:00<00:00, 6483.95it/s]"
     ]
    },
    {
     "name": "stdout",
     "output_type": "stream",
     "text": [
      "Dropping the following intBCs due to lack of diversity with threshold 0.98: ['ACATTATTAGATAC_r2', 'CTCTTTTCAGTTCA_r1', 'CTCTTTTCAGTTCA_r2', 'CTCTTTTCAGTTCA_r3', 'GTGCAAGCCTTATC_r3', 'TTTTGTGTTTCATC_r1', 'TTTTGTGTTTCATC_r2', 'TTTTGTGTTTCATC_r3']\n"
     ]
    },
    {
     "name": "stderr",
     "output_type": "stream",
     "text": [
      "\n",
      "100%|██████████| 1/1 [00:00<00:00, 115.55it/s]\n",
      "Processing characters: 100%|██████████| 19/19 [00:00<00:00, 7462.48it/s]"
     ]
    },
    {
     "name": "stdout",
     "output_type": "stream",
     "text": [
      "Dropping the following intBCs due to lack of diversity with threshold 0.98: ['ACGTGCAAGGACGC_r2', 'ACGTGCAAGGACGC_r3', 'TCTATACTGACGGA_r2', 'TTACATGCTACCCC_r1', 'TTACATGCTACCCC_r2']\n"
     ]
    },
    {
     "name": "stderr",
     "output_type": "stream",
     "text": [
      "\n",
      "100%|██████████| 1/1 [00:00<00:00, 135.16it/s]\n",
      "Processing characters: 100%|██████████| 24/24 [00:00<00:00, 11096.04it/s]\n"
     ]
    },
    {
     "name": "stdout",
     "output_type": "stream",
     "text": [
      "Dropping the following intBCs due to lack of diversity with threshold 0.98: []\n"
     ]
    },
    {
     "name": "stderr",
     "output_type": "stream",
     "text": [
      "100%|██████████| 1/1 [00:00<00:00, 144.33it/s]\n",
      "Processing characters: 100%|██████████| 15/15 [00:00<00:00, 38550.59it/s]\n",
      "100%|██████████| 1/1 [00:00<00:00, 124.41it/s]\n",
      "Processing characters: 0it [00:00, ?it/s]\n",
      "Processing characters: 100%|██████████| 24/24 [00:00<00:00, 110014.53it/s]"
     ]
    },
    {
     "name": "stdout",
     "output_type": "stream",
     "text": [
      "Dropping the following intBCs due to lack of diversity with threshold 0.98: ['TATGCCGCCAGTTT_r1', 'ACATTATTAGATAC_r1', 'ACGTGCAAGGACGC_r2', 'ACGTGCAAGGACGC_r3', 'CTCTTTTCAGTTCA_r2', 'TCTATACTGACGGA_r2', 'TTACATGCTACCCC_r1', 'TTACATGCTACCCC_r2', 'TTTTGTGTTTCATC_r2']\n",
      "Dropping the following intBCs due to lack of diversity with threshold 0.98: ['TTTTGTGTTTCATC_r1', 'TTTTGTGTTTCATC_r2', 'TTTTGTGTTTCATC_r3', 'TTACATGCTACCCC_r1', 'TTACATGCTACCCC_r2', 'TTACATGCTACCCC_r3', 'TCTATACTGACGGA_r1', 'TCTATACTGACGGA_r2', 'TCTATACTGACGGA_r3', 'TATGCCGCCAGTTT_r1', 'TATGCCGCCAGTTT_r2', 'TATGCCGCCAGTTT_r3', 'GATAGCACAAAACG_r1', 'GATAGCACAAAACG_r2', 'GATAGCACAAAACG_r3', 'CTCTTTTCAGTTCA_r1', 'CTCTTTTCAGTTCA_r2', 'CTCTTTTCAGTTCA_r3', 'ACGTGCAAGGACGC_r1', 'ACGTGCAAGGACGC_r2', 'ACGTGCAAGGACGC_r3', 'ACATTATTAGATAC_r1', 'ACATTATTAGATAC_r2', 'ACATTATTAGATAC_r3']\n",
      "Dropping the following intBCs due to lack of diversity with threshold 1.0: []\n"
     ]
    },
    {
     "name": "stderr",
     "output_type": "stream",
     "text": [
      "\n",
      "100%|██████████| 1/1 [00:00<00:00, 135.21it/s]\n",
      "Processing characters: 100%|██████████| 24/24 [00:00<00:00, 17334.82it/s]\n"
     ]
    },
    {
     "name": "stdout",
     "output_type": "stream",
     "text": [
      "Dropping the following intBCs due to lack of diversity with threshold 0.98: []\n"
     ]
    },
    {
     "name": "stderr",
     "output_type": "stream",
     "text": [
      "100%|██████████| 1/1 [00:00<00:00, 135.78it/s]\n",
      "Processing characters: 100%|██████████| 27/27 [00:00<00:00, 18411.02it/s]\n"
     ]
    },
    {
     "name": "stdout",
     "output_type": "stream",
     "text": [
      "Dropping the following intBCs due to lack of diversity with threshold 0.98: []\n"
     ]
    },
    {
     "name": "stderr",
     "output_type": "stream",
     "text": [
      "100%|██████████| 1/1 [00:00<00:00, 115.87it/s]\n",
      "Processing characters: 100%|██████████| 21/21 [00:00<00:00, 3066.01it/s]"
     ]
    },
    {
     "name": "stdout",
     "output_type": "stream",
     "text": [
      "Dropping the following intBCs due to lack of diversity with threshold 0.98: []\n"
     ]
    },
    {
     "name": "stderr",
     "output_type": "stream",
     "text": [
      "\n",
      "100%|██████████| 1/1 [00:00<00:00, 140.74it/s]\n",
      "Processing characters: 100%|██████████| 7/7 [00:00<00:00, 36746.09it/s]\n",
      "100%|██████████| 1/1 [00:00<00:00, 124.11it/s]\n"
     ]
    },
    {
     "name": "stdout",
     "output_type": "stream",
     "text": [
      "Dropping the following intBCs due to lack of diversity with threshold 0.98: ['TTTCGTCGCTCTTC_r1', 'TTTCGTCGCTCTTC_r2', 'TTTCGTCGCTCTTC_r3', 'TAACCAAGCCTACA_r1', 'TAACCAAGCCTACA_r2', 'TAACCAAGCCTACA_r3', 'GCGTTTAGAATATT_r1', 'GCGTTTAGAATATT_r2', 'GCGTTTAGAATATT_r3', 'GCCTTCAATTCCAA_r1', 'GCCTTCAATTCCAA_r2', 'GCCTTCAATTCCAA_r3', 'GAACCCACAATTCC_r1', 'GAACCCACAATTCC_r2', 'GAACCCACAATTCC_r3', 'CGCTATGGGGGGAA_r2', 'CGCTATGGGGGGAA_r3', 'CGATTGGTCACTTA_r1', 'CGATTGGTCACTTA_r2', 'CGATTGGTCACTTA_r3', 'ATGATTTAACTACT_r1', 'ATGATTTAACTACT_r2', 'ATGATTTAACTACT_r3']\n"
     ]
    },
    {
     "name": "stderr",
     "output_type": "stream",
     "text": [
      "Processing characters: 100%|██████████| 35/35 [00:00<00:00, 15159.09it/s]"
     ]
    },
    {
     "name": "stdout",
     "output_type": "stream",
     "text": [
      "Dropping the following intBCs due to lack of diversity with threshold 0.98: ['TAACCAAGCCTACA_r2']\n"
     ]
    },
    {
     "name": "stderr",
     "output_type": "stream",
     "text": [
      "\n",
      "100%|██████████| 1/1 [00:00<00:00, 122.60it/s]\n",
      "Processing characters: 100%|██████████| 28/28 [00:00<00:00, 13674.95it/s]"
     ]
    },
    {
     "name": "stdout",
     "output_type": "stream",
     "text": [
      "Dropping the following intBCs due to lack of diversity with threshold 0.98: ['ATGATTTAACTACT_r1', 'ATGATTTAACTACT_r3', 'CGATTGGTCACTTA_r1', 'CGATTGGTCACTTA_r2', 'CGATTGGTCACTTA_r3', 'GAACCCACAATTCC_r2', 'GAACCCACAATTCC_r3', 'ACAATGCGTGTGGC_r1']\n"
     ]
    },
    {
     "name": "stderr",
     "output_type": "stream",
     "text": [
      "\n",
      "100%|██████████| 1/1 [00:00<00:00, 120.07it/s]\n",
      "Processing characters: 100%|██████████| 28/28 [00:00<00:00, 10673.50it/s]"
     ]
    },
    {
     "name": "stdout",
     "output_type": "stream",
     "text": [
      "Dropping the following intBCs due to lack of diversity with threshold 0.98: ['TAACCAAGCCTACA_r2', 'ATGATTTAACTACT_r1']\n"
     ]
    },
    {
     "name": "stderr",
     "output_type": "stream",
     "text": [
      "\n",
      "100%|██████████| 1/1 [00:00<00:00, 118.84it/s]\n",
      "Processing characters: 100%|██████████| 34/34 [00:00<00:00, 832.60it/s]"
     ]
    },
    {
     "name": "stdout",
     "output_type": "stream",
     "text": [
      "Dropping the following intBCs due to lack of diversity with threshold 0.98: ['CGATTGGTCACTTA_r1', 'TAACCAAGCCTACA_r2']\n"
     ]
    },
    {
     "name": "stderr",
     "output_type": "stream",
     "text": [
      "\n",
      "100%|██████████| 1/1 [00:00<00:00, 135.30it/s]\n",
      "Processing characters: 100%|██████████| 4/4 [00:00<00:00, 15665.00it/s]\n",
      "100%|██████████| 1/1 [00:00<00:00, 156.60it/s]\n",
      "Processing characters: 100%|██████████| 4/4 [00:00<00:00, 34100.03it/s]"
     ]
    },
    {
     "name": "stdout",
     "output_type": "stream",
     "text": [
      "Dropping the following intBCs due to lack of diversity with threshold 0.98: ['TATGATTAGTCGCG_r1', 'TATGATTAGTCGCG_r2', 'TATGATTAGTCGCG_r3', 'ACTCTGCTCCAGAT_r2', 'ACTCTGCTCCAGAT_r3', 'ACAGGTGCTCAAAT_r1', 'ACAGGTGCTCAAAT_r2', 'ACAGGTGCTCAAAT_r3', 'GTTTATTTCCGTAT_r1', 'GTTTATTTCCGTAT_r2', 'GCCTACTTAAGTCC_r1', 'GCCTACTTAAGTCC_r2', 'GCCTACTTAAGTCC_r3', 'TCAGGCGATGCGAA_r2', 'TCAGGCGATGCGAA_r3', 'TGTGAAGGTCAATA_r1', 'TGTGAAGGTCAATA_r2', 'TGTGAAGGTCAATA_r3', 'TTCCCTATTTGCTA_r1', 'TTCCCTATTTGCTA_r2', 'TGATATAAATCTTT_r1', 'TGATATAAATCTTT_r2', 'TGATATAAATCTTT_r3']\n",
      "Dropping the following intBCs due to lack of diversity with threshold 0.98: ['GTTTATTTCCGTAT_r1', 'GTTTATTTCCGTAT_r2', 'ACAGGTGCTCAAAT_r1', 'ACAGGTGCTCAAAT_r2', 'ACAGGTGCTCAAAT_r3', 'GCCTACTTAAGTCC_r1', 'GCCTACTTAAGTCC_r2', 'GCCTACTTAAGTCC_r3', 'ACTCTGCTCCAGAT_r2', 'ACTCTGCTCCAGAT_r3', 'TATGATTAGTCGCG_r1', 'TATGATTAGTCGCG_r2', 'TATGATTAGTCGCG_r3', 'TCAGGCGATGCGAA_r2', 'TCAGGCGATGCGAA_r3', 'TGATATAAATCTTT_r1', 'TGATATAAATCTTT_r2', 'TGATATAAATCTTT_r3', 'TGTGAAGGTCAATA_r1', 'TGTGAAGGTCAATA_r2', 'TGTGAAGGTCAATA_r3', 'TTCCCTATTTGCTA_r1', 'TTCCCTATTTGCTA_r2']\n"
     ]
    },
    {
     "name": "stderr",
     "output_type": "stream",
     "text": [
      "\n",
      "100%|██████████| 1/1 [00:00<00:00, 139.68it/s]\n",
      "Processing characters: 100%|██████████| 4/4 [00:00<00:00, 11773.48it/s]\n",
      "100%|██████████| 1/1 [00:00<00:00, 132.15it/s]"
     ]
    },
    {
     "name": "stdout",
     "output_type": "stream",
     "text": [
      "Dropping the following intBCs due to lack of diversity with threshold 0.98: ['TATGATTAGTCGCG_r1', 'TATGATTAGTCGCG_r2', 'TATGATTAGTCGCG_r3', 'ACAGGTGCTCAAAT_r1', 'ACAGGTGCTCAAAT_r2', 'ACAGGTGCTCAAAT_r3', 'ACTCTGCTCCAGAT_r2', 'ACTCTGCTCCAGAT_r3', 'GCCTACTTAAGTCC_r1', 'GCCTACTTAAGTCC_r2', 'GCCTACTTAAGTCC_r3', 'GTTTATTTCCGTAT_r1', 'GTTTATTTCCGTAT_r2', 'TCAGGCGATGCGAA_r2', 'TCAGGCGATGCGAA_r3', 'TGTGAAGGTCAATA_r1', 'TGTGAAGGTCAATA_r2', 'TGTGAAGGTCAATA_r3', 'TTCCCTATTTGCTA_r1', 'TTCCCTATTTGCTA_r2', 'TGATATAAATCTTT_r1', 'TGATATAAATCTTT_r2', 'TGATATAAATCTTT_r3']\n"
     ]
    },
    {
     "name": "stderr",
     "output_type": "stream",
     "text": [
      "\n",
      "Processing characters: 100%|██████████| 4/4 [00:00<00:00, 7142.28it/s]"
     ]
    },
    {
     "name": "stdout",
     "output_type": "stream",
     "text": [
      "Dropping the following intBCs due to lack of diversity with threshold 0.98: ['ACTCTGCTCCAGAT_r2', 'ACTCTGCTCCAGAT_r3', 'TCAGGCGATGCGAA_r2', 'TCAGGCGATGCGAA_r3', 'ACAGGTGCTCAAAT_r1', 'ACAGGTGCTCAAAT_r2', 'ACAGGTGCTCAAAT_r3', 'GTTTATTTCCGTAT_r1', 'GTTTATTTCCGTAT_r2', 'GCCTACTTAAGTCC_r1', 'GCCTACTTAAGTCC_r2', 'GCCTACTTAAGTCC_r3', 'TGATATAAATCTTT_r1', 'TGATATAAATCTTT_r2', 'TGATATAAATCTTT_r3', 'TATGATTAGTCGCG_r1', 'TATGATTAGTCGCG_r2', 'TATGATTAGTCGCG_r3', 'TGTGAAGGTCAATA_r1', 'TGTGAAGGTCAATA_r2', 'TGTGAAGGTCAATA_r3', 'TTCCCTATTTGCTA_r1', 'TTCCCTATTTGCTA_r2']\n"
     ]
    },
    {
     "name": "stderr",
     "output_type": "stream",
     "text": [
      "\n",
      "100%|██████████| 1/1 [00:00<00:00, 139.82it/s]\n",
      "Processing characters: 100%|██████████| 4/4 [00:00<00:00, 17067.36it/s]\n",
      "100%|██████████| 1/1 [00:00<00:00, 134.91it/s]"
     ]
    },
    {
     "name": "stdout",
     "output_type": "stream",
     "text": [
      "Dropping the following intBCs due to lack of diversity with threshold 0.98: ['TATGATTAGTCGCG_r1', 'TATGATTAGTCGCG_r2', 'TATGATTAGTCGCG_r3', 'ACAGGTGCTCAAAT_r1', 'ACAGGTGCTCAAAT_r2', 'ACAGGTGCTCAAAT_r3', 'ACTCTGCTCCAGAT_r2', 'ACTCTGCTCCAGAT_r3', 'GCCTACTTAAGTCC_r1', 'GCCTACTTAAGTCC_r2', 'GCCTACTTAAGTCC_r3', 'GTTTATTTCCGTAT_r1', 'GTTTATTTCCGTAT_r2', 'TCAGGCGATGCGAA_r2', 'TCAGGCGATGCGAA_r3', 'TGATATAAATCTTT_r1', 'TGATATAAATCTTT_r2', 'TGATATAAATCTTT_r3', 'TGTGAAGGTCAATA_r1', 'TGTGAAGGTCAATA_r2', 'TGTGAAGGTCAATA_r3', 'TTCCCTATTTGCTA_r1', 'TTCCCTATTTGCTA_r2']\n"
     ]
    },
    {
     "name": "stderr",
     "output_type": "stream",
     "text": [
      "\n",
      "Processing characters: 100%|██████████| 4/4 [00:00<00:00, 10349.92it/s]\n",
      "100%|██████████| 1/1 [00:00<00:00, 150.38it/s]\n",
      "Processing characters: 100%|██████████| 5/5 [00:00<00:00, 37315.87it/s]"
     ]
    },
    {
     "name": "stdout",
     "output_type": "stream",
     "text": [
      "Dropping the following intBCs due to lack of diversity with threshold 0.98: ['GTTTATTTCCGTAT_r1', 'GTTTATTTCCGTAT_r2', 'TTCCCTATTTGCTA_r1', 'TTCCCTATTTGCTA_r2', 'TGTGAAGGTCAATA_r1', 'TGTGAAGGTCAATA_r2', 'TGTGAAGGTCAATA_r3', 'TGATATAAATCTTT_r1', 'TGATATAAATCTTT_r2', 'TGATATAAATCTTT_r3', 'TCAGGCGATGCGAA_r2', 'TCAGGCGATGCGAA_r3', 'TATGATTAGTCGCG_r1', 'TATGATTAGTCGCG_r2', 'TATGATTAGTCGCG_r3', 'GCCTACTTAAGTCC_r1', 'GCCTACTTAAGTCC_r2', 'GCCTACTTAAGTCC_r3', 'ACTCTGCTCCAGAT_r2', 'ACTCTGCTCCAGAT_r3', 'ACAGGTGCTCAAAT_r1', 'ACAGGTGCTCAAAT_r2', 'ACAGGTGCTCAAAT_r3']\n",
      "Dropping the following intBCs due to lack of diversity with threshold 0.98: ['GTTTATTTCCGTAT_r1', 'GTTTATTTCCGTAT_r2', 'ACAGGTGCTCAAAT_r1', 'ACAGGTGCTCAAAT_r2', 'ACAGGTGCTCAAAT_r3', 'ACTCTGCTCCAGAT_r2', 'ACTCTGCTCCAGAT_r3', 'GCCTACTTAAGTCC_r1', 'GCCTACTTAAGTCC_r2', 'GCCTACTTAAGTCC_r3', 'TCAGGCGATGCGAA_r2', 'TCAGGCGATGCGAA_r3', 'TATGATTAGTCGCG_r1', 'TATGATTAGTCGCG_r2', 'TATGATTAGTCGCG_r3', 'TGATATAAATCTTT_r1', 'TGATATAAATCTTT_r2', 'TGATATAAATCTTT_r3', 'TGTGAAGGTCAATA_r1', 'TGTGAAGGTCAATA_r2', 'TGTGAAGGTCAATA_r3', 'TTCCCTATTTGCTA_r1']\n"
     ]
    },
    {
     "name": "stderr",
     "output_type": "stream",
     "text": [
      "\n",
      "100%|██████████| 1/1 [00:00<00:00, 132.26it/s]\n",
      "Processing characters: 100%|██████████| 5/5 [00:00<00:00, 10618.49it/s]\n"
     ]
    },
    {
     "name": "stdout",
     "output_type": "stream",
     "text": [
      "Dropping the following intBCs due to lack of diversity with threshold 0.98: ['GTTTATTTCCGTAT_r1', 'GTTTATTTCCGTAT_r2', 'ACTCTGCTCCAGAT_r2', 'ACTCTGCTCCAGAT_r3', 'ACAGGTGCTCAAAT_r1', 'ACAGGTGCTCAAAT_r2', 'ACAGGTGCTCAAAT_r3', 'GCCTACTTAAGTCC_r1', 'GCCTACTTAAGTCC_r2', 'GCCTACTTAAGTCC_r3', 'TTCCCTATTTGCTA_r1', 'TATGATTAGTCGCG_r1', 'TATGATTAGTCGCG_r2', 'TATGATTAGTCGCG_r3', 'TGATATAAATCTTT_r1', 'TGATATAAATCTTT_r2', 'TGATATAAATCTTT_r3', 'TGTGAAGGTCAATA_r1', 'TGTGAAGGTCAATA_r2', 'TGTGAAGGTCAATA_r3', 'TCAGGCGATGCGAA_r2', 'TCAGGCGATGCGAA_r3']\n"
     ]
    },
    {
     "name": "stderr",
     "output_type": "stream",
     "text": [
      "100%|██████████| 1/1 [00:00<00:00, 44.70it/s]\n",
      "Processing characters: 100%|██████████| 27/27 [00:00<00:00, 451.89it/s]"
     ]
    },
    {
     "name": "stdout",
     "output_type": "stream",
     "text": [
      "Dropping the following intBCs due to lack of diversity with threshold 0.98: []\n"
     ]
    },
    {
     "name": "stderr",
     "output_type": "stream",
     "text": [
      "\n",
      "100%|██████████| 1/1 [00:00<00:00, 121.11it/s]\n",
      "Processing characters: 100%|██████████| 16/16 [00:00<00:00, 5062.91it/s]"
     ]
    },
    {
     "name": "stdout",
     "output_type": "stream",
     "text": [
      "Dropping the following intBCs due to lack of diversity with threshold 0.98: ['TTCCCTATTTGCTA_r1', 'TTCCCTATTTGCTA_r2', 'TGTGAAGGTCAATA_r1', 'TGTGAAGGTCAATA_r2', 'GCCTACTTAAGTCC_r1', 'GCCTACTTAAGTCC_r2', 'GCCTACTTAAGTCC_r3', 'ACTCTGCTCCAGAT_r2', 'ACTCTGCTCCAGAT_r3', 'TCAGGCGATGCGAA_r2', 'TCAGGCGATGCGAA_r3']\n"
     ]
    },
    {
     "name": "stderr",
     "output_type": "stream",
     "text": [
      "\n",
      "100%|██████████| 1/1 [00:00<00:00, 86.61it/s]\n",
      "Processing characters: 100%|██████████| 27/27 [00:00<00:00, 1986.98it/s]"
     ]
    },
    {
     "name": "stdout",
     "output_type": "stream",
     "text": [
      "Dropping the following intBCs due to lack of diversity with threshold 0.98: ['ACAGGTGCTCAAAT_r3', 'TATGATTAGTCGCG_r1', 'TTCCCTATTTGCTA_r2']\n"
     ]
    },
    {
     "name": "stderr",
     "output_type": "stream",
     "text": [
      "\n",
      "100%|██████████| 1/1 [00:00<00:00, 94.53it/s]\n",
      "Processing characters: 100%|██████████| 13/13 [00:00<00:00, 2389.92it/s]"
     ]
    },
    {
     "name": "stdout",
     "output_type": "stream",
     "text": [
      "Dropping the following intBCs due to lack of diversity with threshold 0.98: ['TATGATTAGTCGCG_r2', 'ACAGGTGCTCAAAT_r2', 'ACAGGTGCTCAAAT_r3', 'GCCTACTTAAGTCC_r1', 'GCCTACTTAAGTCC_r2', 'GCCTACTTAAGTCC_r3', 'GTTTATTTCCGTAT_r1', 'GTTTATTTCCGTAT_r2', 'GTTTATTTCCGTAT_r3', 'TCAGGCGATGCGAA_r2', 'TGATATAAATCTTT_r1', 'TGATATAAATCTTT_r2', 'TGATATAAATCTTT_r3', 'TGTGAAGGTCAATA_r1', 'TGTGAAGGTCAATA_r2', 'TGTTTTTGTCTGCA_r1', 'TGTTTTTGTCTGCA_r2']\n"
     ]
    },
    {
     "name": "stderr",
     "output_type": "stream",
     "text": [
      "\n",
      "100%|██████████| 1/1 [00:00<00:00, 103.99it/s]\n",
      "Processing characters: 100%|██████████| 30/30 [00:00<00:00, 3135.22it/s]"
     ]
    },
    {
     "name": "stdout",
     "output_type": "stream",
     "text": [
      "Dropping the following intBCs due to lack of diversity with threshold 0.98: []\n"
     ]
    },
    {
     "name": "stderr",
     "output_type": "stream",
     "text": [
      "\n",
      "100%|██████████| 1/1 [00:00<00:00, 133.78it/s]\n",
      "Processing characters: 100%|██████████| 26/26 [00:00<00:00, 16917.76it/s]\n"
     ]
    },
    {
     "name": "stdout",
     "output_type": "stream",
     "text": [
      "Dropping the following intBCs due to lack of diversity with threshold 0.98: ['TTCCCTATTTGCTA_r2']\n"
     ]
    },
    {
     "name": "stderr",
     "output_type": "stream",
     "text": [
      "100%|██████████| 1/1 [00:00<00:00, 152.76it/s]\n",
      "Processing characters: 100%|██████████| 20/20 [00:00<00:00, 82646.38it/s]\n",
      "100%|██████████| 1/1 [00:00<00:00, 151.48it/s]\n"
     ]
    },
    {
     "name": "stdout",
     "output_type": "stream",
     "text": [
      "Dropping the following intBCs due to lack of diversity with threshold 0.98: ['TTCCCTATTTGCTA_r2']\n"
     ]
    },
    {
     "name": "stderr",
     "output_type": "stream",
     "text": [
      "Processing characters: 100%|██████████| 3/3 [00:00<00:00, 5949.37it/s]\n"
     ]
    },
    {
     "name": "stdout",
     "output_type": "stream",
     "text": [
      "Dropping the following intBCs due to lack of diversity with threshold 0.98: ['TTCCCTATTTGCTA_r1', 'TTCCCTATTTGCTA_r2', 'TGTGAAGGTCAATA_r1', 'TGTGAAGGTCAATA_r2', 'TATGATTAGTCGCG_r1', 'TATGATTAGTCGCG_r3', 'GTTTATTTCCGTAT_r1', 'GTTTATTTCCGTAT_r2', 'GTTTATTTCCGTAT_r3', 'GCCTACTTAAGTCC_r1', 'GCCTACTTAAGTCC_r2', 'GCCTACTTAAGTCC_r3']\n"
     ]
    },
    {
     "name": "stderr",
     "output_type": "stream",
     "text": [
      "100%|██████████| 1/1 [00:00<00:00, 112.70it/s]\n",
      "Processing characters: 100%|██████████| 3/3 [00:00<00:00, 1986.25it/s]"
     ]
    },
    {
     "name": "stdout",
     "output_type": "stream",
     "text": [
      "Dropping the following intBCs due to lack of diversity with threshold 0.98: ['TATGATTAGTCGCG_r1', 'TATGATTAGTCGCG_r3', 'GTTTATTTCCGTAT_r1', 'GTTTATTTCCGTAT_r2', 'GTTTATTTCCGTAT_r3', 'GCCTACTTAAGTCC_r1', 'GCCTACTTAAGTCC_r2', 'GCCTACTTAAGTCC_r3', 'TGTGAAGGTCAATA_r1', 'TGTGAAGGTCAATA_r2', 'TTCCCTATTTGCTA_r1', 'TTCCCTATTTGCTA_r2']\n"
     ]
    },
    {
     "name": "stderr",
     "output_type": "stream",
     "text": [
      "\n",
      "100%|██████████| 1/1 [00:00<00:00, 59.40it/s]\n",
      "Processing characters: 100%|██████████| 26/26 [00:00<00:00, 861.17it/s]"
     ]
    },
    {
     "name": "stdout",
     "output_type": "stream",
     "text": [
      "Dropping the following intBCs due to lack of diversity with threshold 0.98: ['TTCCCTATTTGCTA_r2', 'TGATATAAATCTTT_r2', 'TCAGGCGATGCGAA_r2', 'TATGATTAGTCGCG_r2']\n"
     ]
    },
    {
     "name": "stderr",
     "output_type": "stream",
     "text": [
      "\n",
      "100%|██████████| 1/1 [00:00<00:00, 70.60it/s]\n",
      "Processing characters: 100%|██████████| 27/27 [00:00<00:00, 1203.03it/s]"
     ]
    },
    {
     "name": "stdout",
     "output_type": "stream",
     "text": [
      "Dropping the following intBCs due to lack of diversity with threshold 0.98: ['TTCCCTATTTGCTA_r2', 'GTTTATTTCCGTAT_r2', 'GTTTATTTCCGTAT_r3']\n"
     ]
    },
    {
     "name": "stderr",
     "output_type": "stream",
     "text": [
      "\n",
      "100%|██████████| 1/1 [00:00<00:00, 105.61it/s]\n",
      "Processing characters: 100%|██████████| 28/28 [00:00<00:00, 3331.08it/s]"
     ]
    },
    {
     "name": "stdout",
     "output_type": "stream",
     "text": [
      "Dropping the following intBCs due to lack of diversity with threshold 0.98: ['TTCCCTATTTGCTA_r2', 'TGTTTTTGTCTGCA_r2']\n"
     ]
    },
    {
     "name": "stderr",
     "output_type": "stream",
     "text": [
      "\n",
      "100%|██████████| 1/1 [00:00<00:00, 120.64it/s]\n",
      "Processing characters: 100%|██████████| 27/27 [00:00<00:00, 5381.15it/s]"
     ]
    },
    {
     "name": "stdout",
     "output_type": "stream",
     "text": [
      "Dropping the following intBCs due to lack of diversity with threshold 0.98: ['TGATATAAATCTTT_r1', 'TGATATAAATCTTT_r2', 'TGATATAAATCTTT_r3']\n"
     ]
    },
    {
     "name": "stderr",
     "output_type": "stream",
     "text": [
      "\n",
      "100%|██████████| 1/1 [00:00<00:00, 134.09it/s]\n",
      "Processing characters: 100%|██████████| 20/20 [00:00<00:00, 24803.69it/s]\n"
     ]
    },
    {
     "name": "stdout",
     "output_type": "stream",
     "text": [
      "Dropping the following intBCs due to lack of diversity with threshold 0.98: ['TGTTTTTGTCTGCA_r1', 'TGTTTTTGTCTGCA_r2', 'TATGATTAGTCGCG_r2', 'TATGATTAGTCGCG_r3', 'GCCTACTTAAGTCC_r1', 'GCCTACTTAAGTCC_r2', 'TCAGGCGATGCGAA_r2']\n"
     ]
    },
    {
     "name": "stderr",
     "output_type": "stream",
     "text": [
      "100%|██████████| 1/1 [00:00<00:00, 133.25it/s]\n",
      "Processing characters: 100%|██████████| 5/5 [00:00<00:00, 14443.20it/s]\n",
      "100%|██████████| 1/1 [00:00<00:00, 121.49it/s]"
     ]
    },
    {
     "name": "stdout",
     "output_type": "stream",
     "text": [
      "Dropping the following intBCs due to lack of diversity with threshold 0.98: ['TATGATTAGTCGCG_r1', 'TATGATTAGTCGCG_r2', 'TATGATTAGTCGCG_r3', 'ACTCTGCTCCAGAT_r1', 'ACTCTGCTCCAGAT_r2', 'GCCTACTTAAGTCC_r1', 'GCCTACTTAAGTCC_r2', 'GCCTACTTAAGTCC_r3', 'ACAGGTGCTCAAAT_r2', 'GTTTATTTCCGTAT_r1', 'GTTTATTTCCGTAT_r2', 'TCAGGCGATGCGAA_r1', 'TCAGGCGATGCGAA_r2', 'TCAGGCGATGCGAA_r3', 'TGTGAAGGTCAATA_r1', 'TGTGAAGGTCAATA_r2', 'TGTTTTTGTCTGCA_r1', 'TGTTTTTGTCTGCA_r2', 'TGTTTTTGTCTGCA_r3', 'TGATATAAATCTTT_r1', 'TGATATAAATCTTT_r2', 'TGATATAAATCTTT_r3']\n"
     ]
    },
    {
     "name": "stderr",
     "output_type": "stream",
     "text": [
      "\n",
      "Processing characters: 100%|██████████| 5/5 [00:00<00:00, 6484.70it/s]"
     ]
    },
    {
     "name": "stdout",
     "output_type": "stream",
     "text": [
      "Dropping the following intBCs due to lack of diversity with threshold 0.98: ['TGTTTTTGTCTGCA_r1', 'TGTTTTTGTCTGCA_r2', 'TGTTTTTGTCTGCA_r3', 'TGTGAAGGTCAATA_r1', 'TGTGAAGGTCAATA_r2', 'TGATATAAATCTTT_r1', 'TGATATAAATCTTT_r2', 'TGATATAAATCTTT_r3', 'TCAGGCGATGCGAA_r1', 'TCAGGCGATGCGAA_r2', 'TCAGGCGATGCGAA_r3', 'TATGATTAGTCGCG_r1', 'TATGATTAGTCGCG_r2', 'TATGATTAGTCGCG_r3', 'GTTTATTTCCGTAT_r1', 'GTTTATTTCCGTAT_r2', 'GCCTACTTAAGTCC_r1', 'GCCTACTTAAGTCC_r2', 'GCCTACTTAAGTCC_r3', 'ACTCTGCTCCAGAT_r1', 'ACTCTGCTCCAGAT_r2', 'ACAGGTGCTCAAAT_r2']\n"
     ]
    },
    {
     "name": "stderr",
     "output_type": "stream",
     "text": [
      "\n",
      "100%|██████████| 1/1 [00:00<00:00, 139.86it/s]\n",
      "Processing characters: 100%|██████████| 8/8 [00:00<00:00, 20128.63it/s]\n",
      "100%|██████████| 1/1 [00:00<00:00, 131.32it/s]"
     ]
    },
    {
     "name": "stdout",
     "output_type": "stream",
     "text": [
      "Dropping the following intBCs due to lack of diversity with threshold 0.98: ['TCAGGCGATGCGAA_r1', 'TCAGGCGATGCGAA_r2', 'TCAGGCGATGCGAA_r3', 'GCCTACTTAAGTCC_r1', 'GCCTACTTAAGTCC_r2', 'GCCTACTTAAGTCC_r3', 'GTTTATTTCCGTAT_r2', 'TATGATTAGTCGCG_r1', 'TATGATTAGTCGCG_r2', 'TATGATTAGTCGCG_r3', 'TGATATAAATCTTT_r2', 'TGATATAAATCTTT_r3', 'TGTGAAGGTCAATA_r1', 'TGTGAAGGTCAATA_r2', 'TGTTTTTGTCTGCA_r1', 'TGTTTTTGTCTGCA_r2', 'ACTCTGCTCCAGAT_r1', 'ACTCTGCTCCAGAT_r2', 'ACAGGTGCTCAAAT_r1']\n"
     ]
    },
    {
     "name": "stderr",
     "output_type": "stream",
     "text": [
      "\n",
      "Processing characters: 100%|██████████| 2/2 [00:00<00:00, 5096.36it/s]\n",
      "100%|██████████| 1/1 [00:00<00:00, 133.61it/s]"
     ]
    },
    {
     "name": "stdout",
     "output_type": "stream",
     "text": [
      "Dropping the following intBCs due to lack of diversity with threshold 0.98: ['ACAGGTGCTCAAAT_r2', 'ACAGGTGCTCAAAT_r3', 'TATGATTAGTCGCG_r1', 'TATGATTAGTCGCG_r2', 'TATGATTAGTCGCG_r3', 'ACTCTGCTCCAGAT_r1', 'ACTCTGCTCCAGAT_r2', 'ACTCTGCTCCAGAT_r3', 'GTTTATTTCCGTAT_r1', 'GTTTATTTCCGTAT_r2', 'GTTTATTTCCGTAT_r3', 'GCCTACTTAAGTCC_r2', 'GCCTACTTAAGTCC_r3', 'TGATATAAATCTTT_r1', 'TGATATAAATCTTT_r2', 'TGATATAAATCTTT_r3', 'TGTTTTTGTCTGCA_r1', 'TGTTTTTGTCTGCA_r2', 'TGTTTTTGTCTGCA_r3', 'TTCCCTATTTGCTA_r1', 'TTCCCTATTTGCTA_r2', 'TTCCCTATTTGCTA_r3', 'TGTGAAGGTCAATA_r1', 'TGTGAAGGTCAATA_r2', 'TGTGAAGGTCAATA_r3']\n"
     ]
    },
    {
     "name": "stderr",
     "output_type": "stream",
     "text": [
      "\n",
      "Processing characters: 100%|██████████| 30/30 [00:00<00:00, 21661.06it/s]\n"
     ]
    },
    {
     "name": "stdout",
     "output_type": "stream",
     "text": [
      "Dropping the following intBCs due to lack of diversity with threshold 0.98: []\n"
     ]
    },
    {
     "name": "stderr",
     "output_type": "stream",
     "text": [
      "100%|██████████| 1/1 [00:00<00:00, 96.85it/s]\n",
      "Processing characters: 100%|██████████| 30/30 [00:00<00:00, 2609.53it/s]"
     ]
    },
    {
     "name": "stdout",
     "output_type": "stream",
     "text": [
      "Dropping the following intBCs due to lack of diversity with threshold 0.98: []\n"
     ]
    },
    {
     "name": "stderr",
     "output_type": "stream",
     "text": [
      "\n",
      "100%|██████████| 1/1 [00:00<00:00, 122.38it/s]\n",
      "Processing characters: 100%|██████████| 29/29 [00:00<00:00, 7358.43it/s]"
     ]
    },
    {
     "name": "stdout",
     "output_type": "stream",
     "text": [
      "Dropping the following intBCs due to lack of diversity with threshold 0.98: ['TTCCCTATTTGCTA_r2']\n"
     ]
    },
    {
     "name": "stderr",
     "output_type": "stream",
     "text": [
      "\n",
      "100%|██████████| 1/1 [00:00<00:00, 126.61it/s]\n",
      "Processing characters: 100%|██████████| 19/19 [00:00<00:00, 13792.28it/s]\n"
     ]
    },
    {
     "name": "stdout",
     "output_type": "stream",
     "text": [
      "Dropping the following intBCs due to lack of diversity with threshold 0.98: ['TATGATTAGTCGCG_r1', 'TATGATTAGTCGCG_r2', 'ACTCTGCTCCAGAT_r3', 'TGTGAAGGTCAATA_r2', 'TGTGAAGGTCAATA_r3', 'TGATATAAATCTTT_r2', 'TGATATAAATCTTT_r3', 'TGTTTTTGTCTGCA_r2', 'TGTTTTTGTCTGCA_r3', 'TTCCCTATTTGCTA_r1', 'TTCCCTATTTGCTA_r2']\n"
     ]
    },
    {
     "name": "stderr",
     "output_type": "stream",
     "text": [
      "100%|██████████| 1/1 [00:00<00:00, 147.83it/s]\n",
      "Processing characters: 100%|██████████| 16/16 [00:00<00:00, 63610.30it/s]\n",
      "100%|██████████| 1/1 [00:00<00:00, 118.32it/s]\n"
     ]
    },
    {
     "name": "stdout",
     "output_type": "stream",
     "text": [
      "Dropping the following intBCs due to lack of diversity with threshold 0.98: ['GCCTACTTAAGTCC_r2', 'ACAGGTGCTCAAAT_r2', 'TTCCCTATTTGCTA_r2', 'TCAGGCGATGCGAA_r1', 'TGTGAAGGTCAATA_r2', 'GTTTATTTCCGTAT_r1', 'GTTTATTTCCGTAT_r2', 'GTTTATTTCCGTAT_r3', 'TATGATTAGTCGCG_r1', 'TATGATTAGTCGCG_r2', 'TATGATTAGTCGCG_r3', 'TGATATAAATCTTT_r1', 'TGATATAAATCTTT_r2', 'TGATATAAATCTTT_r3']\n"
     ]
    },
    {
     "name": "stderr",
     "output_type": "stream",
     "text": [
      "Processing characters: 100%|██████████| 29/29 [00:00<00:00, 4790.28it/s]"
     ]
    },
    {
     "name": "stdout",
     "output_type": "stream",
     "text": [
      "Dropping the following intBCs due to lack of diversity with threshold 0.98: ['TTCCCTATTTGCTA_r2']\n"
     ]
    },
    {
     "name": "stderr",
     "output_type": "stream",
     "text": [
      "\n",
      "100%|██████████| 1/1 [00:00<00:00, 126.04it/s]\n",
      "Processing characters: 100%|██████████| 6/6 [00:00<00:00, 4395.01it/s]"
     ]
    },
    {
     "name": "stdout",
     "output_type": "stream",
     "text": [
      "Dropping the following intBCs due to lack of diversity with threshold 0.98: ['ACAGGTGCTCAAAT_r2', 'ACAGGTGCTCAAAT_r3', 'TCAGGCGATGCGAA_r2', 'TCAGGCGATGCGAA_r3', 'TTCCCTATTTGCTA_r1', 'TTCCCTATTTGCTA_r2', 'TTCCCTATTTGCTA_r3', 'TGATATAAATCTTT_r1', 'TGATATAAATCTTT_r2', 'TGATATAAATCTTT_r3', 'TGTTTTTGTCTGCA_r1', 'TGTTTTTGTCTGCA_r2', 'TGTGAAGGTCAATA_r1', 'TGTGAAGGTCAATA_r2', 'TGTGAAGGTCAATA_r3']\n"
     ]
    },
    {
     "name": "stderr",
     "output_type": "stream",
     "text": [
      "\n",
      "100%|██████████| 1/1 [00:00<00:00, 138.43it/s]\n",
      "Processing characters: 100%|██████████| 9/9 [00:00<00:00, 17541.23it/s]\n"
     ]
    },
    {
     "name": "stdout",
     "output_type": "stream",
     "text": [
      "Dropping the following intBCs due to lack of diversity with threshold 0.98: ['ACAGGTGCTCAAAT_r1', 'ACAGGTGCTCAAAT_r2', 'ACTCTGCTCCAGAT_r1', 'ACTCTGCTCCAGAT_r2', 'ACTCTGCTCCAGAT_r3', 'GCCTACTTAAGTCC_r2', 'GCCTACTTAAGTCC_r3', 'TGTGAAGGTCAATA_r2', 'TGTGAAGGTCAATA_r3', 'TCAGGCGATGCGAA_r1', 'TCAGGCGATGCGAA_r2', 'TTCCCTATTTGCTA_r3']\n"
     ]
    },
    {
     "name": "stderr",
     "output_type": "stream",
     "text": [
      "100%|██████████| 1/1 [00:00<00:00, 131.00it/s]\n",
      "Processing characters: 100%|██████████| 30/30 [00:00<00:00, 12050.29it/s]\n"
     ]
    },
    {
     "name": "stdout",
     "output_type": "stream",
     "text": [
      "Dropping the following intBCs due to lack of diversity with threshold 0.98: []\n"
     ]
    },
    {
     "name": "stderr",
     "output_type": "stream",
     "text": [
      "100%|██████████| 1/1 [00:00<00:00, 131.18it/s]\n",
      "Processing characters: 100%|██████████| 23/23 [00:00<00:00, 11961.44it/s]\n"
     ]
    },
    {
     "name": "stdout",
     "output_type": "stream",
     "text": [
      "Dropping the following intBCs due to lack of diversity with threshold 0.98: ['TATGATTAGTCGCG_r3', 'ACTCTGCTCCAGAT_r2', 'ACAGGTGCTCAAAT_r1', 'GTTTATTTCCGTAT_r1', 'GTTTATTTCCGTAT_r2', 'TCAGGCGATGCGAA_r1', 'TGATATAAATCTTT_r1']\n"
     ]
    },
    {
     "name": "stderr",
     "output_type": "stream",
     "text": [
      "100%|██████████| 1/1 [00:00<00:00, 134.52it/s]\n",
      "Processing characters: 100%|██████████| 10/10 [00:00<00:00, 13925.31it/s]\n"
     ]
    },
    {
     "name": "stdout",
     "output_type": "stream",
     "text": [
      "Dropping the following intBCs due to lack of diversity with threshold 0.98: ['TGTTTTTGTCTGCA_r1', 'TGTTTTTGTCTGCA_r2', 'TGTTTTTGTCTGCA_r3', 'TCAGGCGATGCGAA_r1', 'TCAGGCGATGCGAA_r2', 'TCAGGCGATGCGAA_r3', 'TATGATTAGTCGCG_r1', 'TATGATTAGTCGCG_r2', 'GTTTATTTCCGTAT_r1', 'GTTTATTTCCGTAT_r2', 'GTTTATTTCCGTAT_r3', 'ACTCTGCTCCAGAT_r2', 'ACTCTGCTCCAGAT_r3', 'TTCCCTATTTGCTA_r2', 'ACAGGTGCTCAAAT_r2', 'ACAGGTGCTCAAAT_r3', 'TGATATAAATCTTT_r2']\n"
     ]
    },
    {
     "name": "stderr",
     "output_type": "stream",
     "text": [
      "100%|██████████| 1/1 [00:00<00:00, 90.30it/s]\n",
      "Processing characters: 100%|██████████| 66/66 [00:00<00:00, 19426.25it/s]"
     ]
    },
    {
     "name": "stdout",
     "output_type": "stream",
     "text": [
      "Dropping the following intBCs due to lack of diversity with threshold 0.98: ['CGCCTCACCAAGCC_r1', 'CGGCTGATTATATT_r3', 'TTAATTGGTTCACT_r3']\n"
     ]
    },
    {
     "name": "stderr",
     "output_type": "stream",
     "text": [
      "\n",
      "100%|██████████| 1/1 [00:00<00:00, 92.55it/s]\n",
      "Processing characters: 100%|██████████| 26/26 [00:00<00:00, 22842.88it/s]"
     ]
    },
    {
     "name": "stdout",
     "output_type": "stream",
     "text": [
      "Dropping the following intBCs due to lack of diversity with threshold 0.98: ['CTCTTTGGTTCCTC_r1', 'CTCTTTGGTTCCTC_r2', 'CTGGACCGACAAAG_r1', 'CTGGACCGACAAAG_r2', 'CTGGACCGACAAAG_r3', 'AAGTTTTATGTTGC_r2', 'ACTTCGAACAACCC_r1', 'ACTTCGAACAACCC_r2', 'ACTTCGAACAACCC_r3', 'AGTGTATTATAGCT_r3', 'CCGAGATATAGGCT_r2', 'CCGAGATATAGGCT_r3', 'CGCAGATTATCAAT_r1', 'CGCAGATTATCAAT_r2', 'CGCAGATTATCAAT_r3', 'CGCCTCACCAAGCC_r1', 'CGCCTCACCAAGCC_r2', 'CGGACCTACTCTGC_r1', 'CGGACCTACTCTGC_r2', 'CGGACCTACTCTGC_r3', 'CGTGCCATATTTAG_r1', 'CGTGCCATATTTAG_r2', 'CGTGCCATATTTAG_r3', 'CTCCCGACTCATAC_r1', 'CTCCCGACTCATAC_r3', 'CTGGTCCAGTTTTC_r1', 'CTGGTCCAGTTTTC_r2', 'CTGGTCCAGTTTTC_r3', 'GCCACCGATTTCTA_r1', 'GCCACCGATTTCTA_r2', 'GCCACCGATTTCTA_r3', 'TAAATACTTACCTC_r1', 'TAAATACTTACCTC_r2', 'TAAATACTTACCTC_r3', 'TCGGGGCACTGCTC_r1', 'TCGGGGCACTGCTC_r2', 'TCGGGGCACTGCTC_r3', 'TGCGTATCCTTGGG_r2', 'TGCGTATCCTTGGG_r3', 'TTAATTGGTTCACT_r2', 'TTCCCGCAAGACAA_r1', 'TTCCCGCAAGACAA_r2', 'AGACAAGTGTGTTG_r1', 'AGACAAGTGTGTTG_r3', 'CATCTGTTCCCGGG_r1', 'CATCTGTTCCCGGG_r2']\n"
     ]
    },
    {
     "name": "stderr",
     "output_type": "stream",
     "text": [
      "\n",
      "100%|██████████| 1/1 [00:00<00:00, 102.61it/s]\n",
      "Processing characters: 100%|██████████| 67/67 [00:00<00:00, 61966.56it/s]\n"
     ]
    },
    {
     "name": "stdout",
     "output_type": "stream",
     "text": [
      "Dropping the following intBCs due to lack of diversity with threshold 0.98: ['CTCCCGACTCATAC_r3', 'CTGGACCGACAAAG_r1', 'CTCTTTGGTTCCTC_r2', 'TAAATACTTACCTC_r2', 'CGCCTCACCAAGCC_r1', 'CGCCTCACCAAGCC_r2', 'CTGGTCCAGTTTTC_r2', 'TTCCCGCAAGACAA_r2']\n"
     ]
    },
    {
     "name": "stderr",
     "output_type": "stream",
     "text": [
      "100%|██████████| 1/1 [00:00<00:00, 130.17it/s]\n",
      "Processing characters: 100%|██████████| 8/8 [00:00<00:00, 16001.16it/s]\n"
     ]
    },
    {
     "name": "stdout",
     "output_type": "stream",
     "text": [
      "Dropping the following intBCs due to lack of diversity with threshold 0.98: ['GTTTATTTCCGTAT_r2', 'GTTTATTTCCGTAT_r3', 'ACAGGTGCTCAAAT_r2', 'ACTCTGCTCCAGAT_r1', 'ACTCTGCTCCAGAT_r2', 'ACTCTGCTCCAGAT_r3', 'GCCTACTTAAGTCC_r1', 'GCCTACTTAAGTCC_r2', 'TGTGAAGGTCAATA_r1', 'TGTGAAGGTCAATA_r2', 'TGTGAAGGTCAATA_r3', 'TCAGGCGATGCGAA_r1', 'TCAGGCGATGCGAA_r2', 'TCAGGCGATGCGAA_r3', 'TGATATAAATCTTT_r1', 'TGATATAAATCTTT_r2', 'TGATATAAATCTTT_r3', 'TGTTTTTGTCTGCA_r1', 'TTCCCTATTTGCTA_r2']\n"
     ]
    },
    {
     "name": "stderr",
     "output_type": "stream",
     "text": [
      "100%|██████████| 1/1 [00:00<00:00, 114.63it/s]\n",
      "Processing characters: 100%|██████████| 2/2 [00:00<00:00, 3181.12it/s]"
     ]
    },
    {
     "name": "stdout",
     "output_type": "stream",
     "text": [
      "Dropping the following intBCs due to lack of diversity with threshold 0.98: ['TCAGGCGATGCGAA_r1', 'TCAGGCGATGCGAA_r2', 'TCAGGCGATGCGAA_r3', 'ACAGGTGCTCAAAT_r1', 'ACAGGTGCTCAAAT_r2', 'GCCTACTTAAGTCC_r1', 'GCCTACTTAAGTCC_r2', 'GCCTACTTAAGTCC_r3', 'GTTTATTTCCGTAT_r1', 'GTTTATTTCCGTAT_r2', 'GTTTATTTCCGTAT_r3', 'ACTCTGCTCCAGAT_r1', 'ACTCTGCTCCAGAT_r2', 'ACTCTGCTCCAGAT_r3', 'TGATATAAATCTTT_r1', 'TGATATAAATCTTT_r2', 'TGATATAAATCTTT_r3', 'TGTGAAGGTCAATA_r1', 'TGTGAAGGTCAATA_r2', 'TGTGAAGGTCAATA_r3', 'TGTTTTTGTCTGCA_r1', 'TGTTTTTGTCTGCA_r2', 'TGTTTTTGTCTGCA_r3', 'TTCCCTATTTGCTA_r1', 'TTCCCTATTTGCTA_r2']\n"
     ]
    },
    {
     "name": "stderr",
     "output_type": "stream",
     "text": [
      "\n",
      "100%|██████████| 1/1 [00:00<00:00, 94.80it/s]\n",
      "Processing characters: 100%|██████████| 2/2 [00:00<00:00, 1802.45it/s]"
     ]
    },
    {
     "name": "stdout",
     "output_type": "stream",
     "text": [
      "Dropping the following intBCs due to lack of diversity with threshold 0.98: ['ACAGGTGCTCAAAT_r1', 'ACAGGTGCTCAAAT_r2', 'ACTCTGCTCCAGAT_r1', 'ACTCTGCTCCAGAT_r2', 'ACTCTGCTCCAGAT_r3', 'GCCTACTTAAGTCC_r1', 'GCCTACTTAAGTCC_r2', 'GCCTACTTAAGTCC_r3', 'GTTTATTTCCGTAT_r1', 'GTTTATTTCCGTAT_r2', 'GTTTATTTCCGTAT_r3', 'TGTTTTTGTCTGCA_r1', 'TGTTTTTGTCTGCA_r2', 'TGTTTTTGTCTGCA_r3', 'TCAGGCGATGCGAA_r2', 'TCAGGCGATGCGAA_r3', 'TGTGAAGGTCAATA_r1', 'TGTGAAGGTCAATA_r2', 'TGTGAAGGTCAATA_r3', 'TGATATAAATCTTT_r1', 'TGATATAAATCTTT_r2', 'TGATATAAATCTTT_r3', 'TTCCCTATTTGCTA_r1', 'TTCCCTATTTGCTA_r2', 'TTCCCTATTTGCTA_r3']\n"
     ]
    },
    {
     "name": "stderr",
     "output_type": "stream",
     "text": [
      "\n",
      "100%|██████████| 1/1 [00:00<00:00, 40.87it/s]\n",
      "Processing characters: 100%|██████████| 5/5 [00:00<00:00, 471.58it/s]"
     ]
    },
    {
     "name": "stdout",
     "output_type": "stream",
     "text": [
      "Dropping the following intBCs due to lack of diversity with threshold 0.98: ['TATGATTAGTCGCG_r1', 'TATGATTAGTCGCG_r2', 'TATGATTAGTCGCG_r3', 'ACAGGTGCTCAAAT_r1', 'ACAGGTGCTCAAAT_r2', 'ACTCTGCTCCAGAT_r1', 'ACTCTGCTCCAGAT_r2', 'ACTCTGCTCCAGAT_r3', 'GCCTACTTAAGTCC_r1', 'GCCTACTTAAGTCC_r2', 'GCCTACTTAAGTCC_r3', 'GTTTATTTCCGTAT_r2', 'GTTTATTTCCGTAT_r3', 'TCAGGCGATGCGAA_r2', 'TCAGGCGATGCGAA_r3', 'TGTGAAGGTCAATA_r1', 'TGTGAAGGTCAATA_r2', 'TGTGAAGGTCAATA_r3', 'TGTTTTTGTCTGCA_r2', 'TGTTTTTGTCTGCA_r3', 'TTCCCTATTTGCTA_r1', 'TTCCCTATTTGCTA_r3']\n"
     ]
    },
    {
     "name": "stderr",
     "output_type": "stream",
     "text": [
      "\n",
      "100%|██████████| 1/1 [00:00<00:00, 12.96it/s]\n",
      "Processing characters: 100%|██████████| 8/8 [00:00<00:00, 98.73it/s]"
     ]
    },
    {
     "name": "stdout",
     "output_type": "stream",
     "text": [
      "Dropping the following intBCs due to lack of diversity with threshold 0.98: ['TTCCCTATTTGCTA_r2', 'TGTTTTTGTCTGCA_r1', 'TGTGAAGGTCAATA_r1', 'TGTGAAGGTCAATA_r2', 'TGTGAAGGTCAATA_r3', 'TCAGGCGATGCGAA_r1', 'TCAGGCGATGCGAA_r2', 'TCAGGCGATGCGAA_r3', 'TATGATTAGTCGCG_r1', 'TATGATTAGTCGCG_r2', 'TATGATTAGTCGCG_r3', 'GTTTATTTCCGTAT_r2', 'GTTTATTTCCGTAT_r3', 'GCCTACTTAAGTCC_r1', 'GCCTACTTAAGTCC_r2', 'ACTCTGCTCCAGAT_r1', 'ACTCTGCTCCAGAT_r2', 'ACTCTGCTCCAGAT_r3', 'ACAGGTGCTCAAAT_r2', 'TGATATAAATCTTT_r1', 'TGATATAAATCTTT_r2', 'TGATATAAATCTTT_r3']\n"
     ]
    },
    {
     "name": "stderr",
     "output_type": "stream",
     "text": [
      "\n",
      "100%|██████████| 1/1 [00:00<00:00, 96.38it/s]\n",
      "Processing characters: 100%|██████████| 23/23 [00:00<00:00, 2315.02it/s]"
     ]
    },
    {
     "name": "stdout",
     "output_type": "stream",
     "text": [
      "Dropping the following intBCs due to lack of diversity with threshold 0.98: ['ACTCTGCTCCAGAT_r2', 'ACTCTGCTCCAGAT_r3', 'TGATATAAATCTTT_r2', 'TTCCCTATTTGCTA_r2']\n"
     ]
    },
    {
     "name": "stderr",
     "output_type": "stream",
     "text": [
      "\n",
      "100%|██████████| 1/1 [00:00<00:00, 92.26it/s]\n",
      "Processing characters: 100%|██████████| 30/30 [00:00<00:00, 2133.31it/s]"
     ]
    },
    {
     "name": "stdout",
     "output_type": "stream",
     "text": [
      "Dropping the following intBCs due to lack of diversity with threshold 0.98: []\n"
     ]
    },
    {
     "name": "stderr",
     "output_type": "stream",
     "text": [
      "\n",
      "100%|██████████| 1/1 [00:00<00:00, 85.96it/s]\n",
      "Processing characters: 100%|██████████| 30/30 [00:00<00:00, 1632.36it/s]"
     ]
    },
    {
     "name": "stdout",
     "output_type": "stream",
     "text": [
      "Dropping the following intBCs due to lack of diversity with threshold 0.98: []\n"
     ]
    },
    {
     "name": "stderr",
     "output_type": "stream",
     "text": [
      "\n",
      "100%|██████████| 1/1 [00:00<00:00, 111.19it/s]\n",
      "Processing characters: 100%|██████████| 30/30 [00:00<00:00, 3274.24it/s]"
     ]
    },
    {
     "name": "stdout",
     "output_type": "stream",
     "text": [
      "Dropping the following intBCs due to lack of diversity with threshold 0.98: []\n"
     ]
    },
    {
     "name": "stderr",
     "output_type": "stream",
     "text": [
      "\n",
      "100%|██████████| 1/1 [00:00<00:00, 47.40it/s]\n",
      "Processing characters: 100%|██████████| 16/16 [00:00<00:00, 618.06it/s]"
     ]
    },
    {
     "name": "stdout",
     "output_type": "stream",
     "text": [
      "Dropping the following intBCs due to lack of diversity with threshold 0.98: ['GATAGCACAAAACG_r3', 'ACATCTGCGAGATT_r2', 'ACATCTGCGAGATT_r3', 'ACATTATTAGATAC_r2', 'ACGTGCAAGGACGC_r2', 'CTCTTTTCAGTTCA_r1', 'CTCTTTTCAGTTCA_r2', 'TATGCCGCCAGTTT_r1', 'TATGCCGCCAGTTT_r2', 'TATGCCGCCAGTTT_r3', 'TTACATGCTACCCC_r1', 'TTACATGCTACCCC_r2', 'TTACATGCTACCCC_r3', 'TTTTGTGTTTCATC_r2']\n"
     ]
    },
    {
     "name": "stderr",
     "output_type": "stream",
     "text": [
      "\n",
      "100%|██████████| 1/1 [00:00<00:00, 94.74it/s]\n",
      "Processing characters: 100%|██████████| 14/14 [00:00<00:00, 2776.11it/s]"
     ]
    },
    {
     "name": "stdout",
     "output_type": "stream",
     "text": [
      "Dropping the following intBCs due to lack of diversity with threshold 0.98: ['TATGCCGCCAGTTT_r2', 'ACATCTGCGAGATT_r1', 'ACATCTGCGAGATT_r2', 'ACATCTGCGAGATT_r3', 'CTCTTTTCAGTTCA_r2', 'CTCTTTTCAGTTCA_r3', 'GTGCAAGCCTTATC_r2', 'GTGCAAGCCTTATC_r3', 'ACATTATTAGATAC_r2', 'ACATTATTAGATAC_r3', 'TCTATACTGACGGA_r1', 'TCTATACTGACGGA_r2', 'TTACATGCTACCCC_r1', 'TTACATGCTACCCC_r2', 'TTTTGTGTTTCATC_r2', 'GATAGCACAAAACG_r3']\n"
     ]
    },
    {
     "name": "stderr",
     "output_type": "stream",
     "text": [
      "\n",
      "100%|██████████| 1/1 [00:00<00:00, 169.77it/s]\n",
      "Processing characters: 100%|██████████| 5/5 [00:00<00:00, 42196.22it/s]\n",
      "100%|██████████| 1/1 [00:00<00:00, 59.87it/s]\n"
     ]
    },
    {
     "name": "stdout",
     "output_type": "stream",
     "text": [
      "Dropping the following intBCs due to lack of diversity with threshold 0.98: ['ACTCAGATCAAGGA_r1', 'ACTCAGATCAAGGA_r2', 'ACTCAGATCAAGGA_r3', 'AGTGTTATTACCCT_r1', 'AGTGTTATTACCCT_r2', 'GTTCCACACTTTTC_r2', 'GTTCCACACTTTTC_r3', 'TGGGCCTCTCCTTG_r2', 'TTTTTTGTAGGCTT_r2', 'TTTTTTGTAGGCTT_r3']\n"
     ]
    },
    {
     "name": "stderr",
     "output_type": "stream",
     "text": [
      "Processing characters: 100%|██████████| 21/21 [00:00<00:00, 1479.72it/s]"
     ]
    },
    {
     "name": "stdout",
     "output_type": "stream",
     "text": [
      "Dropping the following intBCs due to lack of diversity with threshold 0.98: ['GAGGTACAGATATC_r2', 'ACGTATAGCATGTG_r1', 'ACGTATAGCATGTG_r2', 'ATCTTGGGTTCACG_r1', 'ATCTTGGGTTCACG_r2', 'ATCTTGGGTTCACG_r3', 'ATTCTCCTTTGTTC_r2', 'CCTCACATACCGAG_r1', 'CCTCACATACCGAG_r2', 'CGGAGTCCGCCCGT_r2', 'ACATCGATCTCCTG_r2', 'ACATCGATCTCCTG_r3', 'GTAAACAAACGGGA_r1', 'GTAAACAAACGGGA_r2', 'TCGTAATTTAGCGT_r1', 'TCGTAATTTAGCGT_r2', 'TCGTAATTTAGCGT_r3', 'TGATATTTTCTGAG_r1', 'TGATATTTTCTGAG_r2', 'TGATGTCATTAACC_r1', 'TGATGTCATTAACC_r2', 'TATACACTTTCAAA_r1', 'TATACACTTTCAAA_r2', 'TATACACTTTCAAA_r3']\n"
     ]
    },
    {
     "name": "stderr",
     "output_type": "stream",
     "text": [
      "\n",
      "100%|██████████| 1/1 [00:00<00:00, 119.16it/s]\n",
      "Processing characters: 100%|██████████| 24/24 [00:00<00:00, 3673.17it/s]"
     ]
    },
    {
     "name": "stdout",
     "output_type": "stream",
     "text": [
      "Dropping the following intBCs due to lack of diversity with threshold 0.98: []\n"
     ]
    },
    {
     "name": "stderr",
     "output_type": "stream",
     "text": [
      "\n",
      "100%|██████████| 1/1 [00:00<00:00, 131.40it/s]\n",
      "Processing characters: 100%|██████████| 18/18 [00:00<00:00, 8930.38it/s]\n"
     ]
    },
    {
     "name": "stdout",
     "output_type": "stream",
     "text": [
      "Dropping the following intBCs due to lack of diversity with threshold 0.98: []\n"
     ]
    },
    {
     "name": "stderr",
     "output_type": "stream",
     "text": [
      "100%|██████████| 1/1 [00:00<00:00, 116.84it/s]\n",
      "Processing characters: 100%|██████████| 19/19 [00:00<00:00, 3800.46it/s]"
     ]
    },
    {
     "name": "stdout",
     "output_type": "stream",
     "text": [
      "Dropping the following intBCs due to lack of diversity with threshold 0.98: ['ACATTATTAGATAC_r1', 'ACATTATTAGATAC_r2', 'ACATCTGCGAGATT_r3', 'ACGTGCAAGGACGC_r1', 'ACGTGCAAGGACGC_r2', 'ACGTGCAAGGACGC_r3', 'TTTTGTGTTTCATC_r2', 'TCTATACTGACGGA_r1']\n"
     ]
    },
    {
     "name": "stderr",
     "output_type": "stream",
     "text": [
      "\n",
      "100%|██████████| 1/1 [00:00<00:00, 118.19it/s]\n",
      "Processing characters: 100%|██████████| 6/6 [00:00<00:00, 5026.13it/s]"
     ]
    },
    {
     "name": "stdout",
     "output_type": "stream",
     "text": [
      "Dropping the following intBCs due to lack of diversity with threshold 0.98: ['GATAGCACAAAACG_r2', 'ACATCTGCGAGATT_r1', 'ACATCTGCGAGATT_r2', 'ACATTATTAGATAC_r1', 'ACATTATTAGATAC_r2', 'ACATTATTAGATAC_r3', 'CTCTTTTCAGTTCA_r2', 'CTCTTTTCAGTTCA_r3', 'TCTATACTGACGGA_r1', 'TCTATACTGACGGA_r2', 'TATGCCGCCAGTTT_r1', 'TATGCCGCCAGTTT_r2', 'TATGCCGCCAGTTT_r3', 'TTACATGCTACCCC_r2', 'TTACATGCTACCCC_r3', 'TTTTGTGTTTCATC_r1', 'TTTTGTGTTTCATC_r2', 'TTTTGTGTTTCATC_r3']\n"
     ]
    },
    {
     "name": "stderr",
     "output_type": "stream",
     "text": [
      "\n",
      "100%|██████████| 1/1 [00:00<00:00, 132.47it/s]\n",
      "Processing characters: 100%|██████████| 24/24 [00:00<00:00, 13502.79it/s]\n"
     ]
    },
    {
     "name": "stdout",
     "output_type": "stream",
     "text": [
      "Dropping the following intBCs due to lack of diversity with threshold 0.98: []\n"
     ]
    }
   ],
   "source": [
    "tumor_stats = {}\n",
    "tum_errors = []\n",
    "numerr = 0\n",
    "\n",
    "for tumor, tum_at in allele_table_final.groupby('Tumor'):\n",
    "        \n",
    "    clone = meta.loc[meta['Tumor'] == tumor, 'ES_clone'].iloc[0]\n",
    "\n",
    "    tumor_at = allele_table_final[allele_table_final['Tumor'] == tumor].copy()\n",
    "    tumor_at['lineageGrp'] = tumor_at['Tumor'].copy()\n",
    "    lg = lg_util.collectAlleles(tumor_at, thresh=0.2)[0]\n",
    "\n",
    "    # drop normal cells from lg\n",
    "    n_cs = len(lg['intBC'].unique())*3\n",
    "    filt = lg.apply(lambda x: not meta.loc[x.cellBC, 'is_normal'], axis=1)\n",
    "    lg = lg.loc[filt]\n",
    "    \n",
    "    try:\n",
    "        cm, priors, state2indel = util.alleletable_to_character_matrix(lg, write=False, allele_rep_thresh = 0.98)\n",
    "    except:\n",
    "        cm, priors, state2indel = util.alleletable_to_character_matrix(lg, write=False, allele_rep_thresh = 1.0)\n",
    "    \n",
    "    number_dropped_intbcs = (n_cs - cm.shape[1]) \n",
    "    pu = cm.apply(lambda x: percent_uncut(x.values), axis=1)\n",
    "\n",
    "    cmf = cm[pu < 0.8]\n",
    "\n",
    "    puniq = cmf.drop_duplicates().shape[0] / cmf.shape[0]\n",
    "    tumor_stats[tumor] = (puniq, compute_perc_indels(cmf), number_dropped_intbcs, 1.0 - (number_dropped_intbcs / n_cs), cmf.shape[0])"
   ]
  },
  {
   "cell_type": "code",
   "execution_count": 22,
   "metadata": {},
   "outputs": [],
   "source": [
    "tumor_clone_statistics = pd.DataFrame.from_dict(tumor_stats, orient='index',\n",
    "                                                columns = ['PercentUnique', 'CutRate', 'NumSaturatedTargets', 'PercentUnsaturatedTargets', 'NumCells'])"
   ]
  },
  {
   "cell_type": "code",
   "execution_count": 24,
   "metadata": {},
   "outputs": [
    {
     "data": {
      "text/plain": [
       "Text(0, 0.5, 'Percent Unique')"
      ]
     },
     "execution_count": 24,
     "metadata": {},
     "output_type": "execute_result"
    },
    {
     "data": {
      "image/png": "[encoded data removed]",
      "text/plain": [
       "<Figure size 432x432 with 1 Axes>"
      ]
     },
     "metadata": {
      "needs_background": "light"
     },
     "output_type": "display_data"
    }
   ],
   "source": [
    "NUM_CELLS_THRESH = 100\n",
    "PERCENT_UNIQUE_THRESH = 0.05\n",
    "PERCENT_UNSATURATED_TARGETS_THRESH = 0.2\n",
    "\n",
    "NT_primary_tumors = tumor_clone_statistics[tumor_clone_statistics.apply(lambda x: 'NT' in x.name and x.name.split(\"_\")[2].startswith(\"T\"), axis=1)].index\n",
    "\n",
    "NT_clone_statistics = tumor_clone_statistics.loc[NT_primary_tumors]\n",
    "\n",
    "low_qc = NT_clone_statistics[(NT_clone_statistics['PercentUnique'] <=PERCENT_UNIQUE_THRESH) |\n",
    "                                 (NT_clone_statistics['PercentUnsaturatedTargets'] <= PERCENT_UNSATURATED_TARGETS_THRESH)].index\n",
    "small = NT_clone_statistics[(NT_clone_statistics['NumCells'] < NUM_CELLS_THRESH)].index\n",
    "\n",
    "unfiltered = np.setdiff1d(NT_primary_tumors, np.union1d(low_qc, small))\n",
    "\n",
    "h = plt.figure(figsize=(6,6))\n",
    "plt.scatter(NT_clone_statistics.loc[unfiltered, 'PercentUnsaturatedTargets'], NT_clone_statistics.loc[unfiltered, 'PercentUnique'], color='black')\n",
    "plt.scatter(NT_clone_statistics.loc[low_qc, 'PercentUnsaturatedTargets'], NT_clone_statistics.loc[low_qc, 'PercentUnique'], color='red')\n",
    "plt.scatter(NT_clone_statistics.loc[small, 'PercentUnsaturatedTargets'], NT_clone_statistics.loc[small, 'PercentUnique'], color='orange')\n",
    "\n",
    "\n",
    "plt.axhline(y = PERCENT_UNIQUE_THRESH, color='red', alpha=0.5)\n",
    "plt.axvline(x = PERCENT_UNSATURATED_TARGETS_THRESH, color='red', alpha=0.5)\n",
    "plt.xlabel(\"Percent Unsaturated\")\n",
    "plt.ylabel(\"Percent Unique\")"
   ]
  }
 ],
 "metadata": {
  "kernelspec": {
   "display_name": "Python 3.7.3 64-bit ('base': conda)",
   "language": "python",
   "name": "python37364bitbasecondac07a409ab2224f69a5e7be95f01a9be4"
  },
  "language_info": {
   "codemirror_mode": {
    "name": "ipython",
    "version": 3
   },
   "file_extension": ".py",
   "mimetype": "text/x-python",
   "name": "python",
   "nbconvert_exporter": "python",
   "pygments_lexer": "ipython3",
   "version": "3.7.3"
  }
 },
 "nbformat": 4,
 "nbformat_minor": 4
}

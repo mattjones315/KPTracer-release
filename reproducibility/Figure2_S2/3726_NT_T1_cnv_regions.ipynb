{
 "cells": [
  {
   "cell_type": "code",
   "execution_count": 1,
   "metadata": {},
   "outputs": [],
   "source": [
    "import glob\n",
    "import os\n",
    "import tempfile\n",
    "import sys\n",
    "\n",
    "import anndata\n",
    "import numpy as np\n",
    "import matplotlib as mpl\n",
    "import matplotlib.pyplot as plt\n",
    "import pandas as pd\n",
    "from ete3 import Tree\n",
    "\n",
    "sys.path.insert(0, '/lab/solexa_weissman/kmin/git/KPTracer-release/cassiopeia-kp')\n",
    "sys.path.append('/lab/solexa_weissman/kmin/kp_infercnv/NT')\n",
    "from utilities import plot_tree_itol\n",
    "from utilities import clonal_expansions"
   ]
  },
  {
   "cell_type": "code",
   "execution_count": 2,
   "metadata": {},
   "outputs": [],
   "source": [
    "apiKey = ''\n",
    "projectName = 'KP_Trees_Joseph' ## Specify the project name\n",
    "plot_dir = 'plots'"
   ]
  },
  {
   "cell_type": "code",
   "execution_count": 3,
   "metadata": {},
   "outputs": [],
   "source": [
    "tumor = '3513_NT_T3'"
   ]
  },
  {
   "cell_type": "code",
   "execution_count": 4,
   "metadata": {},
   "outputs": [],
   "source": [
    "adata = anndata.read('/lab/solexa_weissman/mgjones/projects/kptc/RNA/NT/adata_processed.filtered.subcluster.nt.h5ad')\n",
    "df_metadata = pd.read_csv('/lab/solexa_weissman/mgjones/projects/kptc/L6-37_ALL_META_052720.txt', sep='\\t', index_col=0).dropna(subset=['Tumor', 'MetFamily'])"
   ]
  },
  {
   "cell_type": "code",
   "execution_count": 5,
   "metadata": {},
   "outputs": [],
   "source": [
    "# Read chromosome sizes = 0 to end of last gene\n",
    "df_genes = pd.read_csv('../mm10_gene_ordering_reordered.tsv', names=['gene', 'chr', 'start', 'end'], sep='\\t', index_col=0)\n",
    "chromosome_sizes = dict(df_genes.groupby('chr')['end'].max())\n",
    "# Matplotlib can't plot very large images correctly, so we have to bin\n",
    "# https://github.com/matplotlib/matplotlib/issues/19276\n",
    "bin_size = 100\n",
    "chromosome_order = [\n",
    "    '1', '2', '3', '4', '5', '6', '7', '8', '9', '10', '11', '12', '13', '14', '15',\n",
    "    '16', '17', '18', '19', 'X', 'Y'\n",
    "]\n",
    "gene_positions = {chrom: {gene: ((row['start']-1) // bin_size, row['end'] // bin_size) for gene, row in df_chrom.iterrows()} for chrom, df_chrom in df_genes.groupby('chr')}"
   ]
  },
  {
   "cell_type": "code",
   "execution_count": 6,
   "metadata": {},
   "outputs": [
    {
     "name": "stdout",
     "output_type": "stream",
     "text": [
      "3513_NT_T3\n"
     ]
    }
   ],
   "source": [
    "# Load Cassiopeia tree\n",
    "df_model = pd.read_csv('/lab/solexa_weissman/mgjones/projects/kptc/trees/tumor_model.txt', sep='\\t', index_col=0)\n",
    "tree_cass = Tree(f'/lab/solexa_weissman/mgjones/projects/kptc/trees/{tumor}/{df_model.loc[tumor][\"Newick\"]}', format=1)\n",
    "leaves = tree_cass.get_leaf_names()\n",
    "\n",
    "genes = {}\n",
    "chromosomes = {}\n",
    "# for tumor in tumors:\n",
    "print(tumor)\n",
    "out_dir = f'{tumor}_grouped_0.2'\n",
    "\n",
    "# Load CNVs\n",
    "df_regions = pd.read_csv(f'{out_dir}/HMM_CNV_predictions.HMMi6.rand_trees.hmm_mode-subclusters.Pnorm_0.2.pred_cnv_regions.dat', sep='\\t')\n",
    "df_cells = pd.read_csv(f'{out_dir}/17_HMM_predHMMi6.rand_trees.hmm_mode-subclusters.cell_groupings', sep='\\t')\n",
    "df_merged = pd.merge(df_regions, df_cells[~df_cells['cell_group_name'].str.contains('Normal')], on='cell_group_name')\n",
    "\n",
    "# Cells in tree that have CNVs\n",
    "cells = set(df_merged['cell']).intersection(leaves)\n",
    "\n",
    "tumor_chromosomes = {}\n",
    "for cell, chrom, start, end, state in df_merged[df_merged['cell'].isin(cells)][['cell', 'chr', 'start', 'end', 'state']].values:\n",
    "    start = (start-1) // bin_size\n",
    "    end = end // bin_size\n",
    "    chrom = str(chrom)\n",
    "\n",
    "    tumor_chromosomes.setdefault(chrom, {}).setdefault(state, np.zeros((chromosome_sizes[chrom] - 1) // bin_size, dtype=np.uint16))\n",
    "    tumor_chromosomes[chrom][state][start:end] += 1\n",
    "\n",
    "    interval_genes = []\n",
    "    for gene, (gene_start, gene_end) in gene_positions[chrom].items():\n",
    "        if start <= gene_start and end >= gene_end:\n",
    "            interval_genes.append(gene)\n",
    "    genes.setdefault(tumor, {}).setdefault(cell, {}).update({gene: state for gene in interval_genes})\n",
    "chromosomes[tumor] = tumor_chromosomes\n",
    "\n",
    "dfs_counts = {}\n",
    "for tumor, tumor_genes in genes.items():\n",
    "    dfs_counts[tumor] = pd.DataFrame.from_dict(tumor_genes, orient='index').fillna(3).astype(int)"
   ]
  },
  {
   "cell_type": "code",
   "execution_count": 7,
   "metadata": {},
   "outputs": [],
   "source": [
    "def values_to_intervals(values):\n",
    "    intervals = {}\n",
    "    if len(values) == 0:\n",
    "        return intervals\n",
    "    \n",
    "    start = 0\n",
    "    prev_value = values[0]\n",
    "    for i, value in enumerate(values):\n",
    "        if value != prev_value:\n",
    "            intervals[(start, i)] = prev_value\n",
    "            start = i\n",
    "            prev_value = value\n",
    "    intervals[(start, len(values))] = prev_value\n",
    "    return intervals\n",
    "\n",
    "def collapse_intervals(intervals, wiggle=0.1):\n",
    "    if not intervals:\n",
    "        return intervals\n",
    "    \n",
    "    updated = True\n",
    "    while updated:\n",
    "        updated = False\n",
    "        new_intervals = {}\n",
    "        max_value = max(intervals.values())\n",
    "        block_start = None\n",
    "        block_end = None\n",
    "        block_values = None\n",
    "        for (start, end) in sorted(intervals.keys()):\n",
    "            value = intervals[(start, end)]\n",
    "            if block_start is None:\n",
    "                block_start = start\n",
    "                block_end = end\n",
    "                block_values = [value]\n",
    "                continue\n",
    "            \n",
    "            if block_end == start and abs(np.mean(block_values) - value) <= max_value * wiggle:\n",
    "                block_end = end\n",
    "                block_values.append(value)\n",
    "                updated = True\n",
    "            else:\n",
    "                new_intervals[(block_start, block_end)] = np.mean(block_values)\n",
    "                block_start = start\n",
    "                block_end = end\n",
    "                block_values = [value]\n",
    "        new_intervals[(block_start, block_end)] = np.mean(block_values)\n",
    "        intervals = new_intervals\n",
    "    return new_intervals\n",
    "\n",
    "# Collect all CNV counts\n",
    "# This contains number of cells that have a CNV in each chromosome region\n",
    "all_gains = {}\n",
    "all_losses = {}\n",
    "for tumor, tumor_chromosomes in chromosomes.items():\n",
    "    for chrom, states in tumor_chromosomes.items():\n",
    "        all_gains[chrom] = all_gains.get(\n",
    "            chrom, np.zeros((chromosome_sizes[chrom] - 1) // bin_size, dtype=np.int32)\n",
    "        ) + states.get(4, 0) + states.get(5, 0) + states.get(6, 0)\n",
    "        all_losses[chrom] = all_losses.get(\n",
    "            chrom, np.zeros((chromosome_sizes[chrom] - 1) // bin_size, dtype=np.int32)\n",
    "        ) + states.get(1, 0) + states.get(2, 0)\n",
    "        \n",
    "# Select regions of interest from `all_gains` and `all_losses`\n",
    "# A region is defined as interesting if at least 1% of cells have a CNV in that region\n",
    "gain_regions = {}\n",
    "loss_regions = {}\n",
    "for chrom, gains in all_gains.items():\n",
    "    for interval, count in collapse_intervals(values_to_intervals(gains)).items():\n",
    "        if count > 0.1 * len(leaves):\n",
    "            gain_regions.setdefault(chrom, {})[(interval)] = count\n",
    "for chrom, losses in all_losses.items():\n",
    "    for interval, count in collapse_intervals(values_to_intervals(losses)).items():\n",
    "        if count > 0.1 * len(leaves):\n",
    "            loss_regions.setdefault(chrom, {})[(interval)] = count"
   ]
  },
  {
   "cell_type": "code",
   "execution_count": 8,
   "metadata": {},
   "outputs": [
    {
     "name": "stdout",
     "output_type": "stream",
     "text": [
      "iTOL output: SUCCESS: 1841168134311639431548\n",
      "\n",
      "Tree Web Page URL: http://itol.embl.de/external.cgi?tree=1841168134311639431548&restore_saved=1\n",
      "Warnings: []\n"
     ]
    }
   ],
   "source": [
    "def state_color(state):\n",
    "    cm = mpl.cm.seismic\n",
    "    # Clip to [2, 4]\n",
    "    state = min(max(state, 2), 4)\n",
    "    return mpl.colors.to_hex(cm((state - 2) / 2))\n",
    "\n",
    "\n",
    "temp_dir = tempfile.mkdtemp()\n",
    "colorstrip_i = 0\n",
    "colorstrips = {}\n",
    "files = []    \n",
    "\n",
    "# Expansions\n",
    "path = os.path.join(temp_dir, 'expansions.txt')\n",
    "header = f'DATASET_STYLE\\nSEPARATOR TAB\\nDATASET_LABEL\\texpansions\\nCOLOR\\t#000000\\nDATA\\n\\n'\n",
    "expansion_exists = False\n",
    "with open(path, 'w') as f:\n",
    "    f.write(header)\n",
    "    for _path in glob.glob(f'/lab/solexa_weissman/mgjones/projects/kptc/trees/{tumor}/clonal_expansions.{tumor}.expansion*.txt'):\n",
    "        expansion_exists = True\n",
    "        expanding_cells = list(pd.read_csv(_path, index_col=0, sep='\\t')['0'])\n",
    "        ancestor = tree_cass.get_common_ancestor(*expanding_cells)\n",
    "        f.write(f'{ancestor.name}\\tbranch\\tclade\\t#FF0000\\t1\\tnormal\\n')\n",
    "if expansion_exists:\n",
    "    files.append(path)\n",
    "\n",
    "# leiden coloring\n",
    "path = os.path.join(temp_dir, '000_leiden.txt')\n",
    "header = f'DATASET_COLORSTRIP\\nSEPARATOR TAB\\nCOLOR\\t#000000\\nDATASET_LABEL\\tleiden\\nSTRIP_WIDTH\\t100\\nMARGIN\\t20\\nSHOW_INTERNAL\\t0\\nDATA\\n\\n'\n",
    "with open(path, 'w') as f:\n",
    "    f.write(header)\n",
    "    for cell in leaves:\n",
    "        if cell in adata.obs.index:\n",
    "            f.write(f'{cell}\\t{adata.uns[\"leiden_sub_colors\"][int(adata.obs.loc[cell][\"leiden_sub\"])]}\\n')\n",
    "        else:\n",
    "            f.write(f'{cell}\\t#FFFFFF\\n')\n",
    "files.append(path)\n",
    "\n",
    "# CNVs\n",
    "for chrom in chromosome_order:\n",
    "    intervals = sorted(list(gain_regions.get(chrom, {})) + list(loss_regions.get(chrom, {})))\n",
    "    \n",
    "    for interval_start, interval_end in intervals:\n",
    "        written = 0\n",
    "        # Select genes within this interval\n",
    "        interval_genes = []\n",
    "        for gene, (gene_start, gene_end) in gene_positions[chrom].items():\n",
    "            if interval_start <= gene_start and interval_end >= gene_end:\n",
    "                interval_genes.append(gene)\n",
    "                \n",
    "        if not interval_genes:\n",
    "            continue\n",
    "        \n",
    "        name = f'{str(colorstrip_i).zfill(2)}_{chrom}_{interval_start}_{interval_end}'\n",
    "        path = os.path.join(temp_dir, f'{name}.txt')\n",
    "        header = f'DATASET_COLORSTRIP\\nSEPARATOR TAB\\nCOLOR\\t#000000\\nDATASET_LABEL\\t{name}\\nSTRIP_WIDTH\\t80\\nMARGIN\\t20\\nSHOW_INTERNAL\\t0\\nDATA\\n\\n'\n",
    "        with open(path, 'w') as f:\n",
    "            f.write(header)\n",
    "\n",
    "            df_counts = dfs_counts[tumor]\n",
    "            df_counts = df_counts[df_counts.index.isin(leaves)]\n",
    "            for cell, state in dict(df_counts[df_counts.columns[df_counts.columns.isin(interval_genes)]].mean(axis=1).dropna()).items():\n",
    "                f.write(f'{cell}\\t{state_color(state)}\\n')\n",
    "                written += 1\n",
    "        if written > 0:\n",
    "            files.append(path)\n",
    "            colorstrips[colorstrip_i] = (chrom, interval_start, interval_end, interval_genes)\n",
    "            colorstrip_i += 1\n",
    "plot_tree_itol.upload_to_itol(\n",
    "    tree_cass,\n",
    "    apiKey,\n",
    "    projectName,\n",
    "    tumor,\n",
    "    files=files,\n",
    "    outfp=f'{plot_dir}/{tumor}_cnv_regions.pdf',\n",
    "    rect=True,\n",
    "    vertical_shift_factor=0.05,\n",
    "    line_width=7,\n",
    ")"
   ]
  },
  {
   "cell_type": "code",
   "execution_count": 19,
   "metadata": {},
   "outputs": [
    {
     "name": "stdout",
     "output_type": "stream",
     "text": [
      "Chr6 70765700-71271600\n",
      "Chr6 71271600-149101600\n",
      "Chr12 3247400-75630500\n",
      "Chr12 75630500-105040900\n",
      "Chr12 105040900-105784600\n",
      "Chr12 105784600-113153800\n",
      "Chr15 3268500-101274700\n",
      "Chr15 101284300-103244900\n",
      "Chr17 6079700-34603600\n",
      "Chr17 34603600-57065900\n",
      "ChrX 7667900-134588000\n"
     ]
    }
   ],
   "source": [
    "for strip in colorstrips.values():\n",
    "    print(f'Chr{strip[0]} {strip[1] * 100}-{strip[2] * 100}')"
   ]
  },
  {
   "cell_type": "code",
   "execution_count": 16,
   "metadata": {},
   "outputs": [
    {
     "data": {
      "text/html": [
       "\n",
       "        <iframe\n",
       "            width=\"500\"\n",
       "            height=\"600\"\n",
       "            src=\"plots/3513_NT_T3_cnv_regions.pdf\"\n",
       "            frameborder=\"0\"\n",
       "            allowfullscreen\n",
       "            \n",
       "        ></iframe>\n",
       "        "
      ],
      "text/plain": [
       "<IPython.lib.display.IFrame at 0x7fda80c708e0>"
      ]
     },
     "execution_count": 16,
     "metadata": {},
     "output_type": "execute_result"
    }
   ],
   "source": [
    "from IPython.display import IFrame\n",
    "IFrame(f'{plot_dir}/{tumor}_cnv_regions.pdf', width=500, height=600)"
   ]
  },
  {
   "cell_type": "code",
   "execution_count": null,
   "metadata": {},
   "outputs": [],
   "source": []
  }
 ],
 "metadata": {
  "kernelspec": {
   "display_name": "Python 3 (ipykernel)",
   "language": "python",
   "name": "python3"
  },
  "language_info": {
   "codemirror_mode": {
    "name": "ipython",
    "version": 3
   },
   "file_extension": ".py",
   "mimetype": "text/x-python",
   "name": "python",
   "nbconvert_exporter": "python",
   "pygments_lexer": "ipython3",
   "version": "3.8.5"
  }
 },
 "nbformat": 4,
 "nbformat_minor": 4
}

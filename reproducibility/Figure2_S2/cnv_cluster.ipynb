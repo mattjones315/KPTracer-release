{
 "cells": [
  {
   "cell_type": "code",
   "execution_count": 1,
   "metadata": {},
   "outputs": [],
   "source": [
    "import os\n",
    "import sys\n",
    "import tempfile\n",
    "import shutil\n",
    "from ast import literal_eval\n",
    "from tqdm import tqdm\n",
    "\n",
    "import anndata\n",
    "from ete3 import Tree\n",
    "import numpy as np\n",
    "import pandas as pd\n",
    "import scanpy as sc\n",
    "import matplotlib as mpl\n",
    "import matplotlib.pyplot as plt\n",
    "from scipy.cluster import hierarchy\n",
    "\n",
    "sys.path.insert(0, '/lab/solexa_weissman/kmin/git/KPTracer-release/cassiopeia-kp')\n",
    "sys.path.append('/lab/solexa_weissman/kmin/kp_infercnv/NT')\n",
    "from utilities import plot_tree_itol\n",
    "from utilities import clonal_expansions"
   ]
  },
  {
   "cell_type": "code",
   "execution_count": 2,
   "metadata": {},
   "outputs": [],
   "source": [
    "apiKey = ''\n",
    "projectName = 'KP_Trees_Joseph' ## Specify the project name\n",
    "plot_dir = 'plots'"
   ]
  },
  {
   "cell_type": "code",
   "execution_count": 3,
   "metadata": {},
   "outputs": [],
   "source": [
    "target = '3730_NT_T2'"
   ]
  },
  {
   "cell_type": "code",
   "execution_count": 4,
   "metadata": {},
   "outputs": [],
   "source": [
    "# Read chromosome sizes = 0 to end of last gene\n",
    "df_genes = pd.read_csv('../mm10_gene_ordering_reordered.tsv', names=['gene', 'chr', 'start', 'end'], sep='\\t', index_col=0)\n",
    "chromosome_sizes = dict(df_genes.groupby('chr')['end'].max())\n",
    "# Matplotlib can't plot very large images correctly, so we have to bin\n",
    "# https://github.com/matplotlib/matplotlib/issues/19276\n",
    "gene_positions = {chrom: {gene: (row['start']-1, row['end']) for gene, row in df_chrom.iterrows()} for chrom, df_chrom in df_genes.groupby('chr')}"
   ]
  },
  {
   "cell_type": "code",
   "execution_count": 5,
   "metadata": {},
   "outputs": [],
   "source": [
    "adata = anndata.read('/lab/solexa_weissman/mgjones/projects/kptc/RNA/NT/adata_processed.filtered.subcluster.nt.h5ad')"
   ]
  },
  {
   "cell_type": "code",
   "execution_count": 7,
   "metadata": {},
   "outputs": [
    {
     "name": "stdout",
     "output_type": "stream",
     "text": [
      "iTOL output: SUCCESS: 1841168150151639432358\n",
      "\n",
      "Tree Web Page URL: http://itol.embl.de/external.cgi?tree=1841168150151639432358&restore_saved=1\n",
      "Warnings: []\n"
     ]
    }
   ],
   "source": [
    "temp_dir = tempfile.mkdtemp()\n",
    "threshold = '0.2'\n",
    "out_dir = f'{target}_grouped{\"_0.2\" if threshold == \"0.2\" else \"\"}'\n",
    "\n",
    "# Load CNV genes and regions\n",
    "df_counts = pd.read_csv(f'{out_dir}/infercnv.18_HMM_pred.Bayes_Net.Pnorm_{threshold}.observations.txt', sep=' ').T\n",
    "\n",
    "# Load Cassiopeia tree\n",
    "df_model = pd.read_csv('/lab/solexa_weissman/mgjones/projects/kptc/trees/tumor_model.txt', sep='\\t', index_col=0)\n",
    "tree_cass = Tree(f'/lab/solexa_weissman/mgjones/projects/kptc/trees/{target}/{df_model.loc[target][\"Newick\"]}', format=1)\n",
    "\n",
    "# Cells present in both trees\n",
    "cells = set(df_counts.index).intersection(\n",
    "    leaf.name for leaf in tree_cass.iter_leaves()\n",
    ")\n",
    "\n",
    "# Subset CNV counts to only cells in the tree\n",
    "df_counts = df_counts[df_counts.index.isin(cells)]\n",
    "\n",
    "# Calculate linkage for hierarchical clustering\n",
    "linkage = hierarchy.linkage(df_counts.values, method='ward', metric='euclidean')\n",
    "\n",
    "# Leiden\n",
    "files = []\n",
    "color_map = {str(i): adata.uns['leiden_sub_colors'][i] for i in range(len(adata.obs['leiden_sub'].unique()))}\n",
    "path = os.path.join(temp_dir, 'leiden.txt')\n",
    "header = f'DATASET_COLORSTRIP\\nSEPARATOR TAB\\nCOLOR\\t#000000\\nDATASET_LABEL\\tleiden\\nSTRIP_WIDTH\\t80\\nMARGIN\\t20\\nSHOW_INTERNAL\\t0\\nDATA\\n\\n'\n",
    "with open(path, 'w') as f:\n",
    "    f.write(header)\n",
    "    for cell in tree_cass.get_leaf_names():\n",
    "        if cell in adata.obs.index:\n",
    "            f.write(f'{cell}\\t{color_map[adata.obs.loc[cell][\"leiden\"]]}\\n')\n",
    "        else:\n",
    "            f.write(f'{cell}\\t#FFFFFF\\n')\n",
    "#     files.append(path)\n",
    "\n",
    "cmap = mpl.cm.tab10\n",
    "color_map = {i+1: f'rgb({\",\".join(str(int(c * 255)) for c in cmap(i / 6)[:-1])})' for i in range(cmap.N)}\n",
    "\n",
    "# Generate clustering at each branching point\n",
    "for t in sorted(np.unique(linkage[:,2])):\n",
    "    labels = hierarchy.fcluster(linkage, criterion='distance', t=t)\n",
    "    df_counts['labels'] = labels\n",
    "\n",
    "    # Skip if there is only one label\n",
    "    n_clusters = len(np.unique(labels))\n",
    "    if n_clusters < 2:\n",
    "        continue\n",
    "\n",
    "    name = f'cluster_{n_clusters}'\n",
    "    header = f'DATASET_COLORSTRIP\\nSEPARATOR TAB\\nCOLOR\\t#000000\\nDATASET_LABEL\\t{name}\\nSTRIP_WIDTH\\t50\\nMARGIN\\t20\\nSHOW_INTERNAL\\t0\\nDATA\\n\\n'\n",
    "    path = os.path.join(temp_dir, f'{name}.txt')\n",
    "    with open(path, 'w') as f:\n",
    "        f.write(header)\n",
    "        f.write(df_counts['labels'].map(color_map).to_csv(sep='\\t', header=None))\n",
    "    files.append(path)\n",
    "\n",
    "plot_tree_itol.upload_to_itol(\n",
    "    tree_cass,\n",
    "    apiKey,\n",
    "    projectName,\n",
    "    target,\n",
    "    files=files,\n",
    "    outfp=os.path.join(plot_dir, f'{target}_colorstrip.pdf'),\n",
    "    rect=False,\n",
    "    line_width=8,\n",
    ")\n",
    "\n",
    "shutil.rmtree(temp_dir, ignore_errors=True)"
   ]
  },
  {
   "cell_type": "code",
   "execution_count": 8,
   "metadata": {},
   "outputs": [
    {
     "data": {
      "text/html": [
       "\n",
       "        <iframe\n",
       "            width=\"500\"\n",
       "            height=\"500\"\n",
       "            src=\"plots/3730_NT_T2_colorstrip.pdf\"\n",
       "            frameborder=\"0\"\n",
       "            allowfullscreen\n",
       "            \n",
       "        ></iframe>\n",
       "        "
      ],
      "text/plain": [
       "<IPython.lib.display.IFrame at 0x7fb0a5c697f0>"
      ]
     },
     "execution_count": 8,
     "metadata": {},
     "output_type": "execute_result"
    }
   ],
   "source": [
    "from IPython.display import IFrame\n",
    "IFrame(os.path.join(plot_dir, f'{target}_colorstrip.pdf'), width=500, height=500)"
   ]
  },
  {
   "cell_type": "code",
   "execution_count": 10,
   "metadata": {},
   "outputs": [
    {
     "name": "stdout",
     "output_type": "stream",
     "text": [
      "3724_NT_T1\n",
      "iTOL output: SUCCESS: 1841168281141611852113\n",
      "\n",
      "Tree Web Page URL: http://itol.embl.de/external.cgi?tree=1841168281141611852113&restore_saved=1\n",
      "Warnings: []\n",
      "iTOL output: SUCCESS: 1841168283631611852175\n",
      "\n",
      "Tree Web Page URL: http://itol.embl.de/external.cgi?tree=1841168283631611852175&restore_saved=1\n",
      "Warnings: []\n",
      "iTOL output: SUCCESS: 1841168287261611852237\n",
      "\n",
      "Tree Web Page URL: http://itol.embl.de/external.cgi?tree=1841168287261611852237&restore_saved=1\n",
      "Warnings: []\n",
      "iTOL output: SUCCESS: 1841168290191611852303\n",
      "\n",
      "Tree Web Page URL: http://itol.embl.de/external.cgi?tree=1841168290191611852303&restore_saved=1\n",
      "Warnings: []\n",
      "iTOL output: SUCCESS: 1841168292261611852365\n",
      "\n",
      "Tree Web Page URL: http://itol.embl.de/external.cgi?tree=1841168292261611852365&restore_saved=1\n",
      "Warnings: []\n",
      "iTOL output: SUCCESS: 1841168295331611852428\n",
      "\n",
      "Tree Web Page URL: http://itol.embl.de/external.cgi?tree=1841168295331611852428&restore_saved=1\n",
      "Warnings: []\n",
      "iTOL output: SUCCESS: 1841168297331611852490\n",
      "\n",
      "Tree Web Page URL: http://itol.embl.de/external.cgi?tree=1841168297331611852490&restore_saved=1\n",
      "Warnings: []\n"
     ]
    }
   ],
   "source": [
    "# Per partition\n",
    "df_model = pd.read_csv('/lab/solexa_weissman/mattjones/projects/kptc/trees/tumor_model.txt', sep='\\t', index_col=0)\n",
    "print(target)\n",
    "temp_dir = tempfile.mkdtemp()\n",
    "threshold = '0.2'\n",
    "out_dir = f'{target}_grouped{\"_0.2\" if threshold == \"0.2\" else \"\"}'\n",
    "\n",
    "# Load Cassiopeia tree\n",
    "tree_cass = Tree(f'/lab/solexa_weissman/mattjones/projects/kptc/trees/{target}/{df_model.loc[target][\"Newick\"]}', format=1)\n",
    "leaves = tree_cass.get_leaf_names()\n",
    "\n",
    "# Load CNV genes and regions\n",
    "df_regions = pd.read_csv(f'{out_dir}/HMM_CNV_predictions.HMMi6.rand_trees.hmm_mode-subclusters.Pnorm_0.2.pred_cnv_regions.dat', sep='\\t')\n",
    "df_cells = pd.read_csv(f'{out_dir}/17_HMM_predHMMi6.rand_trees.hmm_mode-subclusters.cell_groupings', sep='\\t')\n",
    "df_merged = pd.merge(df_regions, df_cells[~df_cells['cell_group_name'].str.contains('Normal')], on='cell_group_name')\n",
    "\n",
    "gene_states = {}\n",
    "for cell, chrom, start, end, state in df_merged[['cell', 'chr', 'start', 'end', 'state']].values:\n",
    "    interval_genes = []\n",
    "    for gene, (gene_start, gene_end) in gene_positions[chrom].items():\n",
    "        if start - 1 <= gene_start and end >= gene_end:\n",
    "            gene_states.setdefault(cell, {})[gene] = state\n",
    "for cell in leaves:\n",
    "    if cell not in gene_states:\n",
    "        gene_states[cell] = {'placeholder': 3}\n",
    "df_counts = pd.DataFrame.from_dict(gene_states, orient='index').fillna(3).astype(int)\n",
    "if 'placeholder' in df_counts.columns:\n",
    "    df_counts.drop(columns='placeholder', inplace=True)\n",
    "\n",
    "# Subset CNV counts to only cells in the tree\n",
    "df_counts = df_counts[df_counts.index.isin(leaves)]\n",
    "\n",
    "# Calculate linkage for hierarchical clustering\n",
    "linkage = hierarchy.linkage(df_counts.values, method='ward', metric='euclidean')\n",
    "\n",
    "# Generate clustering at each branching point\n",
    "for t in sorted(np.unique(linkage[:,2])):\n",
    "    labels = hierarchy.fcluster(linkage, criterion='distance', t=t)\n",
    "    df_counts['labels'] = labels\n",
    "\n",
    "    # Skip if there is only one label\n",
    "    n_clusters = len(np.unique(labels))\n",
    "    if n_clusters < 2:\n",
    "        continue\n",
    "\n",
    "    files = []\n",
    "    # Leiden\n",
    "    color_map = {str(i): adata.uns['leiden_sub_colors'][i] for i in range(len(adata.obs['leiden_sub'].unique()))}\n",
    "    path = os.path.join(temp_dir, 'leiden.txt')\n",
    "    header = f'DATASET_COLORSTRIP\\nSEPARATOR TAB\\nCOLOR\\t#000000\\nDATASET_LABEL\\tleiden\\nSTRIP_WIDTH\\t80\\nMARGIN\\t20\\nSHOW_INTERNAL\\t0\\nDATA\\n\\n'\n",
    "    with open(path, 'w') as f:\n",
    "        f.write(header)\n",
    "        for cell in tree_cass.get_leaf_names():\n",
    "            if cell in adata.obs.index:\n",
    "                f.write(f'{cell}\\t{color_map[adata.obs.loc[cell][\"leiden\"]]}\\n')\n",
    "            else:\n",
    "                f.write(f'{cell}\\t#FFFFFF\\n')\n",
    "#         files.append(path)\n",
    "\n",
    "    cmap = mpl.cm.tab10\n",
    "    color_map = {i+1: f'rgb({\",\".join(str(int(c * 255)) for c in cmap(i / 6)[:-1])})' for i in range(cmap.N)}\n",
    "    name = f'cluster_{n_clusters}'\n",
    "    header = f'DATASET_COLORSTRIP\\nSEPARATOR TAB\\nCOLOR\\t#000000\\nDATASET_LABEL\\t{name}\\nSTRIP_WIDTH\\t80\\nMARGIN\\t20\\nSHOW_INTERNAL\\t0\\nDATA\\n\\n'\n",
    "    path = os.path.join(temp_dir, f'{name}.txt')\n",
    "    with open(path, 'w') as f:\n",
    "        f.write(header)\n",
    "        f.write(df_counts['labels'].map(color_map).to_csv(sep='\\t', header=None))\n",
    "    files.append(path)\n",
    "\n",
    "    plot_tree_itol.upload_to_itol(\n",
    "        tree_cass,\n",
    "        apiKey,\n",
    "        projectName,\n",
    "        target,\n",
    "        files=files,\n",
    "        outfp=os.path.join(plot_dir, f'{target}_colorstrip_{n_clusters}.pdf'),\n",
    "        rect=False,\n",
    "        line_width=8,\n",
    "    )\n",
    "\n",
    "shutil.rmtree(temp_dir, ignore_errors=True)"
   ]
  },
  {
   "cell_type": "code",
   "execution_count": null,
   "metadata": {},
   "outputs": [],
   "source": []
  }
 ],
 "metadata": {
  "kernelspec": {
   "display_name": "Python 3 (ipykernel)",
   "language": "python",
   "name": "python3"
  },
  "language_info": {
   "codemirror_mode": {
    "name": "ipython",
    "version": 3
   },
   "file_extension": ".py",
   "mimetype": "text/x-python",
   "name": "python",
   "nbconvert_exporter": "python",
   "pygments_lexer": "ipython3",
   "version": "3.8.5"
  }
 },
 "nbformat": 4,
 "nbformat_minor": 4
}

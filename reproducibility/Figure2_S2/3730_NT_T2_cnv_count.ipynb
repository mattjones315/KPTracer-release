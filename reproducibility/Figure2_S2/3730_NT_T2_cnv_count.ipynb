{
 "cells": [
  {
   "cell_type": "code",
   "execution_count": 1,
   "id": "55043794",
   "metadata": {},
   "outputs": [],
   "source": [
    "import glob\n",
    "import os\n",
    "import sys\n",
    "import tempfile\n",
    "import shutil\n",
    "from ast import literal_eval\n",
    "from tqdm import tqdm\n",
    "\n",
    "import anndata\n",
    "from ete3 import Tree\n",
    "import numpy as np\n",
    "import pandas as pd\n",
    "import scanpy as sc\n",
    "import matplotlib as mpl\n",
    "import matplotlib.pyplot as plt\n",
    "import seaborn as sns\n",
    "from scipy.cluster import hierarchy\n",
    "\n",
    "sys.path.insert(0, '/lab/solexa_weissman/kmin/git/KPTracer-release/cassiopeia-kp')\n",
    "sys.path.append('/lab/solexa_weissman/kmin/kp_infercnv/NT')\n",
    "from utilities import plot_tree_itol\n",
    "from utilities import clonal_expansions"
   ]
  },
  {
   "cell_type": "code",
   "execution_count": 2,
   "id": "f0a55519",
   "metadata": {},
   "outputs": [],
   "source": [
    "apiKey = ''\n",
    "projectName = 'KP_Trees_Joseph' ## Specify the project name\n",
    "plot_dir = 'plots'"
   ]
  },
  {
   "cell_type": "code",
   "execution_count": 3,
   "id": "586ce392",
   "metadata": {},
   "outputs": [
    {
     "name": "stdout",
     "output_type": "stream",
     "text": [
      "3730_NT_T2\n",
      "iTOL output: SUCCESS: 1841168140801639431876\n",
      "\n",
      "Tree Web Page URL: http://itol.embl.de/external.cgi?tree=1841168140801639431876&restore_saved=1\n",
      "Warnings: []\n"
     ]
    }
   ],
   "source": [
    "target = '3730_NT_T2'\n",
    "print(target)    \n",
    "threshold = '0.2'\n",
    "out_dir = f'{target}_grouped{\"_0.2\" if threshold == \"0.2\" else \"\"}'\n",
    "\n",
    "# Load CNVs\n",
    "df_regions = pd.read_csv(f'{out_dir}/HMM_CNV_predictions.HMMi6.rand_trees.hmm_mode-subclusters.Pnorm_{threshold}.pred_cnv_regions.dat', sep='\\t')\n",
    "df_cells = pd.read_csv(f'{out_dir}/17_HMM_predHMMi6.rand_trees.hmm_mode-subclusters.cell_groupings', sep='\\t')\n",
    "\n",
    "# Load Cassiopeia tree\n",
    "df_model = pd.read_csv('/lab/solexa_weissman/mgjones/projects/kptc/trees/tumor_model.txt', sep='\\t', index_col=0)\n",
    "tree_cass = Tree(f'/lab/solexa_weissman/mgjones/projects/kptc/trees/{target}/{df_model.loc[target][\"Newick\"]}', format=1)\n",
    "\n",
    "# Load expansions\n",
    "expansions = []\n",
    "for expansion_path in glob.glob(f'/lab/solexa_weissman/mgjones/projects/kptc/trees/{target}/clonal_expansions.{target}.expansion*.txt'):\n",
    "    expansions.append(list(pd.read_csv(expansion_path, sep='\\t', index_col=0)['0']))\n",
    "\n",
    "# Cells present in both trees\n",
    "cells = set(df_cells['cell']).intersection(tree_cass.get_leaf_names())\n",
    "\n",
    "df_cells = df_cells[df_cells['cell'].isin(cells)]\n",
    "cnv_counts = dict(pd.merge(df_regions, df_cells, on='cell_group_name')[['cell', 'cnv_name']].groupby('cell').size())\n",
    "max_count = 17\n",
    "\n",
    "cmap = mpl.cm.viridis\n",
    "colors = {\n",
    "    cell: mpl.colors.to_hex(cmap(min(cnv_counts.get(cell, 0), max_count) / max_count))\n",
    "    for cell in cells\n",
    "}\n",
    "\n",
    "files = []\n",
    "temp_dir = tempfile.mkdtemp()\n",
    "path = os.path.join(temp_dir, 'colorstrip.txt')\n",
    "header = 'DATASET_COLORSTRIP\\nSEPARATOR TAB\\nCOLOR\\t#000000\\nDATASET_LABEL\\tcnv_count\\nSTRIP_WIDTH\\t100\\nMARGIN\\t80\\nSHOW_INTERNAL\\t0\\nDATA\\n\\n'\n",
    "with open(path, 'w') as f:\n",
    "    f.write(header)\n",
    "    for cell, color in colors.items():\n",
    "        f.write(f'{cell}\\t{color}\\n')\n",
    "files.append(path)\n",
    "\n",
    "# Style for expansions\n",
    "path = os.path.join(temp_dir, 'styles.txt')\n",
    "header = f'DATASET_STYLE\\nSEPARATOR TAB\\nDATASET_LABEL\\tstyles\\nCOLOR\\t#000000\\nDATA\\n\\n'\n",
    "with open(path, 'w') as f:\n",
    "    f.write(header)\n",
    "    for expansion in expansions:\n",
    "        ancestor = tree_cass.get_common_ancestor(*expansion)\n",
    "        f.write(f'{ancestor.name}\\tbranch\\tclade\\t#FF0000\\t1\\tnormal\\n')\n",
    "files.append(path)\n",
    "\n",
    "plot_tree_itol.upload_to_itol(\n",
    "    tree_cass,\n",
    "    apiKey,\n",
    "    projectName,\n",
    "    target,\n",
    "    files=files,\n",
    "    outfp=os.path.join(plot_dir, f'{target}_cnv_count.pdf'),\n",
    "    rect=False,\n",
    "    line_width=8,\n",
    ")\n",
    "shutil.rmtree(temp_dir, ignore_errors=True)"
   ]
  },
  {
   "cell_type": "code",
   "execution_count": 5,
   "id": "7ab64e64",
   "metadata": {},
   "outputs": [
    {
     "data": {
      "text/html": [
       "\n",
       "        <iframe\n",
       "            width=\"500\"\n",
       "            height=\"500\"\n",
       "            src=\"plots/3730_NT_T2_cnv_count.pdf\"\n",
       "            frameborder=\"0\"\n",
       "            allowfullscreen\n",
       "            \n",
       "        ></iframe>\n",
       "        "
      ],
      "text/plain": [
       "<IPython.lib.display.IFrame at 0x7ff160be5160>"
      ]
     },
     "execution_count": 5,
     "metadata": {},
     "output_type": "execute_result"
    }
   ],
   "source": [
    "from IPython.display import IFrame\n",
    "IFrame(os.path.join(plot_dir, f'{target}_cnv_count.pdf'), width=500, height=500)"
   ]
  },
  {
   "cell_type": "code",
   "execution_count": null,
   "id": "cbdaebee",
   "metadata": {},
   "outputs": [],
   "source": []
  }
 ],
 "metadata": {
  "kernelspec": {
   "display_name": "Python 3 (ipykernel)",
   "language": "python",
   "name": "python3"
  },
  "language_info": {
   "codemirror_mode": {
    "name": "ipython",
    "version": 3
   },
   "file_extension": ".py",
   "mimetype": "text/x-python",
   "name": "python",
   "nbconvert_exporter": "python",
   "pygments_lexer": "ipython3",
   "version": "3.8.5"
  }
 },
 "nbformat": 4,
 "nbformat_minor": 5
}
